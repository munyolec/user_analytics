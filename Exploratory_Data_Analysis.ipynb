{
  "nbformat": 4,
  "nbformat_minor": 0,
  "metadata": {
    "colab": {
      "name": "Exploratory_Data_Analysis.ipynb",
      "provenance": [],
      "collapsed_sections": [
        "mBrtKWrZDtsb",
        "0D6GPlGfDqjv",
        "aWGATISZDm78",
        "1Jl4tikqeFQw",
        "8xQhZ3ivDif5",
        "xjPc65mWDb7G",
        "74P8HVjuDy6M",
        "p6FMstOQaSrn",
        "BAcuOv6QalY2"
      ],
      "toc_visible": true,
      "authorship_tag": "ABX9TyPSC/VFB9W30YfbLnssDewz"
    },
    "kernelspec": {
      "name": "python3",
      "display_name": "Python 3"
    }
  },
  "cells": [
    {
      "cell_type": "code",
      "metadata": {
        "id": "JmYDQXA0jJpm",
        "colab_type": "code",
        "colab": {
          "base_uri": "https://localhost:8080/",
          "height": 170
        },
        "outputId": "dd784d21-a18d-43df-a302-b486b89ecd09"
      },
      "source": [
        "!pip install openpyxl \n",
        "!pip install -U nltk\n",
        "!pip install pymysql\n",
        "\n",
        "import numpy as np\n",
        "import pandas as pd\n",
        "# sudo apt-get install python3-pymysql\n",
        "from pandas import read_excel\n",
        "import seaborn as sns\n",
        "import statsmodels.api as sm\n",
        "import sqlalchemy\n",
        "import pymysql\n",
        "import matplotlib.pyplot as plt\n",
        "\n",
        "from sqlalchemy import create_engine\n",
        "\n",
        "from statistics import *\n",
        "from sklearn import preprocessing\n",
        "from sklearn.preprocessing import MinMaxScaler\n",
        "from sklearn.cluster import KMeans\n",
        "from sklearn.cluster import SpectralClustering\n",
        "from sklearn.preprocessing import StandardScaler\n",
        "from sklearn import linear_model\n",
        "from sklearn.linear_model import LinearRegression\n",
        "from sklearn.feature_extraction.text import TfidfVectorizer, CountVectorizer, TfidfTransformer\n",
        "from sklearn.decomposition import PCA\n",
        "from matplotlib import style\n",
        "from mpl_toolkits.mplot3d import Axes3D\n",
        "\n"
      ],
      "execution_count": 135,
      "outputs": [
        {
          "output_type": "stream",
          "text": [
            "Requirement already satisfied: openpyxl in /usr/local/lib/python3.6/dist-packages (2.5.9)\n",
            "Requirement already satisfied: et-xmlfile in /usr/local/lib/python3.6/dist-packages (from openpyxl) (1.0.1)\n",
            "Requirement already satisfied: jdcal in /usr/local/lib/python3.6/dist-packages (from openpyxl) (1.4.1)\n",
            "Requirement already up-to-date: nltk in /usr/local/lib/python3.6/dist-packages (3.5)\n",
            "Requirement already satisfied, skipping upgrade: joblib in /usr/local/lib/python3.6/dist-packages (from nltk) (0.16.0)\n",
            "Requirement already satisfied, skipping upgrade: tqdm in /usr/local/lib/python3.6/dist-packages (from nltk) (4.41.1)\n",
            "Requirement already satisfied, skipping upgrade: click in /usr/local/lib/python3.6/dist-packages (from nltk) (7.1.2)\n",
            "Requirement already satisfied, skipping upgrade: regex in /usr/local/lib/python3.6/dist-packages (from nltk) (2019.12.20)\n",
            "Requirement already satisfied: pymysql in /usr/local/lib/python3.6/dist-packages (0.10.0)\n"
          ],
          "name": "stdout"
        }
      ]
    },
    {
      "cell_type": "code",
      "metadata": {
        "id": "w8ChFVybo6um",
        "colab_type": "code",
        "colab": {
          "base_uri": "https://localhost:8080/",
          "height": 34
        },
        "outputId": "82492492-346d-481b-a3a0-cfb141743f95"
      },
      "source": [
        "from google.colab import drive\n",
        "drive.mount ('/content/drive')"
      ],
      "execution_count": 136,
      "outputs": [
        {
          "output_type": "stream",
          "text": [
            "Drive already mounted at /content/drive; to attempt to forcibly remount, call drive.mount(\"/content/drive\", force_remount=True).\n"
          ],
          "name": "stdout"
        }
      ]
    },
    {
      "cell_type": "code",
      "metadata": {
        "id": "MYIERObBkAG4",
        "colab_type": "code",
        "colab": {}
      },
      "source": [
        "my_sheet = 'Sheet1' # change it to your sheet name\n",
        "file_name = 'drive/My Drive/Week2_challenge_data_source.xlsx' # change it to the name of your excel file\n",
        "df = read_excel(file_name, sheet_name = my_sheet, usecols=\"H,AD,AE\")\n",
        "# df"
      ],
      "execution_count": 137,
      "outputs": []
    },
    {
      "cell_type": "markdown",
      "metadata": {
        "id": "eEo1YpyBY1Hx",
        "colab_type": "text"
      },
      "source": [
        "##Handsets\n"
      ]
    },
    {
      "cell_type": "code",
      "metadata": {
        "id": "kqU93vdcpY3f",
        "colab_type": "code",
        "colab": {
          "base_uri": "https://localhost:8080/",
          "height": 51
        },
        "outputId": "8d0d6403-ff6b-4b72-ef04-25f912c9187a"
      },
      "source": [
        "df['Handset Type'].value_counts()[df['Handset Type'].value_counts() == df['Handset Type'].value_counts().max()]"
      ],
      "execution_count": 138,
      "outputs": [
        {
          "output_type": "execute_result",
          "data": {
            "text/plain": [
              "Huawei B528S-23A    19752\n",
              "Name: Handset Type, dtype: int64"
            ]
          },
          "metadata": {
            "tags": []
          },
          "execution_count": 138
        }
      ]
    },
    {
      "cell_type": "code",
      "metadata": {
        "id": "Tj5XgU8kr014",
        "colab_type": "code",
        "colab": {
          "base_uri": "https://localhost:8080/",
          "height": 187
        },
        "outputId": "c03c9ac8-c5b6-4765-c195-b590fb042726"
      },
      "source": [
        "#top 10 handset types\n",
        "n = 10\n",
        "df['Handset Type'].value_counts()[:n].index.tolist()"
      ],
      "execution_count": 139,
      "outputs": [
        {
          "output_type": "execute_result",
          "data": {
            "text/plain": [
              "['Huawei B528S-23A',\n",
              " 'Apple iPhone 6S (A1688)',\n",
              " 'Apple iPhone 6 (A1586)',\n",
              " 'undefined',\n",
              " 'Apple iPhone 7 (A1778)',\n",
              " 'Apple iPhone Se (A1723)',\n",
              " 'Apple iPhone 8 (A1905)',\n",
              " 'Apple iPhone Xr (A2105)',\n",
              " 'Samsung Galaxy S8 (Sm-G950F)',\n",
              " 'Apple iPhone X (A1901)']"
            ]
          },
          "metadata": {
            "tags": []
          },
          "execution_count": 139
        }
      ]
    },
    {
      "cell_type": "code",
      "metadata": {
        "id": "R9IlVQx0skj4",
        "colab_type": "code",
        "colab": {
          "base_uri": "https://localhost:8080/",
          "height": 34
        },
        "outputId": "1557ea72-b131-4974-a4ad-fb507c18ed57"
      },
      "source": [
        "#top 3 handset manufacturers\n",
        "n = 3\n",
        "top_manufacturer_df=df['Handset Manufacturer'].value_counts()[:n].index.tolist()\n",
        "top_manufacturer_df"
      ],
      "execution_count": 140,
      "outputs": [
        {
          "output_type": "execute_result",
          "data": {
            "text/plain": [
              "['Apple', 'Samsung', 'Huawei']"
            ]
          },
          "metadata": {
            "tags": []
          },
          "execution_count": 140
        }
      ]
    },
    {
      "cell_type": "code",
      "metadata": {
        "id": "ACDMqC2Lsth4",
        "colab_type": "code",
        "colab": {
          "base_uri": "https://localhost:8080/",
          "height": 419
        },
        "outputId": "cd519f97-9ca7-4258-9903-c8f8779e7cfa"
      },
      "source": [
        "df.groupby(['Handset Manufacturer', 'Handset Type']).size().reset_index(name='count').sort_values(['Handset Type','Handset Manufacturer']).groupby('Handset Manufacturer').head(3)"
      ],
      "execution_count": 141,
      "outputs": [
        {
          "output_type": "execute_result",
          "data": {
            "text/html": [
              "<div>\n",
              "<style scoped>\n",
              "    .dataframe tbody tr th:only-of-type {\n",
              "        vertical-align: middle;\n",
              "    }\n",
              "\n",
              "    .dataframe tbody tr th {\n",
              "        vertical-align: top;\n",
              "    }\n",
              "\n",
              "    .dataframe thead th {\n",
              "        text-align: right;\n",
              "    }\n",
              "</style>\n",
              "<table border=\"1\" class=\"dataframe\">\n",
              "  <thead>\n",
              "    <tr style=\"text-align: right;\">\n",
              "      <th></th>\n",
              "      <th>Handset Manufacturer</th>\n",
              "      <th>Handset Type</th>\n",
              "      <th>count</th>\n",
              "    </tr>\n",
              "  </thead>\n",
              "  <tbody>\n",
              "    <tr>\n",
              "      <th>0</th>\n",
              "      <td>A-Link Telecom International Co Limited</td>\n",
              "      <td>A-Link Telecom I. Cubot A5</td>\n",
              "      <td>1</td>\n",
              "    </tr>\n",
              "    <tr>\n",
              "      <th>1</th>\n",
              "      <td>A-Link Telecom International Co Limited</td>\n",
              "      <td>A-Link Telecom I. Cubot Note Plus</td>\n",
              "      <td>1</td>\n",
              "    </tr>\n",
              "    <tr>\n",
              "      <th>2</th>\n",
              "      <td>A-Link Telecom International Co Limited</td>\n",
              "      <td>A-Link Telecom I. Cubot Note S</td>\n",
              "      <td>1</td>\n",
              "    </tr>\n",
              "    <tr>\n",
              "      <th>14</th>\n",
              "      <td>Acer</td>\n",
              "      <td>Acer Liquid M220</td>\n",
              "      <td>1</td>\n",
              "    </tr>\n",
              "    <tr>\n",
              "      <th>15</th>\n",
              "      <td>Acer</td>\n",
              "      <td>Acer Liquid Z220</td>\n",
              "      <td>1</td>\n",
              "    </tr>\n",
              "    <tr>\n",
              "      <th>...</th>\n",
              "      <td>...</td>\n",
              "      <td>...</td>\n",
              "      <td>...</td>\n",
              "    </tr>\n",
              "    <tr>\n",
              "      <th>1372</th>\n",
              "      <td>ZTE</td>\n",
              "      <td>Zte Blade A452 Blade A452</td>\n",
              "      <td>1</td>\n",
              "    </tr>\n",
              "    <tr>\n",
              "      <th>1393</th>\n",
              "      <td>Zyxel Communications Corp</td>\n",
              "      <td>Zyxel Communicat. Lte7460</td>\n",
              "      <td>1</td>\n",
              "    </tr>\n",
              "    <tr>\n",
              "      <th>1394</th>\n",
              "      <td>Zyxel Communications Corp</td>\n",
              "      <td>Zyxel Communicat. Sbg3600</td>\n",
              "      <td>1</td>\n",
              "    </tr>\n",
              "    <tr>\n",
              "      <th>1392</th>\n",
              "      <td>ZyXEL Communications Corp</td>\n",
              "      <td>Zyxel Communicat. Zyxel Wah7706</td>\n",
              "      <td>1</td>\n",
              "    </tr>\n",
              "    <tr>\n",
              "      <th>1395</th>\n",
              "      <td>undefined</td>\n",
              "      <td>undefined</td>\n",
              "      <td>8987</td>\n",
              "    </tr>\n",
              "  </tbody>\n",
              "</table>\n",
              "<p>331 rows × 3 columns</p>\n",
              "</div>"
            ],
            "text/plain": [
              "                         Handset Manufacturer  ... count\n",
              "0     A-Link Telecom International Co Limited  ...     1\n",
              "1     A-Link Telecom International Co Limited  ...     1\n",
              "2     A-Link Telecom International Co Limited  ...     1\n",
              "14                                       Acer  ...     1\n",
              "15                                       Acer  ...     1\n",
              "...                                       ...  ...   ...\n",
              "1372                                      ZTE  ...     1\n",
              "1393                Zyxel Communications Corp  ...     1\n",
              "1394                Zyxel Communications Corp  ...     1\n",
              "1392                ZyXEL Communications Corp  ...     1\n",
              "1395                                undefined  ...  8987\n",
              "\n",
              "[331 rows x 3 columns]"
            ]
          },
          "metadata": {
            "tags": []
          },
          "execution_count": 141
        }
      ]
    },
    {
      "cell_type": "code",
      "metadata": {
        "id": "gfRIvu4pxWPo",
        "colab_type": "code",
        "colab": {
          "base_uri": "https://localhost:8080/",
          "height": 419
        },
        "outputId": "d494134d-9984-40d4-d6ae-5b87f16c0660"
      },
      "source": [
        "df1=df.groupby([\"Handset Manufacturer\", \"Handset Type\"]).size().reset_index(name=\"count\").sort_values([\"Handset Manufacturer\",\"count\"],ascending=[1,0]).groupby('Handset Manufacturer').head(5)\n",
        "df1.to_csv('out3.csv')\n",
        "df1"
      ],
      "execution_count": 142,
      "outputs": [
        {
          "output_type": "execute_result",
          "data": {
            "text/html": [
              "<div>\n",
              "<style scoped>\n",
              "    .dataframe tbody tr th:only-of-type {\n",
              "        vertical-align: middle;\n",
              "    }\n",
              "\n",
              "    .dataframe tbody tr th {\n",
              "        vertical-align: top;\n",
              "    }\n",
              "\n",
              "    .dataframe thead th {\n",
              "        text-align: right;\n",
              "    }\n",
              "</style>\n",
              "<table border=\"1\" class=\"dataframe\">\n",
              "  <thead>\n",
              "    <tr style=\"text-align: right;\">\n",
              "      <th></th>\n",
              "      <th>Handset Manufacturer</th>\n",
              "      <th>Handset Type</th>\n",
              "      <th>count</th>\n",
              "    </tr>\n",
              "  </thead>\n",
              "  <tbody>\n",
              "    <tr>\n",
              "      <th>6</th>\n",
              "      <td>A-Link Telecom International Co Limited</td>\n",
              "      <td>A-Link Telecom I. Cubot X18 Plus</td>\n",
              "      <td>2</td>\n",
              "    </tr>\n",
              "    <tr>\n",
              "      <th>0</th>\n",
              "      <td>A-Link Telecom International Co Limited</td>\n",
              "      <td>A-Link Telecom I. Cubot A5</td>\n",
              "      <td>1</td>\n",
              "    </tr>\n",
              "    <tr>\n",
              "      <th>1</th>\n",
              "      <td>A-Link Telecom International Co Limited</td>\n",
              "      <td>A-Link Telecom I. Cubot Note Plus</td>\n",
              "      <td>1</td>\n",
              "    </tr>\n",
              "    <tr>\n",
              "      <th>2</th>\n",
              "      <td>A-Link Telecom International Co Limited</td>\n",
              "      <td>A-Link Telecom I. Cubot Note S</td>\n",
              "      <td>1</td>\n",
              "    </tr>\n",
              "    <tr>\n",
              "      <th>3</th>\n",
              "      <td>A-Link Telecom International Co Limited</td>\n",
              "      <td>A-Link Telecom I. Cubot Nova</td>\n",
              "      <td>1</td>\n",
              "    </tr>\n",
              "    <tr>\n",
              "      <th>...</th>\n",
              "      <td>...</td>\n",
              "      <td>...</td>\n",
              "      <td>...</td>\n",
              "    </tr>\n",
              "    <tr>\n",
              "      <th>1377</th>\n",
              "      <td>Zte</td>\n",
              "      <td>Zte Axon 6S Zte Axon 7 Axon 7</td>\n",
              "      <td>1</td>\n",
              "    </tr>\n",
              "    <tr>\n",
              "      <th>1392</th>\n",
              "      <td>ZyXEL Communications Corp</td>\n",
              "      <td>Zyxel Communicat. Zyxel Wah7706</td>\n",
              "      <td>1</td>\n",
              "    </tr>\n",
              "    <tr>\n",
              "      <th>1393</th>\n",
              "      <td>Zyxel Communications Corp</td>\n",
              "      <td>Zyxel Communicat. Lte7460</td>\n",
              "      <td>1</td>\n",
              "    </tr>\n",
              "    <tr>\n",
              "      <th>1394</th>\n",
              "      <td>Zyxel Communications Corp</td>\n",
              "      <td>Zyxel Communicat. Sbg3600</td>\n",
              "      <td>1</td>\n",
              "    </tr>\n",
              "    <tr>\n",
              "      <th>1395</th>\n",
              "      <td>undefined</td>\n",
              "      <td>undefined</td>\n",
              "      <td>8987</td>\n",
              "    </tr>\n",
              "  </tbody>\n",
              "</table>\n",
              "<p>434 rows × 3 columns</p>\n",
              "</div>"
            ],
            "text/plain": [
              "                         Handset Manufacturer  ... count\n",
              "6     A-Link Telecom International Co Limited  ...     2\n",
              "0     A-Link Telecom International Co Limited  ...     1\n",
              "1     A-Link Telecom International Co Limited  ...     1\n",
              "2     A-Link Telecom International Co Limited  ...     1\n",
              "3     A-Link Telecom International Co Limited  ...     1\n",
              "...                                       ...  ...   ...\n",
              "1377                                      Zte  ...     1\n",
              "1392                ZyXEL Communications Corp  ...     1\n",
              "1393                Zyxel Communications Corp  ...     1\n",
              "1394                Zyxel Communications Corp  ...     1\n",
              "1395                                undefined  ...  8987\n",
              "\n",
              "[434 rows x 3 columns]"
            ]
          },
          "metadata": {
            "tags": []
          },
          "execution_count": 142
        }
      ]
    },
    {
      "cell_type": "code",
      "metadata": {
        "id": "VsyKwvTEGWLD",
        "colab_type": "code",
        "colab": {}
      },
      "source": [
        "my_sheet = 'Sheet1' \n",
        "file_name = 'drive/My Drive/Week2_challenge_data_source.xlsx' \n",
        "df_user = read_excel(file_name, sheet_name = my_sheet, usecols=\"A,H,F,K,L,M,N,O,P,AE,BB,BC,AN,AO,AP,AQ,AR,AS,AT,AU,AV,AW,AX,AY,AZ,BA,BB,BC\")\n",
        "# df_user"
      ],
      "execution_count": 143,
      "outputs": []
    },
    {
      "cell_type": "code",
      "metadata": {
        "id": "kujNXll48-4R",
        "colab_type": "code",
        "colab": {
          "base_uri": "https://localhost:8080/",
          "height": 442
        },
        "outputId": "72ccc4a8-e93b-4504-a666-e130fc68d9d3"
      },
      "source": [
        "Q1 = df_user.quantile(0.25)\n",
        "Q3 = df_user.quantile(0.75)\n",
        "IQR = Q3 - Q1\n",
        "print(IQR)"
      ],
      "execution_count": 144,
      "outputs": [
        {
          "output_type": "stream",
          "text": [
            "Dur. (ms)                      7.498975e+04\n",
            "MSISDN/Number                  3.219519e+07\n",
            "Avg RTT DL (ms)                3.800000e+01\n",
            "Avg RTT UL (ms)                1.300000e+01\n",
            "Avg Bearer TP DL (kbps)        1.966775e+04\n",
            "Avg Bearer TP UL (kbps)        1.073000e+03\n",
            "TCP DL Retrans. Vol (Bytes)    3.732657e+06\n",
            "TCP UL Retrans. Vol (Bytes)    7.932550e+04\n",
            "Social Media DL (Bytes)        1.795790e+06\n",
            "Social Media UL (Bytes)        3.288600e+04\n",
            "Google DL (Bytes)              5.741159e+06\n",
            "Google UL (Bytes)              2.064175e+06\n",
            "Email DL (Bytes)               1.796534e+06\n",
            "Email UL (Bytes)               4.670570e+05\n",
            "Youtube DL (Bytes)             1.161502e+07\n",
            "Youtube UL (Bytes)             1.099760e+07\n",
            "Netflix DL (Bytes)             1.169332e+07\n",
            "Netflix UL (Bytes)             1.103129e+07\n",
            "Gaming DL (Bytes)              4.227009e+08\n",
            "Gaming UL (Bytes)              8.303148e+06\n",
            "Other DL (Bytes)               4.215049e+08\n",
            "Other UL (Bytes)               8.238205e+06\n",
            "Total UL (Bytes)               1.581223e+07\n",
            "Total DL (Bytes)               4.225987e+08\n",
            "dtype: float64\n"
          ],
          "name": "stdout"
        }
      ]
    },
    {
      "cell_type": "code",
      "metadata": {
        "id": "7Edw3x-j9RHX",
        "colab_type": "code",
        "colab": {}
      },
      "source": [
        "# print(df_user < (Q1 - 1.5 * IQR)) |(df_user > (Q3 + 1.5 * IQR))\n"
      ],
      "execution_count": 145,
      "outputs": []
    },
    {
      "cell_type": "markdown",
      "metadata": {
        "id": "mBrtKWrZDtsb",
        "colab_type": "text"
      },
      "source": [
        "##SOCIAL MEDIA"
      ]
    },
    {
      "cell_type": "code",
      "metadata": {
        "id": "KKIbVKQmyTqc",
        "colab_type": "code",
        "colab": {}
      },
      "source": [
        "#total volume of social media in bytes\n",
        "sum_column = df_user[\"Social Media UL (Bytes)\"] + df_user[\"Social Media DL (Bytes)\"]\n",
        "sum_data=df_user['Total DL (Bytes)']+df_user['Total UL (Bytes)']\n",
        "df_user[\"Total Social Media Volume (Bytes)\"] = sum_column\n",
        "df_user['Total UL+Dl (Bytes)']=sum_data\n",
        "df_user.to_csv(\"social_media.csv\")\n",
        "sm_df=df_user.groupby('MSISDN/Number')['Total Social Media Volume (Bytes)'].sum().reset_index(name='Total_Social_Media_Volume')\n",
        "# sm_df\n",
        "\n",
        "# #min,max, average of social media \n",
        "# sm_df['Total_Social_Media_Volume'].describe()\n",
        "\n",
        "#plot\n",
        "# (sm_df['Total_Social_Media_Volume'].value_counts().head(10) / len(sm_df)).plot.bar()\n",
        "# sns.distplot(sm_df.Total_Social_Media_Volume.dropna(), kde=False, bins = 50)\n",
        "\n",
        "#top 10 users\n",
        "sm_df_1=sm_df.nlargest(10,'Total_Social_Media_Volume')\n",
        "sm_df_1.to_csv(\"socialmedia10.csv\")\n",
        "\n",
        "\n",
        "\n"
      ],
      "execution_count": 146,
      "outputs": []
    },
    {
      "cell_type": "markdown",
      "metadata": {
        "id": "0D6GPlGfDqjv",
        "colab_type": "text"
      },
      "source": [
        "##GOOGLE"
      ]
    },
    {
      "cell_type": "code",
      "metadata": {
        "id": "NA8hgM5e0mZS",
        "colab_type": "code",
        "colab": {}
      },
      "source": [
        "#total volume of google in bytes\n",
        "sum_column1 = df_user[\"Google UL (Bytes)\"] + df_user[\"Google DL (Bytes)\"]\n",
        "sum_data1=df_user['Total DL (Bytes)']+df_user['Total UL (Bytes)']\n",
        "df_user[\"Total Google Volume (Bytes)\"] = sum_column1\n",
        "df_user['Total UL+Dl (Bytes)']=sum_data1\n",
        "df_user.to_csv(\"google.csv\")\n",
        "gg_df=df_user.groupby('MSISDN/Number')['Total Google Volume (Bytes)'].sum().reset_index(name='Total_Google_Volume')\n",
        "# gg_df\n",
        "# #min,max, average of google \n",
        "gg_df['Total_Google_Volume'].describe()\n",
        "\n",
        "#plot\n",
        "# (gg_df['Total Google Volume (Bytes)'].value_counts().head(10) / len(sm_df)).plot.bar()\n",
        "# sns.distplot(gg_df.Total_Google_Volume.dropna(), kde=False, bins = 50)\n",
        "\n",
        "\n",
        "#top 10 users\n",
        "gg_df_1=gg_df.nlargest(10,'Total_Google_Volume')\n",
        "gg_df_1.to_csv(\"google10.csv\")\n",
        "\n",
        "\n"
      ],
      "execution_count": 147,
      "outputs": []
    },
    {
      "cell_type": "markdown",
      "metadata": {
        "id": "aWGATISZDm78",
        "colab_type": "text"
      },
      "source": [
        "##EMAIL"
      ]
    },
    {
      "cell_type": "code",
      "metadata": {
        "id": "JdmsMtI911xL",
        "colab_type": "code",
        "colab": {}
      },
      "source": [
        "#total volume of email in bytes\n",
        "sum_column2 = df_user[\"Email UL (Bytes)\"] + df_user[\"Email DL (Bytes)\"]\n",
        "sum_data2=df_user['Total DL (Bytes)']+df_user['Total UL (Bytes)']\n",
        "df_user['Total UL+Dl (Bytes)']=sum_data2\n",
        "df_user[\"Total Email Volume (Bytes)\"] = sum_column2\n",
        "df_user.to_csv(\"email.csv\")\n",
        "em_df=df_user.groupby('MSISDN/Number')['Total Email Volume (Bytes)'].sum().reset_index(name='Total Email volume (Bytes)')\n",
        "# em_df\n",
        "\n",
        "# #min,max, average of email \n",
        "# em_df['Total Email volume (Bytes)'].describe()\n",
        "\n",
        "\n",
        "#plot\n",
        "# (em_df['Total Email volume (Bytes)'].value_counts().head(10) / len(sm_df)).plot.bar()\n",
        "\n",
        "\n",
        "#top 10 users\n",
        "em_df_1=em_df.nlargest(10,'Total Email volume (Bytes)')\n",
        "em_df_1.to_csv(\"email10.csv\")\n",
        "\n",
        "\n"
      ],
      "execution_count": 148,
      "outputs": []
    },
    {
      "cell_type": "markdown",
      "metadata": {
        "id": "1Jl4tikqeFQw",
        "colab_type": "text"
      },
      "source": [
        "##Netflix"
      ]
    },
    {
      "cell_type": "code",
      "metadata": {
        "id": "lCwUrt2xAwKV",
        "colab_type": "code",
        "colab": {}
      },
      "source": [
        "#total volume of netflix in bytes\n",
        "sum_colum = df_user[\"Netflix UL (Bytes)\"] + df_user[\"Netflix DL (Bytes)\"]\n",
        "sum_dat=df_user['Total DL (Bytes)']+df_user['Total UL (Bytes)']\n",
        "df_user['Total UL+Dl (Bytes)']=sum_dat\n",
        "df_user[\"Total Netflix Volume (Bytes)\"] = sum_colum\n",
        "df_user.to_csv(\"email.csv\")\n",
        "nf_df=df_user.groupby('MSISDN/Number')['Total Netflix Volume (Bytes)'].sum().reset_index(name='Total Netflix volume (Bytes)')\n",
        "# nf_df\n",
        "\n",
        "# #min,max, average of netflix \n",
        "# nf_df['Total Netflix volume (Bytes)'].describe()\n",
        "\n",
        "\n",
        "#plot\n",
        "# (nf_df['Total Netflix volume (Bytes)'].value_counts().head(10) / len(sm_df)).plot.bar()\n",
        "\n",
        "\n",
        "#top 10 users\n",
        "nf_df_1=nf_df.nlargest(10,'Total Netflix volume (Bytes)')\n",
        "nf_df_1.to_csv(\"netflix10.csv\")\n",
        "\n",
        "\n"
      ],
      "execution_count": 149,
      "outputs": []
    },
    {
      "cell_type": "markdown",
      "metadata": {
        "id": "8xQhZ3ivDif5",
        "colab_type": "text"
      },
      "source": [
        "##YOUTUBE"
      ]
    },
    {
      "cell_type": "code",
      "metadata": {
        "id": "ym89QluQ164J",
        "colab_type": "code",
        "colab": {}
      },
      "source": [
        "#total volume of youtube in bytes\n",
        "sum_column3 = df_user[\"Youtube UL (Bytes)\"] + df_user[\"Youtube DL (Bytes)\"]\n",
        "sum_data3=df_user['Total DL (Bytes)']+df_user['Total UL (Bytes)']\n",
        "df_user[\"Total Youtube Volume (Bytes)\"] = sum_column3\n",
        "df_user['Total UL+Dl (Bytes)']=sum_data3\n",
        "df_user.to_csv(\"youtube.csv\")\n",
        "yt_df=df_user.groupby('MSISDN/Number')['Total Youtube Volume (Bytes)'].sum().reset_index(name='Total Youtube Volume (Bytes)')\n",
        "# yt_df\n",
        "\n",
        "# #min,max, average of Youtube \n",
        "# yt_df['Total Youtube Volume (Bytes)'].describe()\n",
        "\n",
        "#plot\n",
        "# (yt_df['Total Youtube Volume (Bytes)'].value_counts().head(10) / len(sm_df)).plot.bar()\n",
        "\n",
        "#top 10 users\n",
        "yt_df_1=yt_df.nlargest(10,'Total Youtube Volume (Bytes)')\n",
        "yt_df_1.to_csv(\"youtube10.csv\")\n",
        "\n"
      ],
      "execution_count": 150,
      "outputs": []
    },
    {
      "cell_type": "markdown",
      "metadata": {
        "id": "xjPc65mWDb7G",
        "colab_type": "text"
      },
      "source": [
        "##GAMING APPLICATION"
      ]
    },
    {
      "cell_type": "code",
      "metadata": {
        "id": "9hb_naiL2Qdw",
        "colab_type": "code",
        "colab": {}
      },
      "source": [
        "#total volume of gaming in bytes\n",
        "sum_column5 = df_user[\"Gaming UL (Bytes)\"] + df_user[\"Gaming DL (Bytes)\"]\n",
        "sum_data5=df_user['Total DL (Bytes)']+df_user['Total UL (Bytes)']\n",
        "df_user['Total UL+Dl (Bytes)']=sum_data5\n",
        "df_user[\"Total Gaming Volume (Bytes)\"] = sum_column5\n",
        "df_user.to_csv(\"gaming.csv\")\n",
        "gm_df=df_user.groupby('MSISDN/Number')['Total Gaming Volume (Bytes)'].sum().reset_index(name='Total Gaming Volume (Bytes)')\n",
        "# gm_df\n",
        "\n",
        "# #min,max, average of Gaming \n",
        "gm_df['Total Gaming Volume (Bytes)'].describe()\n",
        "\n",
        "#plot\n",
        "# (gm_df['Total Gaming Volume (Bytes)'].value_counts().head(10) / len(sm_df)).plot.bar()\n",
        "\n",
        "gm_df_1=gm_df.nlargest(10,'Total Gaming Volume (Bytes)')\n",
        "gm_df_1.to_csv(\"gaming10.csv\")\n"
      ],
      "execution_count": 151,
      "outputs": []
    },
    {
      "cell_type": "markdown",
      "metadata": {
        "id": "74P8HVjuDy6M",
        "colab_type": "text"
      },
      "source": [
        "##OTHER"
      ]
    },
    {
      "cell_type": "code",
      "metadata": {
        "id": "NBFERrM62jfb",
        "colab_type": "code",
        "colab": {
          "base_uri": "https://localhost:8080/",
          "height": 0
        },
        "outputId": "912e6219-1bf9-4837-a809-e7b782669207"
      },
      "source": [
        "#total volume of other in bytes\n",
        "sum_column = df_user[\"Other UL (Bytes)\"] + df_user[\"Other DL (Bytes)\"]\n",
        "df_user[\"Total Other Volume (Bytes)\"] = sum_column\n",
        "other_df=df_user.groupby('MSISDN/Number')['Total Other Volume (Bytes)'].sum().reset_index(name=\"Total Other Volume(Bytes)\")\n",
        "other_df\n"
      ],
      "execution_count": 152,
      "outputs": [
        {
          "output_type": "execute_result",
          "data": {
            "text/html": [
              "<div>\n",
              "<style scoped>\n",
              "    .dataframe tbody tr th:only-of-type {\n",
              "        vertical-align: middle;\n",
              "    }\n",
              "\n",
              "    .dataframe tbody tr th {\n",
              "        vertical-align: top;\n",
              "    }\n",
              "\n",
              "    .dataframe thead th {\n",
              "        text-align: right;\n",
              "    }\n",
              "</style>\n",
              "<table border=\"1\" class=\"dataframe\">\n",
              "  <thead>\n",
              "    <tr style=\"text-align: right;\">\n",
              "      <th></th>\n",
              "      <th>MSISDN/Number</th>\n",
              "      <th>Total Other Volume(Bytes)</th>\n",
              "    </tr>\n",
              "  </thead>\n",
              "  <tbody>\n",
              "    <tr>\n",
              "      <th>0</th>\n",
              "      <td>3.360100e+10</td>\n",
              "      <td>386570872.0</td>\n",
              "    </tr>\n",
              "    <tr>\n",
              "      <th>1</th>\n",
              "      <td>3.360100e+10</td>\n",
              "      <td>281710071.0</td>\n",
              "    </tr>\n",
              "    <tr>\n",
              "      <th>2</th>\n",
              "      <td>3.360100e+10</td>\n",
              "      <td>501693672.0</td>\n",
              "    </tr>\n",
              "    <tr>\n",
              "      <th>3</th>\n",
              "      <td>3.360101e+10</td>\n",
              "      <td>35279702.0</td>\n",
              "    </tr>\n",
              "    <tr>\n",
              "      <th>4</th>\n",
              "      <td>3.360101e+10</td>\n",
              "      <td>804804484.0</td>\n",
              "    </tr>\n",
              "    <tr>\n",
              "      <th>...</th>\n",
              "      <td>...</td>\n",
              "      <td>...</td>\n",
              "    </tr>\n",
              "    <tr>\n",
              "      <th>106851</th>\n",
              "      <td>3.379000e+10</td>\n",
              "      <td>295282817.0</td>\n",
              "    </tr>\n",
              "    <tr>\n",
              "      <th>106852</th>\n",
              "      <td>3.379000e+10</td>\n",
              "      <td>211115113.0</td>\n",
              "    </tr>\n",
              "    <tr>\n",
              "      <th>106853</th>\n",
              "      <td>3.197021e+12</td>\n",
              "      <td>470526473.0</td>\n",
              "    </tr>\n",
              "    <tr>\n",
              "      <th>106854</th>\n",
              "      <td>3.370000e+14</td>\n",
              "      <td>149188439.0</td>\n",
              "    </tr>\n",
              "    <tr>\n",
              "      <th>106855</th>\n",
              "      <td>8.823971e+14</td>\n",
              "      <td>401360457.0</td>\n",
              "    </tr>\n",
              "  </tbody>\n",
              "</table>\n",
              "<p>106856 rows × 2 columns</p>\n",
              "</div>"
            ],
            "text/plain": [
              "        MSISDN/Number  Total Other Volume(Bytes)\n",
              "0        3.360100e+10                386570872.0\n",
              "1        3.360100e+10                281710071.0\n",
              "2        3.360100e+10                501693672.0\n",
              "3        3.360101e+10                 35279702.0\n",
              "4        3.360101e+10                804804484.0\n",
              "...               ...                        ...\n",
              "106851   3.379000e+10                295282817.0\n",
              "106852   3.379000e+10                211115113.0\n",
              "106853   3.197021e+12                470526473.0\n",
              "106854   3.370000e+14                149188439.0\n",
              "106855   8.823971e+14                401360457.0\n",
              "\n",
              "[106856 rows x 2 columns]"
            ]
          },
          "metadata": {
            "tags": []
          },
          "execution_count": 152
        }
      ]
    },
    {
      "cell_type": "code",
      "metadata": {
        "id": "MgYpWDlJkzsv",
        "colab_type": "code",
        "colab": {
          "base_uri": "https://localhost:8080/",
          "height": 0
        },
        "outputId": "347db60b-ec15-45bd-afa1-2088a73ad6c8"
      },
      "source": [
        "top_3_apps=[gm_df[\"Total Gaming Volume (Bytes)\"],sm_df()]"
      ],
      "execution_count": 153,
      "outputs": [
        {
          "output_type": "error",
          "ename": "TypeError",
          "evalue": "ignored",
          "traceback": [
            "\u001b[0;31m---------------------------------------------------------------------------\u001b[0m",
            "\u001b[0;31mTypeError\u001b[0m                                 Traceback (most recent call last)",
            "\u001b[0;32m<ipython-input-153-dbc356781cd5>\u001b[0m in \u001b[0;36m<module>\u001b[0;34m()\u001b[0m\n\u001b[0;32m----> 1\u001b[0;31m \u001b[0mtop_3_apps\u001b[0m\u001b[0;34m=\u001b[0m\u001b[0;34m[\u001b[0m\u001b[0mgm_df\u001b[0m\u001b[0;34m[\u001b[0m\u001b[0;34m\"Total Gaming Volume (Bytes)\"\u001b[0m\u001b[0;34m]\u001b[0m\u001b[0;34m,\u001b[0m\u001b[0msm_df\u001b[0m\u001b[0;34m(\u001b[0m\u001b[0;34m)\u001b[0m\u001b[0;34m]\u001b[0m\u001b[0;34m\u001b[0m\u001b[0;34m\u001b[0m\u001b[0m\n\u001b[0m",
            "\u001b[0;31mTypeError\u001b[0m: 'DataFrame' object is not callable"
          ]
        }
      ]
    },
    {
      "cell_type": "markdown",
      "metadata": {
        "id": "sX47lMwlD1fZ",
        "colab_type": "text"
      },
      "source": [
        "##XDR SESSIONS"
      ]
    },
    {
      "cell_type": "code",
      "metadata": {
        "id": "1fKE-MWUHWnL",
        "colab_type": "code",
        "colab": {}
      },
      "source": [
        "#number of xdr sessions per user\n",
        "xdr=df_user.groupby('MSISDN/Number')['Bearer Id'].count().reset_index(name='count')\n",
        "# xdr.to_csv(\"xdr.csv\")\n",
        "xdr\n",
        "\n",
        "#min,max, average of xdr sessions\n",
        "xdr['count'].describe()\n",
        "\n",
        "# #PLOT\n",
        "# # (xdr['count'].value_counts().head(10) / len(sm_df)).plot.bar()\n",
        "\n",
        "# #top 10 customers per session duration metric\n",
        "# # \n",
        "# xdr1=xdr.nlargest(10,'count')\n",
        "# xdr1.to_csv(\"sessions_10.csv\")\n"
      ],
      "execution_count": null,
      "outputs": []
    },
    {
      "cell_type": "markdown",
      "metadata": {
        "id": "5GoHznzaD41a",
        "colab_type": "text"
      },
      "source": [
        "##SESSION DURATION"
      ]
    },
    {
      "cell_type": "code",
      "metadata": {
        "id": "jhHCEl3lDmih",
        "colab_type": "code",
        "colab": {}
      },
      "source": [
        "#session duration per user\n",
        "dur_agg=df_user.groupby('MSISDN/Number')['Dur. (ms)'].sum().reset_index(name=\"sum\")\n",
        "dur_agg\n",
        "\n",
        "#min,max, average of sessions duration\n",
        "dur_agg[\"sum\"].describe()\n",
        "\n",
        "#plot\n",
        "(dur_agg['sum'].value_counts().head(10) / len(sm_df)).plot.bar()\n",
        "\n",
        "#top 10 customers per session duration metric\n",
        "dur_agg1=dur_agg.nlargest(10,'sum')\n",
        "dur_agg1.to_csv(\"duration_10.csv\")"
      ],
      "execution_count": null,
      "outputs": []
    },
    {
      "cell_type": "markdown",
      "metadata": {
        "id": "ZnNBnEKt1gNR",
        "colab_type": "text"
      },
      "source": [
        "##UL+DL"
      ]
    },
    {
      "cell_type": "code",
      "metadata": {
        "id": "n-USMWtAF51j",
        "colab_type": "code",
        "colab": {}
      },
      "source": [
        "#total UL data per user\n",
        "dur_agg_ul=df_user.groupby('MSISDN/Number')['Total UL (Bytes)'].sum().reset_index(name=\"sum\")\n",
        "dur_agg_ul\n",
        "\n",
        "# #min,max, average of UL sessions\n",
        "dur_agg_ul['sum'].describe()\n",
        "#plot\n",
        "# (dur_agg_ul['sum'].value_counts().head(10) / len(sm_df)).plot.bar()"
      ],
      "execution_count": null,
      "outputs": []
    },
    {
      "cell_type": "code",
      "metadata": {
        "id": "BKVEZQnW9BAw",
        "colab_type": "code",
        "colab": {}
      },
      "source": [
        "#top 10 customers per total Ul and DL metric\n",
        "sum_data7=df_user['Total DL (Bytes)']+df_user['Total UL (Bytes)']\n",
        "df_user['Total UL+DL']=sum_data7\n",
        "agg_ul_dl=df_user.groupby('MSISDN/Number')['Total UL+DL'].sum().reset_index(name=\"sum\")\n",
        "# agg_ul_dl\n",
        "agg_ul_dl1=agg_ul_dl.nlargest(10,'sum')\n",
        "agg_ul_dl1.to_csv(\"total_data10.csv\")\n",
        "\n",
        "\n",
        "\n",
        "# agg_ul_dl.plot(x=\"MSISDN/Number\", y=[\"sum\"], kind=\"bar\")\n",
        "# plt.show\n",
        "sns.barplot(x=\"MSISDN/Number\",y=\"sum\",data=agg_ul_dl1)\n",
        "plt.show()\n"
      ],
      "execution_count": null,
      "outputs": []
    },
    {
      "cell_type": "code",
      "metadata": {
        "id": "nfUOR3q3GQIQ",
        "colab_type": "code",
        "colab": {}
      },
      "source": [
        "#total DL data per user\n",
        "dur_agg_dl=df_user.groupby('MSISDN/Number')['Total DL (Bytes)'].sum().reset_index(name=\"sum\")\n",
        "# dur_agg_dl\n",
        "\n",
        "# #min,max, average of DL sessions\n",
        "dur_agg_dl['sum'].describe()\n",
        "\n",
        "#@title Default title text\n",
        "(dur_agg_dl['sum'].value_counts().head(10) / len(sm_df)).plot.bar()\n",
        "\n"
      ],
      "execution_count": null,
      "outputs": []
    },
    {
      "cell_type": "markdown",
      "metadata": {
        "id": "EZRlB-C81kHR",
        "colab_type": "text"
      },
      "source": [
        "##K means engagement metrics"
      ]
    },
    {
      "cell_type": "code",
      "metadata": {
        "id": "Cr_JMTcR1a8u",
        "colab_type": "code",
        "colab": {}
      },
      "source": [
        "#engagament metrics kmeans clustering\n",
        "data_eng = [xdr[\"count\"], dur_agg[\"sum\"],agg_ul_dl[\"sum\"]]\n",
        "headers = [\"session frequency\", \"Duration\",\n",
        "          \"Total Data\" ]     \n",
        "eng_metrics = pd.concat(data_eng, axis=1, keys=headers)\n",
        "eng_metrics\n",
        "\n",
        "kmeans = KMeans(n_clusters=3)\n",
        "\n",
        "y = kmeans.fit_predict(eng_metrics[['session frequency', 'Duration', 'Total Data',]])\n",
        "\n",
        "eng_metrics['Cluster'] = y\n",
        "\n",
        "eng000 = eng_metrics[eng_metrics.Cluster==0]\n",
        "eng000\n",
        "eng111 =  eng_metrics[eng_metrics.Cluster==1]\n",
        "eng111\n",
        "eng222 =  eng_metrics[eng_metrics.Cluster==2]\n",
        "eng222\n",
        "\n",
        "\n"
      ],
      "execution_count": null,
      "outputs": []
    },
    {
      "cell_type": "code",
      "metadata": {
        "id": "9PZ7V8b41ovB",
        "colab_type": "code",
        "colab": {}
      },
      "source": [
        "#normalize\n",
        "norm_metrics=(eng_metrics-eng_metrics.min())/(eng_metrics.max()-eng_metrics.min())\n",
        "\n",
        "kmeans = KMeans(n_clusters=3)\n",
        "\n",
        "y = kmeans.fit_predict(norm_metrics[['session frequency', 'Duration', 'Total Data',]])\n",
        "\n",
        "norm_metrics['Cluster'] = y\n",
        "norm_metrics\n",
        "\n",
        "eng00 = norm_metrics[norm_metrics.Cluster==0]\n",
        "eng00\n",
        "eng11 =  norm_metrics[norm_metrics.Cluster==1]\n",
        "eng11\n",
        "eng22 =  norm_metrics[norm_metrics.Cluster==2]\n",
        "eng22\n"
      ],
      "execution_count": null,
      "outputs": []
    },
    {
      "cell_type": "code",
      "metadata": {
        "id": "pRcbkJoMuZte",
        "colab_type": "code",
        "colab": {}
      },
      "source": [
        "e1=eng000.describe()\n",
        "e1.to_csv(\"engoo.csv\")\n",
        "e1\n"
      ],
      "execution_count": null,
      "outputs": []
    },
    {
      "cell_type": "code",
      "metadata": {
        "id": "u3O1vcyXuch4",
        "colab_type": "code",
        "colab": {}
      },
      "source": [
        "e2=eng111.describe()\n",
        "e2.to_csv(\"eng11.csv\")\n"
      ],
      "execution_count": null,
      "outputs": []
    },
    {
      "cell_type": "code",
      "metadata": {
        "id": "YFc8rJBzu89m",
        "colab_type": "code",
        "colab": {}
      },
      "source": [
        "e3=eng222.describe()\n",
        "e3.to_csv(\"eng22.csv\")\n"
      ],
      "execution_count": null,
      "outputs": []
    },
    {
      "cell_type": "code",
      "metadata": {
        "id": "Rq8sYZxplkHu",
        "colab_type": "code",
        "colab": {}
      },
      "source": [
        "alldistances = kmeans.fit_transform(norm_metrics)\n",
        "# alldistances\n",
        "ddf=pd.DataFrame(alldistances)\n",
        "ddf.columns = ['0','1','2']\n",
        "ddf"
      ],
      "execution_count": null,
      "outputs": []
    },
    {
      "cell_type": "code",
      "metadata": {
        "id": "Qly1xEx4koNA",
        "colab_type": "code",
        "colab": {}
      },
      "source": [
        "norm_metrics['Cluster'].value_counts()"
      ],
      "execution_count": null,
      "outputs": []
    },
    {
      "cell_type": "markdown",
      "metadata": {
        "id": "-riVe_dqwzAc",
        "colab_type": "text"
      },
      "source": [
        "##engagement score"
      ]
    },
    {
      "cell_type": "code",
      "metadata": {
        "id": "CFqrMeHcm99a",
        "colab_type": "code",
        "colab": {}
      },
      "source": [
        "#engagemnt score\n",
        "\n",
        "engagement_data= [df_user[\"MSISDN/Number\"],ddf[\"1\"]]\n",
        "engagement_data\n",
        "# headers = [\"MSISDN/Number\",\"engagement_score\"]  \n",
        "# engagement_score=pd.concat(engagement_data,axis=1,keys=headers)\n",
        "# engagement_score\n"
      ],
      "execution_count": null,
      "outputs": []
    },
    {
      "cell_type": "code",
      "metadata": {
        "id": "T5c8HS-46-b1",
        "colab_type": "code",
        "colab": {}
      },
      "source": [
        "data_eng1 = [xdr[\"MSISDN/Number\"],xdr[\"count\"], dur_agg[\"sum\"],agg_ul_dl[\"sum\"],norm_metrics[\"Cluster\"]]\n",
        "headers1 = [\"Customer Number\",\"session frequency\", \"Duration\",\n",
        "          \"Total Data\",\"Cluster\" ] \n",
        "non_norm=pd.concat(data_eng1,axis=1,keys=headers1)\n",
        "non_norm"
      ],
      "execution_count": null,
      "outputs": []
    },
    {
      "cell_type": "code",
      "metadata": {
        "id": "0q2lwOni8sRv",
        "colab_type": "code",
        "colab": {}
      },
      "source": [
        "nn00 = non_norm[non_norm.Cluster==0]\n",
        "nn00.describe()\n"
      ],
      "execution_count": null,
      "outputs": []
    },
    {
      "cell_type": "code",
      "metadata": {
        "id": "OYziAuMI84Uk",
        "colab_type": "code",
        "colab": {}
      },
      "source": [
        "nn11 =  non_norm[non_norm.Cluster==1]\n",
        "nn11.describe()\n"
      ],
      "execution_count": null,
      "outputs": []
    },
    {
      "cell_type": "code",
      "metadata": {
        "id": "0K4UCTQx85sk",
        "colab_type": "code",
        "colab": {}
      },
      "source": [
        "nn22 =  non_norm[non_norm.Cluster==2]\n",
        "nn22.describe()"
      ],
      "execution_count": null,
      "outputs": []
    },
    {
      "cell_type": "code",
      "metadata": {
        "id": "5QUcyGMx94E-",
        "colab_type": "code",
        "colab": {}
      },
      "source": [
        "sns.lmplot(x='session frequency',y='Duration',data=norm_metrics,hue='Cluster',fit_reg=False)\n"
      ],
      "execution_count": null,
      "outputs": []
    },
    {
      "cell_type": "markdown",
      "metadata": {
        "id": "uOM3sfVLvxGz",
        "colab_type": "text"
      },
      "source": [
        "##DECILE"
      ]
    },
    {
      "cell_type": "code",
      "metadata": {
        "id": "c9By9qVpvwW6",
        "colab_type": "code",
        "colab": {}
      },
      "source": [
        "#decile\n",
        "dur_agg['Decile_rank']=pd.qcut(dur_agg['sum'],10,labels=False)\n",
        "print(dur_agg)\n"
      ],
      "execution_count": null,
      "outputs": []
    },
    {
      "cell_type": "code",
      "metadata": {
        "id": "2hvKixkc9z-M",
        "colab_type": "code",
        "colab": {}
      },
      "source": [
        "decile1 = dur_agg[dur_agg['Decile_rank']==0]\n",
        "sum_data22=df_user['Total DL (Bytes)']+df_user['Total UL (Bytes)']\n",
        "df_user['Total UL+DL']=sum_data22\n",
        "numbers1 = df_user[\"Total UL+DL\"]\n",
        "decile1 = decile1.join(numbers1)\n",
        "decile1.loc['Total'] = pd.Series(decile1['Total UL+DL'].sum(), index = ['Total UL+DL'])\n",
        "decile1\n",
        "\n"
      ],
      "execution_count": null,
      "outputs": []
    },
    {
      "cell_type": "code",
      "metadata": {
        "id": "T9_EtVsWALRn",
        "colab_type": "code",
        "colab": {}
      },
      "source": [
        "decile2 = dur_agg[dur_agg['Decile_rank']==1]\n",
        "decile2\n",
        "numbers2 = df_user[\"Total UL+DL\"]\n",
        "decile2 = decile2.join(numbers2)\n",
        "decile2.loc['Total'] = pd.Series(decile2['Total UL+DL'].sum(), index = ['Total UL+DL'])\n",
        "decile2\n"
      ],
      "execution_count": null,
      "outputs": []
    },
    {
      "cell_type": "code",
      "metadata": {
        "id": "ki_bLoQ5AOXS",
        "colab_type": "code",
        "colab": {}
      },
      "source": [
        "decile3 = dur_agg[dur_agg['Decile_rank']==2]\n",
        "numbers3 = df_user[\"Total UL+DL\"]\n",
        "decile3 = decile3.join(numbers3)\n",
        "decile3.loc['Total'] = pd.Series(decile3['Total UL+DL'].sum(), index = ['Total UL+DL'])\n",
        "decile3\n"
      ],
      "execution_count": null,
      "outputs": []
    },
    {
      "cell_type": "code",
      "metadata": {
        "id": "ocSugI_3CAEO",
        "colab_type": "code",
        "colab": {}
      },
      "source": [
        "decile4 = dur_agg[dur_agg['Decile_rank']==3]\n",
        "numbers4 = df_user[\"Total UL+DL\"]\n",
        "decile4 = decile4.join(numbers4)\n",
        "decile4.loc['Total'] = pd.Series(decile4['Total UL+DL'].sum(), index = ['Total UL+DL'])\n",
        "decile4"
      ],
      "execution_count": null,
      "outputs": []
    },
    {
      "cell_type": "code",
      "metadata": {
        "id": "mW7FbQT-CCa_",
        "colab_type": "code",
        "colab": {}
      },
      "source": [
        "decile5 = dur_agg[dur_agg['Decile_rank']==4]\n",
        "numbers5 = df_user[\"Total UL+DL\"]\n",
        "decile5 = decile5.join(numbers5)\n",
        "decile5.loc['Total'] = pd.Series(decile5['Total UL+DL'].sum(), index = ['Total UL+DL'])\n",
        "decile5\n"
      ],
      "execution_count": null,
      "outputs": []
    },
    {
      "cell_type": "markdown",
      "metadata": {
        "id": "LxbO57uja9P0",
        "colab_type": "text"
      },
      "source": [
        "##AVG RTT"
      ]
    },
    {
      "cell_type": "code",
      "metadata": {
        "id": "1bivFX0TaZBU",
        "colab_type": "code",
        "colab": {}
      },
      "source": [
        "sum_column_10 = df_user[\"Avg RTT DL (ms)\"] + df_user[\"Avg RTT UL (ms)\"]\n",
        "df_user[\"Total Avg RTT\"] = sum_column_10\n",
        "rtt_df=df_user.groupby('MSISDN/Number')['Total Avg RTT'].sum().reset_index(name='Total_Avg_RTT')\n",
        "rtt_df\n",
        "\n",
        "\n",
        "#top 10\n",
        "r1=rtt_df.nlargest(10,'Total_Avg_RTT')\n",
        "r1.to_csv(\"r10.csv\")\n",
        "\n"
      ],
      "execution_count": null,
      "outputs": []
    },
    {
      "cell_type": "code",
      "metadata": {
        "id": "ScoK6DebGLZf",
        "colab_type": "code",
        "colab": {}
      },
      "source": [
        "#bottom 10\n",
        "r2=rtt_df.nsmallest(10,'Total_Avg_RTT')\n",
        "r2.to_csv(\"r10small.csv\")"
      ],
      "execution_count": null,
      "outputs": []
    },
    {
      "cell_type": "code",
      "metadata": {
        "id": "gLjMv_XJEdT6",
        "colab_type": "code",
        "colab": {}
      },
      "source": [
        "#PLOT\n",
        "df_user1=df_user.sample(frac =.25)\n",
        "fig_dims = (16, 6)\n",
        "fig, ax = plt.subplots(figsize=fig_dims)\n",
        "sns.barplot(x='Handset Type', y='Total Avg RTT',ax=ax,data=df_user1)\n"
      ],
      "execution_count": null,
      "outputs": []
    },
    {
      "cell_type": "markdown",
      "metadata": {
        "id": "i92c6Nj4b2qb",
        "colab_type": "text"
      },
      "source": [
        "##TCP"
      ]
    },
    {
      "cell_type": "code",
      "metadata": {
        "id": "nZub9QMeb16S",
        "colab_type": "code",
        "colab": {}
      },
      "source": [
        "sum_column11 = df_user[\"TCP DL Retrans. Vol (Bytes)\"] + df_user[\"TCP UL Retrans. Vol (Bytes)\"]\n",
        "df_user[\"Total TCP Retrans\"] = sum_column11\n",
        "tcp_df=df_user.groupby('MSISDN/Number')['Total TCP Retrans'].sum().reset_index(name='Total_TCP_Retrans')\n",
        "tcp_df\n",
        "\n",
        "\n",
        "#top 10\n",
        "t1=tcp_df.nlargest(10,'Total_TCP_Retrans')\n",
        "t1.to_csv(\"tcp10.csv\")"
      ],
      "execution_count": null,
      "outputs": []
    },
    {
      "cell_type": "code",
      "metadata": {
        "id": "Iwbw3emgE1Y4",
        "colab_type": "code",
        "colab": {}
      },
      "source": [
        "t2=tcp_df.nsmallest(10,'Total_TCP_Retrans')\n",
        "t2.to_csv(\"tcp10small.csv\")"
      ],
      "execution_count": null,
      "outputs": []
    },
    {
      "cell_type": "code",
      "metadata": {
        "id": "baOEHyWyFRVO",
        "colab_type": "code",
        "colab": {}
      },
      "source": [
        "tcp_df.mode()['Total_TCP_Retrans'][0]\n"
      ],
      "execution_count": null,
      "outputs": []
    },
    {
      "cell_type": "code",
      "metadata": {
        "id": "RhifLrDBJ4Lg",
        "colab_type": "code",
        "colab": {}
      },
      "source": [
        "#PLOT\n",
        "fig_dims = (16, 6)\n",
        "fig, ax = plt.subplots(figsize=fig_dims)\n",
        "sns.barplot(x='Handset Type', y='Total TCP Retrans',ax=ax,data=df_user)\n"
      ],
      "execution_count": null,
      "outputs": []
    },
    {
      "cell_type": "markdown",
      "metadata": {
        "id": "bhrCvm50edfv",
        "colab_type": "text"
      },
      "source": [
        "##Handset Type"
      ]
    },
    {
      "cell_type": "code",
      "metadata": {
        "id": "6257s45ceklh",
        "colab_type": "code",
        "colab": {}
      },
      "source": [
        "handset_df=df_user.groupby('MSISDN/Number')['Handset Type'].count().reset_index(name='Handset count')\n",
        "handset_df\n",
        "\n",
        "\n",
        "data_h = [df_user[\"Handset Type\"],handset_df[\"Handset count\"]]\n",
        "headers = [\"Handset Type\",\"Handset count\" ]     \n",
        "hdf11 = pd.concat(data_h, axis=1, keys=headers)\n",
        "hdf11\n",
        "hdf11.sort_values(['Handset Type', 'Handset count'], ascending=False).groupby('Handset count')\n"
      ],
      "execution_count": null,
      "outputs": []
    },
    {
      "cell_type": "code",
      "metadata": {
        "id": "33aJv3iBvaEF",
        "colab_type": "code",
        "colab": {}
      },
      "source": [
        "hdf11.nlargest(25,'Handset count')\n",
        "\n"
      ],
      "execution_count": null,
      "outputs": []
    },
    {
      "cell_type": "markdown",
      "metadata": {
        "id": "xUJJEfD3j6K_",
        "colab_type": "text"
      },
      "source": [
        "##Throughput"
      ]
    },
    {
      "cell_type": "code",
      "metadata": {
        "id": "_yFdOzzAj8pO",
        "colab_type": "code",
        "colab": {}
      },
      "source": [
        "sum_column12 = df_user[\"Avg Bearer TP DL (kbps)\"] + df_user[\"Avg Bearer TP UL (kbps)\"]\n",
        "df_user[\"Total Avg TP\"] = sum_column12\n",
        "tp_df=df_user.groupby('MSISDN/Number')['Total Avg TP'].sum().reset_index(name='Total_Avg_TP_(kbps)')\n",
        "tp_df\n",
        "\n",
        "#top 10\n",
        "tp1=tp_df.nlargest(10,'Total_Avg_TP_(kbps)')\n",
        "tp1.to_csv(\"tp10.csv\")\n",
        "tp2=tp_df.nsmallest(10,'Total_Avg_TP_(kbps)')\n",
        "tp2.to_csv(\"tpsmall.csv\")\n"
      ],
      "execution_count": null,
      "outputs": []
    },
    {
      "cell_type": "code",
      "metadata": {
        "id": "lMcSBqnLhbX8",
        "colab_type": "code",
        "colab": {}
      },
      "source": [
        "tp_data= [tp_df[\"Total_Avg_TP_(kbps)\"],hdf11[\"Handset Type\"]]\n",
        "headers122 = [\"Total Avg Throughput\",\"Handset Type\"]  \n",
        "thr_df=pd.concat(tp_data,axis=1,keys=headers122)\n",
        "thr_df.to_csv(\"thr_h.csv\")\n",
        "# sns.barplot(y=\"Total Avg Throughput\",x=\"Handset Type\",data=thr_df)\n"
      ],
      "execution_count": null,
      "outputs": []
    },
    {
      "cell_type": "code",
      "metadata": {
        "id": "OL9pg_AA6-Ej",
        "colab_type": "code",
        "colab": {}
      },
      "source": [
        "tp_data= [rtt_df[\"Total_Avg_RTT\"],hdf11[\"Handset Type\"]]\n",
        "headers122 = [\"Total Avg RTT\",\"Handset Type\"]  \n",
        "thr_df1=pd.concat(tp_data,axis=1,keys=headers122)\n",
        "thr_df1.to_csv(\"rttt.csv\")\n"
      ],
      "execution_count": null,
      "outputs": []
    },
    {
      "cell_type": "code",
      "metadata": {
        "id": "KJ1gTmZr7uGT",
        "colab_type": "code",
        "colab": {}
      },
      "source": [
        "tp_data= [tcp_df[\"Total_TCP_Retrans\"],hdf11[\"Handset Type\"]]\n",
        "headers122 = [\"Total TCP Retrans\",\"Handset Type\"]  \n",
        "thr_df1=pd.concat(tp_data,axis=1,keys=headers122)\n",
        "thr_df1.to_csv(\"tcp.csv\")"
      ],
      "execution_count": null,
      "outputs": []
    },
    {
      "cell_type": "markdown",
      "metadata": {
        "id": "p6FMstOQaSrn",
        "colab_type": "text"
      },
      "source": [
        "##CORRELATION ANALYSIS"
      ]
    },
    {
      "cell_type": "code",
      "metadata": {
        "id": "-4gVwU1gvc8-",
        "colab_type": "code",
        "colab": {}
      },
      "source": [
        "#Correlation Analysis\n",
        "data = [sm_df[\"Total_Social_Media_Volume\"], gg_df[\"Total_Google_Volume\"],em_df[\"Total Email volume (Bytes)\"],yt_df[\"Total Youtube Volume (Bytes)\"],nf_df[\"Total Netflix volume (Bytes)\"],\n",
        "        gm_df[\"Total Gaming Volume (Bytes)\"],other_df[\"Total Other Volume(Bytes)\"]]\n",
        "headers = [\"Total_Social_Media_Volume\", \"Total_Google_Volume\",\n",
        "           \"Total Email volume (Bytes)\",\"Total Youtube Volume (Bytes)\",\n",
        "           \"Total Netflix volume (Bytes)\",\"Total Gaming Volume (Bytes)\",\n",
        "          \"Total Other Volume(Bytes)\" ]     \n",
        "matrix_df = pd.concat(data, axis=1, keys=headers)\n",
        "\n",
        "# matrix_df.loc['Total'] = pd.Series(matrix_df['Total Email volume (Bytes)'].sum(), index = ['Total Email volume (Bytes)'])\n",
        "# matrix_df\n",
        "matrix1=matrix_df.sum(axis = 0, skipna = True) \n",
        "matrix1.to_csv(\"mat.csv\",header=['sum'])\n",
        "matrix2=matrix1.to_frame()\n",
        "matrix2\n",
        "\n",
        "\n",
        "type(matrix1)\n",
        "\n",
        "corrMatrix = matrix_df.corr()\n",
        "sns.heatmap(corrMatrix, annot=True)\n",
        "plt.show()"
      ],
      "execution_count": null,
      "outputs": []
    },
    {
      "cell_type": "code",
      "metadata": {
        "id": "d32uYDCilw-l",
        "colab_type": "code",
        "colab": {}
      },
      "source": [
        "matrix1\n",
        "matrix1.sort_values(inplace=True, ascending=False)\n",
        "matrix3=matrix1.to_frame()\n",
        "matrix3.head(3)\n"
      ],
      "execution_count": null,
      "outputs": []
    },
    {
      "cell_type": "code",
      "metadata": {
        "id": "48N15PShyS11",
        "colab_type": "code",
        "colab": {}
      },
      "source": [
        "\n",
        "matrix2.plot.bar(rot=0)\n"
      ],
      "execution_count": null,
      "outputs": []
    },
    {
      "cell_type": "markdown",
      "metadata": {
        "id": "ghIjuNcYI_-k",
        "colab_type": "text"
      },
      "source": [
        "##PCA "
      ]
    },
    {
      "cell_type": "code",
      "metadata": {
        "id": "7mrzSwJqJDaQ",
        "colab_type": "code",
        "colab": {}
      },
      "source": [
        "from sklearn import decomposition\n",
        "\n",
        "pca = decomposition.PCA(n_components=2)\n",
        "pc = pca.fit_transform(matrix_df)\n",
        "pc_df = pd.DataFrame(data = pc , \n",
        "        columns = ['PC1', 'PC2'])\n",
        "pc_df.head()\n"
      ],
      "execution_count": null,
      "outputs": []
    },
    {
      "cell_type": "code",
      "metadata": {
        "id": "xZByQ2ajKNvS",
        "colab_type": "code",
        "colab": {}
      },
      "source": [
        "dd = pd.DataFrame({'var':pca.explained_variance_ratio_,\n",
        "             'PC':['PC1','PC2']})\n",
        "sns.barplot(x='PC',y=\"var\", \n",
        "           data=dd, color=\"c\");"
      ],
      "execution_count": null,
      "outputs": []
    },
    {
      "cell_type": "code",
      "metadata": {
        "id": "LfMiiPZ3Mf29",
        "colab_type": "code",
        "colab": {}
      },
      "source": [
        "sns.lmplot( x=\"PC1\", y=\"PC2\",\n",
        "  data=pc_df, \n",
        "  fit_reg=False, \n",
        "  legend=True,\n",
        "  scatter_kws={\"s\": 80})\n"
      ],
      "execution_count": null,
      "outputs": []
    },
    {
      "cell_type": "markdown",
      "metadata": {
        "id": "VJkxPpsbfP7i",
        "colab_type": "text"
      },
      "source": [
        "##K-means engagement(Experience Analytics)\n"
      ]
    },
    {
      "cell_type": "code",
      "metadata": {
        "id": "2PkhcEyLfPN6",
        "colab_type": "code",
        "colab": {}
      },
      "source": [
        "data1 = [rtt_df[\"MSISDN/Number\"],tp_df[\"Total_Avg_TP_(kbps)\"],tcp_df[\"Total_TCP_Retrans\"],rtt_df[\"Total_Avg_RTT\"]]\n",
        "headers = [ \"MSISDN/Number\",\"Total_Avg_TP_(kbps)\", \"Total_TCP_Retrans\",\n",
        "           \"Total_Avg_RTT\",\n",
        "           ]     \n",
        "experience_df = pd.concat(data1, axis=1, keys=headers)\n",
        "experience_df.fillna(experience_df.mean(), inplace=True)\n",
        "experience_df\n",
        "\n",
        "norm_experience=(experience_df-experience_df.min())/(experience_df.max()-experience_df.min())\n",
        "\n",
        "\n",
        "kmeans1 = KMeans(n_clusters=3)\n",
        "\n",
        "y = kmeans1.fit_predict(norm_experience[['Total_Avg_TP_(kbps)', 'Total_TCP_Retrans', 'Total_Avg_RTT',]])\n",
        "\n",
        "norm_experience['Cluster'] = y\n",
        "\n",
        "\n",
        "# print(experience_df)\n",
        "\n",
        "df00 = norm_experience[norm_experience.Cluster==0]\n",
        "df00\n",
        "df11 =  norm_experience[norm_experience.Cluster==1]\n",
        "df11\n",
        "df22 =  norm_experience[norm_experience.Cluster==2]\n",
        "df22\n",
        "\n"
      ],
      "execution_count": null,
      "outputs": []
    },
    {
      "cell_type": "code",
      "metadata": {
        "id": "lQWkcWdc6Rkm",
        "colab_type": "code",
        "colab": {}
      },
      "source": [
        "fig = plt.figure()\n",
        "ax = fig.add_subplot(111)\n",
        "scatter = ax.scatter(norm_experience['Total_Avg_TP_(kbps)'],norm_experience['Total_TCP_Retrans'],\n",
        "                     c=kmeans.labels_,s=50)\n",
        "ax.set_title('K-Means Clustering experience clusters')\n",
        "ax.set_xlabel('Total_TCP_Retrans')\n",
        "ax.set_ylabel('Total_Avg_TP_(kbps)')\n",
        "plt.colorbar(scatter)"
      ],
      "execution_count": null,
      "outputs": []
    },
    {
      "cell_type": "code",
      "metadata": {
        "id": "7KIqywQpqphJ",
        "colab_type": "code",
        "colab": {}
      },
      "source": [
        "norm_experience['Cluster'].value_counts()"
      ],
      "execution_count": null,
      "outputs": []
    },
    {
      "cell_type": "code",
      "metadata": {
        "id": "L65NumsVpUEc",
        "colab_type": "code",
        "colab": {}
      },
      "source": [
        "alldistances1 = kmeans1.fit_transform(norm_experience)\n",
        "# alldistances\n",
        "ddf2=pd.DataFrame(alldistances1)\n",
        "ddf2.columns = ['0','1','2']\n",
        "ddf2"
      ],
      "execution_count": null,
      "outputs": []
    },
    {
      "cell_type": "markdown",
      "metadata": {
        "id": "1rsidF0UwqdY",
        "colab_type": "text"
      },
      "source": [
        "##experience score"
      ]
    },
    {
      "cell_type": "code",
      "metadata": {
        "id": "Lzc2HW1NrTwo",
        "colab_type": "code",
        "colab": {}
      },
      "source": [
        "#experience scores\n",
        "\n",
        "experience_data= [norm_experience[\"MSISDN/Number\"],ddf2[\"1\"]]\n",
        "headers11 = [\"MSISDN/Number\",\"experience_score\"]  \n",
        "experience_score=pd.concat(experience_data,axis=1,keys=headers11)\n",
        "experience_score\n"
      ],
      "execution_count": null,
      "outputs": []
    },
    {
      "cell_type": "markdown",
      "metadata": {
        "id": "AqirURZns7Yx",
        "colab_type": "text"
      },
      "source": [
        "##satisfaction score"
      ]
    },
    {
      "cell_type": "code",
      "metadata": {
        "id": "Nx7FgiDOs63d",
        "colab_type": "code",
        "colab": {}
      },
      "source": [
        "satisfaction_data= [xdr[\"MSISDN/Number\"],experience_score[\"experience_score\"],ddf[\"1\"]]\n",
        "satisfaction_data\n",
        "headers22=['MSISDN/Number',\"experience_score\",\"engagement_score\"]\n",
        "satisfaction_score=pd.concat(satisfaction_data,axis=1,keys=headers22)\n",
        "satisfaction_score\n",
        "\n",
        "satisfaction_score['satisfaction_score'] = satisfaction_score[['experience_score', 'engagement_score']].mean(axis=1)\n",
        "satisfaction_score.to_csv(\"satis.csv\")"
      ],
      "execution_count": null,
      "outputs": []
    },
    {
      "cell_type": "code",
      "metadata": {
        "id": "XEahp_SazSTH",
        "colab_type": "code",
        "colab": {}
      },
      "source": [
        "s1=satisfaction_score.nlargest(10,'satisfaction_score')\n",
        "s1.to_csv(\"s.csv\")"
      ],
      "execution_count": null,
      "outputs": []
    },
    {
      "cell_type": "markdown",
      "metadata": {
        "id": "BAcuOv6QalY2",
        "colab_type": "text"
      },
      "source": [
        "## Regression \n",
        "\n"
      ]
    },
    {
      "cell_type": "code",
      "metadata": {
        "id": "-MJ1CENCavtg",
        "colab_type": "code",
        "colab": {}
      },
      "source": [
        "X = satisfaction_score['experience_score']  \n",
        "Y = satisfaction_score['engagement_score']\n",
        "\n",
        "X = X.values.reshape(-1, 1)\n",
        "Y = Y.values.reshape(-1, 1)\n",
        " # with sklearn\n",
        "regr = linear_model.LinearRegression()\n",
        "regr.fit(X, Y)\n",
        "\n",
        "print('Intercept: \\n', regr.intercept_)\n",
        "print('Coefficients: \\n', regr.coef_)\n",
        "\n",
        "\n",
        "\n",
        "# New_experience_score = 2.004168\n",
        "# New_engagement_score = 1.638166\t\n",
        "# print ('Predicted Stock Index Price: \\n', regr.predict([[New_experience_score ,New_engagement_score]]))\n",
        "\n",
        "\n",
        "\n",
        "\n",
        "X = sm.add_constant(X)\n",
        "model = sm.OLS(Y, X).fit()\n",
        "predictions = model.predict(X) \n",
        " \n",
        "print_model = model.summary()\n",
        "print(print_model)"
      ],
      "execution_count": null,
      "outputs": []
    },
    {
      "cell_type": "markdown",
      "metadata": {
        "id": "dc8SjHt6k5EC",
        "colab_type": "text"
      },
      "source": [
        "##k=means satisfactory analysis\n"
      ]
    },
    {
      "cell_type": "code",
      "metadata": {
        "id": "6b7sur-Qk_FC",
        "colab_type": "code",
        "colab": {}
      },
      "source": [
        "\n",
        "kmeans1 = KMeans(n_clusters=2)\n",
        "\n",
        "y = kmeans1.fit_predict(satisfaction_score[['experience_score', 'engagement_score']])\n",
        "\n",
        "satisfaction_score['Cluster'] = y\n",
        "satisfaction_score"
      ],
      "execution_count": null,
      "outputs": []
    },
    {
      "cell_type": "code",
      "metadata": {
        "id": "wN9b5xbYlneL",
        "colab_type": "code",
        "colab": {}
      },
      "source": [
        "##average per cluster\n",
        "df001 = satisfaction_score[satisfaction_score.Cluster==0]\n",
        "df001\n",
        "\n",
        "print(\"average experience score\",df001[\"experience_score\"].mean())\n",
        "print(\"average satisfaction score\",df001[\"satisfaction_score\"].mean())\n"
      ],
      "execution_count": null,
      "outputs": []
    },
    {
      "cell_type": "markdown",
      "metadata": {
        "id": "h9FO0L_cr3kR",
        "colab_type": "text"
      },
      "source": [
        ""
      ]
    },
    {
      "cell_type": "code",
      "metadata": {
        "id": "ByyFdQKbl4Vx",
        "colab_type": "code",
        "colab": {}
      },
      "source": [
        "df111 = satisfaction_score[satisfaction_score.Cluster==0]\n",
        "df111[\"satisfaction_score\"].mean() \n"
      ],
      "execution_count": null,
      "outputs": []
    },
    {
      "cell_type": "code",
      "metadata": {
        "id": "NPxg6c3D3p_8",
        "colab_type": "code",
        "colab": {}
      },
      "source": [
        "df111 = satisfaction_score[satisfaction_score.Cluster==0]\n",
        "df111[\"experience_score\"].mean() \n"
      ],
      "execution_count": null,
      "outputs": []
    },
    {
      "cell_type": "code",
      "metadata": {
        "id": "CQRKG4uj1rxP",
        "colab_type": "code",
        "colab": {}
      },
      "source": [
        "df112 = satisfaction_score[satisfaction_score.Cluster==1]\n",
        "df112[\"satisfaction_score\"].mean()"
      ],
      "execution_count": null,
      "outputs": []
    },
    {
      "cell_type": "code",
      "metadata": {
        "id": "a7E1FtNu3xdb",
        "colab_type": "code",
        "colab": {}
      },
      "source": [
        "df112 = satisfaction_score[satisfaction_score.Cluster==1]\n",
        "df112[\"experience_score\"].mean()"
      ],
      "execution_count": null,
      "outputs": []
    }
  ]
}