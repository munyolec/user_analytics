{
  "nbformat": 4,
  "nbformat_minor": 0,
  "metadata": {
    "colab": {
      "name": "Exploratory_Data_Analysis.ipynb",
      "provenance": [],
      "collapsed_sections": [
        "mBrtKWrZDtsb",
        "0D6GPlGfDqjv",
        "aWGATISZDm78",
        "1Jl4tikqeFQw",
        "8xQhZ3ivDif5",
        "xjPc65mWDb7G",
        "74P8HVjuDy6M",
        "p6FMstOQaSrn",
        "BAcuOv6QalY2"
      ],
      "authorship_tag": "ABX9TyMM4IuZhgNsO5gAoisXs+PW"
    },
    "kernelspec": {
      "name": "python3",
      "display_name": "Python 3"
    }
  },
  "cells": [
    {
      "cell_type": "code",
      "metadata": {
        "id": "JmYDQXA0jJpm",
        "colab_type": "code",
        "colab": {
          "base_uri": "https://localhost:8080/",
          "height": 496
        },
        "outputId": "ce23ce7d-bee7-47b5-e08e-59028de1c956"
      },
      "source": [
        "!pip install openpyxl \n",
        "!pip install -U nltk\n",
        "!pip install pymysql\n",
        "\n",
        "import numpy as np\n",
        "import pandas as pd\n",
        "# sudo apt-get install python3-pymysql\n",
        "from pandas import read_excel\n",
        "import seaborn as sns\n",
        "import statsmodels.api as sm\n",
        "import sqlalchemy\n",
        "import pymysql\n",
        "import matplotlib.pyplot as plt\n",
        "\n",
        "from sqlalchemy import create_engine\n",
        "\n",
        "from statistics import *\n",
        "from sklearn import preprocessing\n",
        "from sklearn.preprocessing import MinMaxScaler\n",
        "from sklearn.cluster import KMeans\n",
        "from sklearn.cluster import SpectralClustering\n",
        "from sklearn.preprocessing import StandardScaler\n",
        "from sklearn import linear_model\n",
        "from sklearn.linear_model import LinearRegression\n",
        "from sklearn.feature_extraction.text import TfidfVectorizer, CountVectorizer, TfidfTransformer\n",
        "from sklearn.decomposition import PCA\n",
        "from matplotlib import style\n",
        "from mpl_toolkits.mplot3d import Axes3D\n",
        "\n"
      ],
      "execution_count": 1,
      "outputs": [
        {
          "output_type": "stream",
          "text": [
            "Requirement already satisfied: openpyxl in /usr/local/lib/python3.6/dist-packages (2.5.9)\n",
            "Requirement already satisfied: jdcal in /usr/local/lib/python3.6/dist-packages (from openpyxl) (1.4.1)\n",
            "Requirement already satisfied: et-xmlfile in /usr/local/lib/python3.6/dist-packages (from openpyxl) (1.0.1)\n",
            "Collecting nltk\n",
            "\u001b[?25l  Downloading https://files.pythonhosted.org/packages/92/75/ce35194d8e3022203cca0d2f896dbb88689f9b3fce8e9f9cff942913519d/nltk-3.5.zip (1.4MB)\n",
            "\u001b[K     |████████████████████████████████| 1.4MB 2.7MB/s \n",
            "\u001b[?25hRequirement already satisfied, skipping upgrade: click in /usr/local/lib/python3.6/dist-packages (from nltk) (7.1.2)\n",
            "Requirement already satisfied, skipping upgrade: joblib in /usr/local/lib/python3.6/dist-packages (from nltk) (0.16.0)\n",
            "Requirement already satisfied, skipping upgrade: regex in /usr/local/lib/python3.6/dist-packages (from nltk) (2019.12.20)\n",
            "Requirement already satisfied, skipping upgrade: tqdm in /usr/local/lib/python3.6/dist-packages (from nltk) (4.41.1)\n",
            "Building wheels for collected packages: nltk\n",
            "  Building wheel for nltk (setup.py) ... \u001b[?25l\u001b[?25hdone\n",
            "  Created wheel for nltk: filename=nltk-3.5-cp36-none-any.whl size=1434674 sha256=55b118153636198f45f021a93e83430cace93ebfd3a4982884fea616b7d4bbae\n",
            "  Stored in directory: /root/.cache/pip/wheels/ae/8c/3f/b1fe0ba04555b08b57ab52ab7f86023639a526d8bc8d384306\n",
            "Successfully built nltk\n",
            "Installing collected packages: nltk\n",
            "  Found existing installation: nltk 3.2.5\n",
            "    Uninstalling nltk-3.2.5:\n",
            "      Successfully uninstalled nltk-3.2.5\n",
            "Successfully installed nltk-3.5\n",
            "Collecting pymysql\n",
            "\u001b[?25l  Downloading https://files.pythonhosted.org/packages/2c/57/af502e0e113f139b3f3add4f1efba899a730a365d2264d476e85b9591da5/PyMySQL-0.10.0-py2.py3-none-any.whl (47kB)\n",
            "\u001b[K     |████████████████████████████████| 51kB 1.7MB/s \n",
            "\u001b[?25hInstalling collected packages: pymysql\n",
            "Successfully installed pymysql-0.10.0\n"
          ],
          "name": "stdout"
        },
        {
          "output_type": "stream",
          "text": [
            "/usr/local/lib/python3.6/dist-packages/statsmodels/tools/_testing.py:19: FutureWarning: pandas.util.testing is deprecated. Use the functions in the public API at pandas.testing instead.\n",
            "  import pandas.util.testing as tm\n"
          ],
          "name": "stderr"
        }
      ]
    },
    {
      "cell_type": "code",
      "metadata": {
        "id": "w8ChFVybo6um",
        "colab_type": "code",
        "colab": {
          "base_uri": "https://localhost:8080/",
          "height": 122
        },
        "outputId": "c050e4a6-0ea7-4e80-a220-3deee00cf77e"
      },
      "source": [
        "from google.colab import drive\n",
        "drive.mount ('/content/drive')"
      ],
      "execution_count": 2,
      "outputs": [
        {
          "output_type": "stream",
          "text": [
            "Go to this URL in a browser: https://accounts.google.com/o/oauth2/auth?client_id=947318989803-6bn6qk8qdgf4n4g3pfee6491hc0brc4i.apps.googleusercontent.com&redirect_uri=urn%3aietf%3awg%3aoauth%3a2.0%3aoob&scope=email%20https%3a%2f%2fwww.googleapis.com%2fauth%2fdocs.test%20https%3a%2f%2fwww.googleapis.com%2fauth%2fdrive%20https%3a%2f%2fwww.googleapis.com%2fauth%2fdrive.photos.readonly%20https%3a%2f%2fwww.googleapis.com%2fauth%2fpeopleapi.readonly&response_type=code\n",
            "\n",
            "Enter your authorization code:\n",
            "··········\n",
            "Mounted at /content/drive\n"
          ],
          "name": "stdout"
        }
      ]
    },
    {
      "cell_type": "code",
      "metadata": {
        "id": "MYIERObBkAG4",
        "colab_type": "code",
        "colab": {}
      },
      "source": [
        "my_sheet = 'Sheet1' # change it to your sheet name\n",
        "file_name = 'drive/My Drive/Week2_challenge_data_source.xlsx' # change it to the name of your excel file\n",
        "df = read_excel(file_name, sheet_name = my_sheet, usecols=\"H,AD,AE\")\n",
        "# df"
      ],
      "execution_count": 3,
      "outputs": []
    },
    {
      "cell_type": "markdown",
      "metadata": {
        "id": "eEo1YpyBY1Hx",
        "colab_type": "text"
      },
      "source": [
        "##Handsets\n"
      ]
    },
    {
      "cell_type": "code",
      "metadata": {
        "id": "kqU93vdcpY3f",
        "colab_type": "code",
        "colab": {
          "base_uri": "https://localhost:8080/",
          "height": 51
        },
        "outputId": "ad5a2236-7091-4df8-ae20-5caccdbba1d9"
      },
      "source": [
        "df['Handset Type'].value_counts()[df['Handset Type'].value_counts() == df['Handset Type'].value_counts().max()]"
      ],
      "execution_count": 4,
      "outputs": [
        {
          "output_type": "execute_result",
          "data": {
            "text/plain": [
              "Huawei B528S-23A    19752\n",
              "Name: Handset Type, dtype: int64"
            ]
          },
          "metadata": {
            "tags": []
          },
          "execution_count": 4
        }
      ]
    },
    {
      "cell_type": "code",
      "metadata": {
        "id": "Tj5XgU8kr014",
        "colab_type": "code",
        "colab": {
          "base_uri": "https://localhost:8080/",
          "height": 187
        },
        "outputId": "25ac1c06-96e3-45f4-c5aa-bfdbf675f04b"
      },
      "source": [
        "#top 10 handset types\n",
        "n = 10\n",
        "df['Handset Type'].value_counts()[:n].index.tolist()"
      ],
      "execution_count": 5,
      "outputs": [
        {
          "output_type": "execute_result",
          "data": {
            "text/plain": [
              "['Huawei B528S-23A',\n",
              " 'Apple iPhone 6S (A1688)',\n",
              " 'Apple iPhone 6 (A1586)',\n",
              " 'undefined',\n",
              " 'Apple iPhone 7 (A1778)',\n",
              " 'Apple iPhone Se (A1723)',\n",
              " 'Apple iPhone 8 (A1905)',\n",
              " 'Apple iPhone Xr (A2105)',\n",
              " 'Samsung Galaxy S8 (Sm-G950F)',\n",
              " 'Apple iPhone X (A1901)']"
            ]
          },
          "metadata": {
            "tags": []
          },
          "execution_count": 5
        }
      ]
    },
    {
      "cell_type": "code",
      "metadata": {
        "id": "R9IlVQx0skj4",
        "colab_type": "code",
        "colab": {
          "base_uri": "https://localhost:8080/",
          "height": 34
        },
        "outputId": "066f16df-540a-4619-a7a9-a345637c4f18"
      },
      "source": [
        "#top 3 handset manufacturers\n",
        "n = 3\n",
        "top_manufacturer_df=df['Handset Manufacturer'].value_counts()[:n].index.tolist()\n",
        "top_manufacturer_df"
      ],
      "execution_count": 6,
      "outputs": [
        {
          "output_type": "execute_result",
          "data": {
            "text/plain": [
              "['Apple', 'Samsung', 'Huawei']"
            ]
          },
          "metadata": {
            "tags": []
          },
          "execution_count": 6
        }
      ]
    },
    {
      "cell_type": "code",
      "metadata": {
        "id": "ACDMqC2Lsth4",
        "colab_type": "code",
        "colab": {
          "base_uri": "https://localhost:8080/",
          "height": 419
        },
        "outputId": "84f83740-0ed1-4292-ebda-38c6001e6216"
      },
      "source": [
        "df.groupby(['Handset Manufacturer', 'Handset Type']).size().reset_index(name='count').sort_values(['Handset Type','Handset Manufacturer']).groupby('Handset Manufacturer').head(3)"
      ],
      "execution_count": 7,
      "outputs": [
        {
          "output_type": "execute_result",
          "data": {
            "text/html": [
              "<div>\n",
              "<style scoped>\n",
              "    .dataframe tbody tr th:only-of-type {\n",
              "        vertical-align: middle;\n",
              "    }\n",
              "\n",
              "    .dataframe tbody tr th {\n",
              "        vertical-align: top;\n",
              "    }\n",
              "\n",
              "    .dataframe thead th {\n",
              "        text-align: right;\n",
              "    }\n",
              "</style>\n",
              "<table border=\"1\" class=\"dataframe\">\n",
              "  <thead>\n",
              "    <tr style=\"text-align: right;\">\n",
              "      <th></th>\n",
              "      <th>Handset Manufacturer</th>\n",
              "      <th>Handset Type</th>\n",
              "      <th>count</th>\n",
              "    </tr>\n",
              "  </thead>\n",
              "  <tbody>\n",
              "    <tr>\n",
              "      <th>0</th>\n",
              "      <td>A-Link Telecom International Co Limited</td>\n",
              "      <td>A-Link Telecom I. Cubot A5</td>\n",
              "      <td>1</td>\n",
              "    </tr>\n",
              "    <tr>\n",
              "      <th>1</th>\n",
              "      <td>A-Link Telecom International Co Limited</td>\n",
              "      <td>A-Link Telecom I. Cubot Note Plus</td>\n",
              "      <td>1</td>\n",
              "    </tr>\n",
              "    <tr>\n",
              "      <th>2</th>\n",
              "      <td>A-Link Telecom International Co Limited</td>\n",
              "      <td>A-Link Telecom I. Cubot Note S</td>\n",
              "      <td>1</td>\n",
              "    </tr>\n",
              "    <tr>\n",
              "      <th>14</th>\n",
              "      <td>Acer</td>\n",
              "      <td>Acer Liquid M220</td>\n",
              "      <td>1</td>\n",
              "    </tr>\n",
              "    <tr>\n",
              "      <th>15</th>\n",
              "      <td>Acer</td>\n",
              "      <td>Acer Liquid Z220</td>\n",
              "      <td>1</td>\n",
              "    </tr>\n",
              "    <tr>\n",
              "      <th>...</th>\n",
              "      <td>...</td>\n",
              "      <td>...</td>\n",
              "      <td>...</td>\n",
              "    </tr>\n",
              "    <tr>\n",
              "      <th>1372</th>\n",
              "      <td>ZTE</td>\n",
              "      <td>Zte Blade A452 Blade A452</td>\n",
              "      <td>1</td>\n",
              "    </tr>\n",
              "    <tr>\n",
              "      <th>1393</th>\n",
              "      <td>Zyxel Communications Corp</td>\n",
              "      <td>Zyxel Communicat. Lte7460</td>\n",
              "      <td>1</td>\n",
              "    </tr>\n",
              "    <tr>\n",
              "      <th>1394</th>\n",
              "      <td>Zyxel Communications Corp</td>\n",
              "      <td>Zyxel Communicat. Sbg3600</td>\n",
              "      <td>1</td>\n",
              "    </tr>\n",
              "    <tr>\n",
              "      <th>1392</th>\n",
              "      <td>ZyXEL Communications Corp</td>\n",
              "      <td>Zyxel Communicat. Zyxel Wah7706</td>\n",
              "      <td>1</td>\n",
              "    </tr>\n",
              "    <tr>\n",
              "      <th>1395</th>\n",
              "      <td>undefined</td>\n",
              "      <td>undefined</td>\n",
              "      <td>8987</td>\n",
              "    </tr>\n",
              "  </tbody>\n",
              "</table>\n",
              "<p>331 rows × 3 columns</p>\n",
              "</div>"
            ],
            "text/plain": [
              "                         Handset Manufacturer  ... count\n",
              "0     A-Link Telecom International Co Limited  ...     1\n",
              "1     A-Link Telecom International Co Limited  ...     1\n",
              "2     A-Link Telecom International Co Limited  ...     1\n",
              "14                                       Acer  ...     1\n",
              "15                                       Acer  ...     1\n",
              "...                                       ...  ...   ...\n",
              "1372                                      ZTE  ...     1\n",
              "1393                Zyxel Communications Corp  ...     1\n",
              "1394                Zyxel Communications Corp  ...     1\n",
              "1392                ZyXEL Communications Corp  ...     1\n",
              "1395                                undefined  ...  8987\n",
              "\n",
              "[331 rows x 3 columns]"
            ]
          },
          "metadata": {
            "tags": []
          },
          "execution_count": 7
        }
      ]
    },
    {
      "cell_type": "code",
      "metadata": {
        "id": "gfRIvu4pxWPo",
        "colab_type": "code",
        "colab": {
          "base_uri": "https://localhost:8080/",
          "height": 419
        },
        "outputId": "ed8539d0-29ae-4042-d4fd-2eb3b34b51fe"
      },
      "source": [
        "df1=df.groupby([\"Handset Manufacturer\", \"Handset Type\"]).size().reset_index(name=\"count\").sort_values([\"Handset Manufacturer\",\"count\"],ascending=[1,0]).groupby('Handset Manufacturer').head(5)\n",
        "df1.to_csv('out3.csv')\n",
        "df1"
      ],
      "execution_count": 8,
      "outputs": [
        {
          "output_type": "execute_result",
          "data": {
            "text/html": [
              "<div>\n",
              "<style scoped>\n",
              "    .dataframe tbody tr th:only-of-type {\n",
              "        vertical-align: middle;\n",
              "    }\n",
              "\n",
              "    .dataframe tbody tr th {\n",
              "        vertical-align: top;\n",
              "    }\n",
              "\n",
              "    .dataframe thead th {\n",
              "        text-align: right;\n",
              "    }\n",
              "</style>\n",
              "<table border=\"1\" class=\"dataframe\">\n",
              "  <thead>\n",
              "    <tr style=\"text-align: right;\">\n",
              "      <th></th>\n",
              "      <th>Handset Manufacturer</th>\n",
              "      <th>Handset Type</th>\n",
              "      <th>count</th>\n",
              "    </tr>\n",
              "  </thead>\n",
              "  <tbody>\n",
              "    <tr>\n",
              "      <th>6</th>\n",
              "      <td>A-Link Telecom International Co Limited</td>\n",
              "      <td>A-Link Telecom I. Cubot X18 Plus</td>\n",
              "      <td>2</td>\n",
              "    </tr>\n",
              "    <tr>\n",
              "      <th>0</th>\n",
              "      <td>A-Link Telecom International Co Limited</td>\n",
              "      <td>A-Link Telecom I. Cubot A5</td>\n",
              "      <td>1</td>\n",
              "    </tr>\n",
              "    <tr>\n",
              "      <th>1</th>\n",
              "      <td>A-Link Telecom International Co Limited</td>\n",
              "      <td>A-Link Telecom I. Cubot Note Plus</td>\n",
              "      <td>1</td>\n",
              "    </tr>\n",
              "    <tr>\n",
              "      <th>2</th>\n",
              "      <td>A-Link Telecom International Co Limited</td>\n",
              "      <td>A-Link Telecom I. Cubot Note S</td>\n",
              "      <td>1</td>\n",
              "    </tr>\n",
              "    <tr>\n",
              "      <th>3</th>\n",
              "      <td>A-Link Telecom International Co Limited</td>\n",
              "      <td>A-Link Telecom I. Cubot Nova</td>\n",
              "      <td>1</td>\n",
              "    </tr>\n",
              "    <tr>\n",
              "      <th>...</th>\n",
              "      <td>...</td>\n",
              "      <td>...</td>\n",
              "      <td>...</td>\n",
              "    </tr>\n",
              "    <tr>\n",
              "      <th>1377</th>\n",
              "      <td>Zte</td>\n",
              "      <td>Zte Axon 6S Zte Axon 7 Axon 7</td>\n",
              "      <td>1</td>\n",
              "    </tr>\n",
              "    <tr>\n",
              "      <th>1392</th>\n",
              "      <td>ZyXEL Communications Corp</td>\n",
              "      <td>Zyxel Communicat. Zyxel Wah7706</td>\n",
              "      <td>1</td>\n",
              "    </tr>\n",
              "    <tr>\n",
              "      <th>1393</th>\n",
              "      <td>Zyxel Communications Corp</td>\n",
              "      <td>Zyxel Communicat. Lte7460</td>\n",
              "      <td>1</td>\n",
              "    </tr>\n",
              "    <tr>\n",
              "      <th>1394</th>\n",
              "      <td>Zyxel Communications Corp</td>\n",
              "      <td>Zyxel Communicat. Sbg3600</td>\n",
              "      <td>1</td>\n",
              "    </tr>\n",
              "    <tr>\n",
              "      <th>1395</th>\n",
              "      <td>undefined</td>\n",
              "      <td>undefined</td>\n",
              "      <td>8987</td>\n",
              "    </tr>\n",
              "  </tbody>\n",
              "</table>\n",
              "<p>434 rows × 3 columns</p>\n",
              "</div>"
            ],
            "text/plain": [
              "                         Handset Manufacturer  ... count\n",
              "6     A-Link Telecom International Co Limited  ...     2\n",
              "0     A-Link Telecom International Co Limited  ...     1\n",
              "1     A-Link Telecom International Co Limited  ...     1\n",
              "2     A-Link Telecom International Co Limited  ...     1\n",
              "3     A-Link Telecom International Co Limited  ...     1\n",
              "...                                       ...  ...   ...\n",
              "1377                                      Zte  ...     1\n",
              "1392                ZyXEL Communications Corp  ...     1\n",
              "1393                Zyxel Communications Corp  ...     1\n",
              "1394                Zyxel Communications Corp  ...     1\n",
              "1395                                undefined  ...  8987\n",
              "\n",
              "[434 rows x 3 columns]"
            ]
          },
          "metadata": {
            "tags": []
          },
          "execution_count": 8
        }
      ]
    },
    {
      "cell_type": "code",
      "metadata": {
        "id": "VsyKwvTEGWLD",
        "colab_type": "code",
        "colab": {}
      },
      "source": [
        "my_sheet = 'Sheet1' \n",
        "file_name = 'drive/My Drive/Week2_challenge_data_source.xlsx' \n",
        "df_user = read_excel(file_name, sheet_name = my_sheet, usecols=\"A,H,F,K,L,M,N,O,P,AE,BB,BC,AN,AO,AP,AQ,AR,AS,AT,AU,AV,AW,AX,AY,AZ,BA,BB,BC\")\n",
        "# df_user"
      ],
      "execution_count": 9,
      "outputs": []
    },
    {
      "cell_type": "code",
      "metadata": {
        "id": "kujNXll48-4R",
        "colab_type": "code",
        "colab": {
          "base_uri": "https://localhost:8080/",
          "height": 442
        },
        "outputId": "a7acab9c-6b73-4099-d9ba-d761ca08fc94"
      },
      "source": [
        "Q1 = df_user.quantile(0.25)\n",
        "Q3 = df_user.quantile(0.75)\n",
        "IQR = Q3 - Q1\n",
        "print(IQR)"
      ],
      "execution_count": 10,
      "outputs": [
        {
          "output_type": "stream",
          "text": [
            "Dur. (ms)                      7.498975e+04\n",
            "MSISDN/Number                  3.219519e+07\n",
            "Avg RTT DL (ms)                3.800000e+01\n",
            "Avg RTT UL (ms)                1.300000e+01\n",
            "Avg Bearer TP DL (kbps)        1.966775e+04\n",
            "Avg Bearer TP UL (kbps)        1.073000e+03\n",
            "TCP DL Retrans. Vol (Bytes)    3.732657e+06\n",
            "TCP UL Retrans. Vol (Bytes)    7.932550e+04\n",
            "Social Media DL (Bytes)        1.795790e+06\n",
            "Social Media UL (Bytes)        3.288600e+04\n",
            "Google DL (Bytes)              5.741159e+06\n",
            "Google UL (Bytes)              2.064175e+06\n",
            "Email DL (Bytes)               1.796534e+06\n",
            "Email UL (Bytes)               4.670570e+05\n",
            "Youtube DL (Bytes)             1.161502e+07\n",
            "Youtube UL (Bytes)             1.099760e+07\n",
            "Netflix DL (Bytes)             1.169332e+07\n",
            "Netflix UL (Bytes)             1.103129e+07\n",
            "Gaming DL (Bytes)              4.227009e+08\n",
            "Gaming UL (Bytes)              8.303148e+06\n",
            "Other DL (Bytes)               4.215049e+08\n",
            "Other UL (Bytes)               8.238205e+06\n",
            "Total UL (Bytes)               1.581223e+07\n",
            "Total DL (Bytes)               4.225987e+08\n",
            "dtype: float64\n"
          ],
          "name": "stdout"
        }
      ]
    },
    {
      "cell_type": "code",
      "metadata": {
        "id": "7Edw3x-j9RHX",
        "colab_type": "code",
        "colab": {}
      },
      "source": [
        "# print(df_user < (Q1 - 1.5 * IQR)) |(df_user > (Q3 + 1.5 * IQR))\n"
      ],
      "execution_count": 11,
      "outputs": []
    },
    {
      "cell_type": "markdown",
      "metadata": {
        "id": "mBrtKWrZDtsb",
        "colab_type": "text"
      },
      "source": [
        "##SOCIAL MEDIA"
      ]
    },
    {
      "cell_type": "code",
      "metadata": {
        "id": "KKIbVKQmyTqc",
        "colab_type": "code",
        "colab": {}
      },
      "source": [
        "#total volume of social media in bytes\n",
        "sum_column = df_user[\"Social Media UL (Bytes)\"] + df_user[\"Social Media DL (Bytes)\"]\n",
        "sum_data=df_user['Total DL (Bytes)']+df_user['Total UL (Bytes)']\n",
        "df_user[\"Total Social Media Volume (Bytes)\"] = sum_column\n",
        "df_user['Total UL+Dl (Bytes)']=sum_data\n",
        "df_user.to_csv(\"social_media.csv\")\n",
        "sm_df=df_user.groupby('MSISDN/Number')['Total Social Media Volume (Bytes)'].sum().reset_index(name='Total_Social_Media_Volume')\n",
        "# sm_df\n",
        "\n",
        "# #min,max, average of social media \n",
        "# sm_df['Total_Social_Media_Volume'].describe()\n",
        "\n",
        "#plot\n",
        "# (sm_df['Total_Social_Media_Volume'].value_counts().head(10) / len(sm_df)).plot.bar()\n",
        "# sns.distplot(sm_df.Total_Social_Media_Volume.dropna(), kde=False, bins = 50)\n",
        "\n",
        "#top 10 users\n",
        "sm_df_1=sm_df.nlargest(10,'Total_Social_Media_Volume')\n",
        "sm_df_1.to_csv(\"socialmedia10.csv\")\n",
        "\n",
        "\n",
        "\n"
      ],
      "execution_count": 20,
      "outputs": []
    },
    {
      "cell_type": "markdown",
      "metadata": {
        "id": "0D6GPlGfDqjv",
        "colab_type": "text"
      },
      "source": [
        "##GOOGLE"
      ]
    },
    {
      "cell_type": "code",
      "metadata": {
        "id": "NA8hgM5e0mZS",
        "colab_type": "code",
        "colab": {}
      },
      "source": [
        "#total volume of google in bytes\n",
        "sum_column1 = df_user[\"Google UL (Bytes)\"] + df_user[\"Google DL (Bytes)\"]\n",
        "sum_data1=df_user['Total DL (Bytes)']+df_user['Total UL (Bytes)']\n",
        "df_user[\"Total Google Volume (Bytes)\"] = sum_column1\n",
        "df_user['Total UL+Dl (Bytes)']=sum_data1\n",
        "df_user.to_csv(\"google.csv\")\n",
        "gg_df=df_user.groupby('MSISDN/Number')['Total Google Volume (Bytes)'].sum().reset_index(name='Total_Google_Volume')\n",
        "# gg_df\n",
        "# #min,max, average of google \n",
        "gg_df['Total_Google_Volume'].describe()\n",
        "\n",
        "#plot\n",
        "# (gg_df['Total Google Volume (Bytes)'].value_counts().head(10) / len(sm_df)).plot.bar()\n",
        "# sns.distplot(gg_df.Total_Google_Volume.dropna(), kde=False, bins = 50)\n",
        "\n",
        "\n",
        "#top 10 users\n",
        "gg_df_1=gg_df.nlargest(10,'Total_Google_Volume')\n",
        "gg_df_1.to_csv(\"google10.csv\")\n",
        "\n",
        "\n"
      ],
      "execution_count": 21,
      "outputs": []
    },
    {
      "cell_type": "markdown",
      "metadata": {
        "id": "aWGATISZDm78",
        "colab_type": "text"
      },
      "source": [
        "##EMAIL"
      ]
    },
    {
      "cell_type": "code",
      "metadata": {
        "id": "JdmsMtI911xL",
        "colab_type": "code",
        "colab": {}
      },
      "source": [
        "#total volume of email in bytes\n",
        "sum_column2 = df_user[\"Email UL (Bytes)\"] + df_user[\"Email DL (Bytes)\"]\n",
        "sum_data2=df_user['Total DL (Bytes)']+df_user['Total UL (Bytes)']\n",
        "df_user['Total UL+Dl (Bytes)']=sum_data2\n",
        "df_user[\"Total Email Volume (Bytes)\"] = sum_column2\n",
        "df_user.to_csv(\"email.csv\")\n",
        "em_df=df_user.groupby('MSISDN/Number')['Total Email Volume (Bytes)'].sum().reset_index(name='Total Email volume (Bytes)')\n",
        "# em_df\n",
        "\n",
        "# #min,max, average of email \n",
        "# em_df['Total Email volume (Bytes)'].describe()\n",
        "\n",
        "\n",
        "#plot\n",
        "# (em_df['Total Email volume (Bytes)'].value_counts().head(10) / len(sm_df)).plot.bar()\n",
        "\n",
        "\n",
        "#top 10 users\n",
        "em_df_1=em_df.nlargest(10,'Total Email volume (Bytes)')\n",
        "em_df_1.to_csv(\"email10.csv\")\n",
        "\n",
        "\n"
      ],
      "execution_count": 22,
      "outputs": []
    },
    {
      "cell_type": "markdown",
      "metadata": {
        "id": "1Jl4tikqeFQw",
        "colab_type": "text"
      },
      "source": [
        "##Netflix"
      ]
    },
    {
      "cell_type": "code",
      "metadata": {
        "id": "lCwUrt2xAwKV",
        "colab_type": "code",
        "colab": {}
      },
      "source": [
        "#total volume of netflix in bytes\n",
        "sum_colum = df_user[\"Netflix UL (Bytes)\"] + df_user[\"Netflix DL (Bytes)\"]\n",
        "sum_dat=df_user['Total DL (Bytes)']+df_user['Total UL (Bytes)']\n",
        "df_user['Total UL+Dl (Bytes)']=sum_dat\n",
        "df_user[\"Total Netflix Volume (Bytes)\"] = sum_colum\n",
        "df_user.to_csv(\"email.csv\")\n",
        "nf_df=df_user.groupby('MSISDN/Number')['Total Netflix Volume (Bytes)'].sum().reset_index(name='Total Netflix volume (Bytes)')\n",
        "# nf_df\n",
        "\n",
        "# #min,max, average of netflix \n",
        "# nf_df['Total Netflix volume (Bytes)'].describe()\n",
        "\n",
        "\n",
        "#plot\n",
        "# (nf_df['Total Netflix volume (Bytes)'].value_counts().head(10) / len(sm_df)).plot.bar()\n",
        "\n",
        "\n",
        "#top 10 users\n",
        "nf_df_1=nf_df.nlargest(10,'Total Netflix volume (Bytes)')\n",
        "nf_df_1.to_csv(\"netflix10.csv\")\n",
        "\n",
        "\n"
      ],
      "execution_count": 23,
      "outputs": []
    },
    {
      "cell_type": "markdown",
      "metadata": {
        "id": "8xQhZ3ivDif5",
        "colab_type": "text"
      },
      "source": [
        "##YOUTUBE"
      ]
    },
    {
      "cell_type": "code",
      "metadata": {
        "id": "ym89QluQ164J",
        "colab_type": "code",
        "colab": {}
      },
      "source": [
        "#total volume of youtube in bytes\n",
        "sum_column3 = df_user[\"Youtube UL (Bytes)\"] + df_user[\"Youtube DL (Bytes)\"]\n",
        "sum_data3=df_user['Total DL (Bytes)']+df_user['Total UL (Bytes)']\n",
        "df_user[\"Total Youtube Volume (Bytes)\"] = sum_column3\n",
        "df_user['Total UL+Dl (Bytes)']=sum_data3\n",
        "df_user.to_csv(\"youtube.csv\")\n",
        "yt_df=df_user.groupby('MSISDN/Number')['Total Youtube Volume (Bytes)'].sum().reset_index(name='Total Youtube Volume (Bytes)')\n",
        "# yt_df\n",
        "\n",
        "# #min,max, average of Youtube \n",
        "# yt_df['Total Youtube Volume (Bytes)'].describe()\n",
        "\n",
        "#plot\n",
        "# (yt_df['Total Youtube Volume (Bytes)'].value_counts().head(10) / len(sm_df)).plot.bar()\n",
        "\n",
        "#top 10 users\n",
        "yt_df_1=yt_df.nlargest(10,'Total Youtube Volume (Bytes)')\n",
        "yt_df_1.to_csv(\"youtube10.csv\")\n",
        "\n"
      ],
      "execution_count": 24,
      "outputs": []
    },
    {
      "cell_type": "markdown",
      "metadata": {
        "id": "xjPc65mWDb7G",
        "colab_type": "text"
      },
      "source": [
        "##GAMING APPLICATION"
      ]
    },
    {
      "cell_type": "code",
      "metadata": {
        "id": "9hb_naiL2Qdw",
        "colab_type": "code",
        "colab": {}
      },
      "source": [
        "#total volume of gaming in bytes\n",
        "sum_column5 = df_user[\"Gaming UL (Bytes)\"] + df_user[\"Gaming DL (Bytes)\"]\n",
        "sum_data5=df_user['Total DL (Bytes)']+df_user['Total UL (Bytes)']\n",
        "df_user['Total UL+Dl (Bytes)']=sum_data5\n",
        "df_user[\"Total Gaming Volume (Bytes)\"] = sum_column5\n",
        "df_user.to_csv(\"gaming.csv\")\n",
        "gm_df=df_user.groupby('MSISDN/Number')['Total Gaming Volume (Bytes)'].sum().reset_index(name='Total Gaming Volume (Bytes)')\n",
        "# gm_df\n",
        "\n",
        "# #min,max, average of Gaming \n",
        "gm_df['Total Gaming Volume (Bytes)'].describe()\n",
        "\n",
        "#plot\n",
        "# (gm_df['Total Gaming Volume (Bytes)'].value_counts().head(10) / len(sm_df)).plot.bar()\n",
        "\n",
        "gm_df_1=gm_df.nlargest(10,'Total Gaming Volume (Bytes)')\n",
        "gm_df_1.to_csv(\"gaming10.csv\")\n"
      ],
      "execution_count": 25,
      "outputs": []
    },
    {
      "cell_type": "markdown",
      "metadata": {
        "id": "74P8HVjuDy6M",
        "colab_type": "text"
      },
      "source": [
        "##OTHER"
      ]
    },
    {
      "cell_type": "code",
      "metadata": {
        "id": "NBFERrM62jfb",
        "colab_type": "code",
        "colab": {
          "base_uri": "https://localhost:8080/",
          "height": 419
        },
        "outputId": "e6a5c64e-2d53-48ce-8b67-81374c624e16"
      },
      "source": [
        "#total volume of other in bytes\n",
        "sum_column = df_user[\"Other UL (Bytes)\"] + df_user[\"Other DL (Bytes)\"]\n",
        "df_user[\"Total Other Volume (Bytes)\"] = sum_column\n",
        "other_df=df_user.groupby('MSISDN/Number')['Total Other Volume (Bytes)'].sum().reset_index(name=\"Total Other Volume(Bytes)\")\n",
        "other_df\n"
      ],
      "execution_count": 26,
      "outputs": [
        {
          "output_type": "execute_result",
          "data": {
            "text/html": [
              "<div>\n",
              "<style scoped>\n",
              "    .dataframe tbody tr th:only-of-type {\n",
              "        vertical-align: middle;\n",
              "    }\n",
              "\n",
              "    .dataframe tbody tr th {\n",
              "        vertical-align: top;\n",
              "    }\n",
              "\n",
              "    .dataframe thead th {\n",
              "        text-align: right;\n",
              "    }\n",
              "</style>\n",
              "<table border=\"1\" class=\"dataframe\">\n",
              "  <thead>\n",
              "    <tr style=\"text-align: right;\">\n",
              "      <th></th>\n",
              "      <th>MSISDN/Number</th>\n",
              "      <th>Total Other Volume(Bytes)</th>\n",
              "    </tr>\n",
              "  </thead>\n",
              "  <tbody>\n",
              "    <tr>\n",
              "      <th>0</th>\n",
              "      <td>3.360100e+10</td>\n",
              "      <td>386570872.0</td>\n",
              "    </tr>\n",
              "    <tr>\n",
              "      <th>1</th>\n",
              "      <td>3.360100e+10</td>\n",
              "      <td>281710071.0</td>\n",
              "    </tr>\n",
              "    <tr>\n",
              "      <th>2</th>\n",
              "      <td>3.360100e+10</td>\n",
              "      <td>501693672.0</td>\n",
              "    </tr>\n",
              "    <tr>\n",
              "      <th>3</th>\n",
              "      <td>3.360101e+10</td>\n",
              "      <td>35279702.0</td>\n",
              "    </tr>\n",
              "    <tr>\n",
              "      <th>4</th>\n",
              "      <td>3.360101e+10</td>\n",
              "      <td>804804484.0</td>\n",
              "    </tr>\n",
              "    <tr>\n",
              "      <th>...</th>\n",
              "      <td>...</td>\n",
              "      <td>...</td>\n",
              "    </tr>\n",
              "    <tr>\n",
              "      <th>106851</th>\n",
              "      <td>3.379000e+10</td>\n",
              "      <td>295282817.0</td>\n",
              "    </tr>\n",
              "    <tr>\n",
              "      <th>106852</th>\n",
              "      <td>3.379000e+10</td>\n",
              "      <td>211115113.0</td>\n",
              "    </tr>\n",
              "    <tr>\n",
              "      <th>106853</th>\n",
              "      <td>3.197021e+12</td>\n",
              "      <td>470526473.0</td>\n",
              "    </tr>\n",
              "    <tr>\n",
              "      <th>106854</th>\n",
              "      <td>3.370000e+14</td>\n",
              "      <td>149188439.0</td>\n",
              "    </tr>\n",
              "    <tr>\n",
              "      <th>106855</th>\n",
              "      <td>8.823971e+14</td>\n",
              "      <td>401360457.0</td>\n",
              "    </tr>\n",
              "  </tbody>\n",
              "</table>\n",
              "<p>106856 rows × 2 columns</p>\n",
              "</div>"
            ],
            "text/plain": [
              "        MSISDN/Number  Total Other Volume(Bytes)\n",
              "0        3.360100e+10                386570872.0\n",
              "1        3.360100e+10                281710071.0\n",
              "2        3.360100e+10                501693672.0\n",
              "3        3.360101e+10                 35279702.0\n",
              "4        3.360101e+10                804804484.0\n",
              "...               ...                        ...\n",
              "106851   3.379000e+10                295282817.0\n",
              "106852   3.379000e+10                211115113.0\n",
              "106853   3.197021e+12                470526473.0\n",
              "106854   3.370000e+14                149188439.0\n",
              "106855   8.823971e+14                401360457.0\n",
              "\n",
              "[106856 rows x 2 columns]"
            ]
          },
          "metadata": {
            "tags": []
          },
          "execution_count": 26
        }
      ]
    },
    {
      "cell_type": "code",
      "metadata": {
        "id": "MgYpWDlJkzsv",
        "colab_type": "code",
        "colab": {}
      },
      "source": [
        "# top_3_apps=[gm_df[\"Total Gaming Volume (Bytes)\"],sm_df()]"
      ],
      "execution_count": null,
      "outputs": []
    },
    {
      "cell_type": "markdown",
      "metadata": {
        "id": "sX47lMwlD1fZ",
        "colab_type": "text"
      },
      "source": [
        "##XDR SESSIONS"
      ]
    },
    {
      "cell_type": "code",
      "metadata": {
        "id": "1fKE-MWUHWnL",
        "colab_type": "code",
        "colab": {
          "base_uri": "https://localhost:8080/",
          "height": 170
        },
        "outputId": "2ee96533-5423-4254-b67c-74853efb1701"
      },
      "source": [
        "#number of xdr sessions per user\n",
        "xdr=df_user.groupby('MSISDN/Number')['Bearer Id'].count().reset_index(name='count')\n",
        "# xdr.to_csv(\"xdr.csv\")\n",
        "xdr\n",
        "\n",
        "#min,max, average of xdr sessions\n",
        "xdr['count'].describe()\n",
        "\n",
        "# #PLOT\n",
        "# # (xdr['count'].value_counts().head(10) / len(sm_df)).plot.bar()\n",
        "\n",
        "# #top 10 customers per session duration metric\n",
        "# # \n",
        "# xdr1=xdr.nlargest(10,'count')\n",
        "# xdr1.to_csv(\"sessions_10.csv\")\n"
      ],
      "execution_count": 28,
      "outputs": [
        {
          "output_type": "execute_result",
          "data": {
            "text/plain": [
              "count    106856.000000\n",
              "mean          1.393792\n",
              "std           0.806022\n",
              "min           1.000000\n",
              "25%           1.000000\n",
              "50%           1.000000\n",
              "75%           2.000000\n",
              "max          18.000000\n",
              "Name: count, dtype: float64"
            ]
          },
          "metadata": {
            "tags": []
          },
          "execution_count": 28
        }
      ]
    },
    {
      "cell_type": "markdown",
      "metadata": {
        "id": "5GoHznzaD41a",
        "colab_type": "text"
      },
      "source": [
        "##SESSION DURATION"
      ]
    },
    {
      "cell_type": "code",
      "metadata": {
        "id": "jhHCEl3lDmih",
        "colab_type": "code",
        "colab": {
          "base_uri": "https://localhost:8080/",
          "height": 303
        },
        "outputId": "a30753bf-d54f-4448-f8fa-6a6067c8e346"
      },
      "source": [
        "#session duration per user\n",
        "dur_agg=df_user.groupby('MSISDN/Number')['Dur. (ms)'].sum().reset_index(name=\"sum\")\n",
        "dur_agg\n",
        "\n",
        "#min,max, average of sessions duration\n",
        "dur_agg[\"sum\"].describe()\n",
        "\n",
        "#plot\n",
        "(dur_agg['sum'].value_counts().head(10) / len(sm_df)).plot.bar()\n",
        "\n",
        "#top 10 customers per session duration metric\n",
        "dur_agg1=dur_agg.nlargest(10,'sum')\n",
        "dur_agg1.to_csv(\"duration_10.csv\")"
      ],
      "execution_count": 29,
      "outputs": [
        {
          "output_type": "display_data",
          "data": {
            "image/png": "[encoded data removed]",
            "text/plain": [
              "<Figure size 432x288 with 1 Axes>"
            ]
          },
          "metadata": {
            "tags": [],
            "needs_background": "light"
          }
        }
      ]
    },
    {
      "cell_type": "markdown",
      "metadata": {
        "id": "ZnNBnEKt1gNR",
        "colab_type": "text"
      },
      "source": [
        "##UL+DL"
      ]
    },
    {
      "cell_type": "code",
      "metadata": {
        "id": "n-USMWtAF51j",
        "colab_type": "code",
        "colab": {
          "base_uri": "https://localhost:8080/",
          "height": 170
        },
        "outputId": "68ce8d30-3c78-4666-c794-53ac001a6fef"
      },
      "source": [
        "#total UL data per user\n",
        "dur_agg_ul=df_user.groupby('MSISDN/Number')['Total UL (Bytes)'].sum().reset_index(name=\"sum\")\n",
        "dur_agg_ul\n",
        "\n",
        "# #min,max, average of UL sessions\n",
        "dur_agg_ul['sum'].describe()\n",
        "#plot\n",
        "# (dur_agg_ul['sum'].value_counts().head(10) / len(sm_df)).plot.bar()"
      ],
      "execution_count": 30,
      "outputs": [
        {
          "output_type": "execute_result",
          "data": {
            "text/plain": [
              "count    1.068560e+05\n",
              "mean     5.730942e+07\n",
              "std      3.565765e+07\n",
              "min      2.866892e+06\n",
              "25%      3.639547e+07\n",
              "50%      4.679387e+07\n",
              "75%      6.573199e+07\n",
              "max      7.295774e+08\n",
              "Name: sum, dtype: float64"
            ]
          },
          "metadata": {
            "tags": []
          },
          "execution_count": 30
        }
      ]
    },
    {
      "cell_type": "code",
      "metadata": {
        "id": "BKVEZQnW9BAw",
        "colab_type": "code",
        "colab": {
          "base_uri": "https://localhost:8080/",
          "height": 290
        },
        "outputId": "4372df0a-195c-44f6-e809-2357b674a0ee"
      },
      "source": [
        "#top 10 customers per total Ul and DL metric\n",
        "sum_data7=df_user['Total DL (Bytes)']+df_user['Total UL (Bytes)']\n",
        "df_user['Total UL+DL']=sum_data7\n",
        "agg_ul_dl=df_user.groupby('MSISDN/Number')['Total UL+DL'].sum().reset_index(name=\"sum\")\n",
        "# agg_ul_dl\n",
        "agg_ul_dl1=agg_ul_dl.nlargest(10,'sum')\n",
        "agg_ul_dl1.to_csv(\"total_data10.csv\")\n",
        "\n",
        "\n",
        "\n",
        "# agg_ul_dl.plot(x=\"MSISDN/Number\", y=[\"sum\"], kind=\"bar\")\n",
        "# plt.show\n",
        "sns.barplot(x=\"MSISDN/Number\",y=\"sum\",data=agg_ul_dl1)\n",
        "plt.show()\n"
      ],
      "execution_count": 31,
      "outputs": [
        {
          "output_type": "display_data",
          "data": {
            "image/png": "[encoded data removed]",
            "text/plain": [
              "<Figure size 432x288 with 1 Axes>"
            ]
          },
          "metadata": {
            "tags": [],
            "needs_background": "light"
          }
        }
      ]
    },
    {
      "cell_type": "code",
      "metadata": {
        "id": "nfUOR3q3GQIQ",
        "colab_type": "code",
        "colab": {
          "base_uri": "https://localhost:8080/",
          "height": 356
        },
        "outputId": "a8c3468e-6391-4f43-9309-f0bb87af9d89"
      },
      "source": [
        "#total DL data per user\n",
        "dur_agg_dl=df_user.groupby('MSISDN/Number')['Total DL (Bytes)'].sum().reset_index(name=\"sum\")\n",
        "# dur_agg_dl\n",
        "\n",
        "# #min,max, average of DL sessions\n",
        "dur_agg_dl['sum'].describe()\n",
        "\n",
        "#@title Default title text\n",
        "(dur_agg_dl['sum'].value_counts().head(10) / len(sm_df)).plot.bar()\n",
        "\n"
      ],
      "execution_count": 32,
      "outputs": [
        {
          "output_type": "execute_result",
          "data": {
            "text/plain": [
              "<matplotlib.axes._subplots.AxesSubplot at 0x7fbcbe0529e8>"
            ]
          },
          "metadata": {
            "tags": []
          },
          "execution_count": 32
        },
        {
          "output_type": "display_data",
          "data": {
            "image/png": "[encoded data removed]",
            "text/plain": [
              "<Figure size 432x288 with 1 Axes>"
            ]
          },
          "metadata": {
            "tags": [],
            "needs_background": "light"
          }
        }
      ]
    },
    {
      "cell_type": "markdown",
      "metadata": {
        "id": "EZRlB-C81kHR",
        "colab_type": "text"
      },
      "source": [
        "##K means engagement metrics"
      ]
    },
    {
      "cell_type": "code",
      "metadata": {
        "id": "Cr_JMTcR1a8u",
        "colab_type": "code",
        "colab": {
          "base_uri": "https://localhost:8080/",
          "height": 419
        },
        "outputId": "a417989c-32c5-4f1f-89d2-d7f9d2e4b57d"
      },
      "source": [
        "#engagament metrics kmeans clustering\n",
        "data_eng = [xdr[\"count\"], dur_agg[\"sum\"],agg_ul_dl[\"sum\"]]\n",
        "headers = [\"session frequency\", \"Duration\",\n",
        "          \"Total Data\" ]     \n",
        "eng_metrics = pd.concat(data_eng, axis=1, keys=headers)\n",
        "eng_metrics\n",
        "\n",
        "kmeans = KMeans(n_clusters=3)\n",
        "\n",
        "y = kmeans.fit_predict(eng_metrics[['session frequency', 'Duration', 'Total Data',]])\n",
        "\n",
        "eng_metrics['Cluster'] = y\n",
        "\n",
        "eng000 = eng_metrics[eng_metrics.Cluster==0]\n",
        "eng000\n",
        "eng111 =  eng_metrics[eng_metrics.Cluster==1]\n",
        "eng111\n",
        "eng222 =  eng_metrics[eng_metrics.Cluster==2]\n",
        "eng222\n",
        "\n",
        "\n"
      ],
      "execution_count": 33,
      "outputs": [
        {
          "output_type": "execute_result",
          "data": {
            "text/html": [
              "<div>\n",
              "<style scoped>\n",
              "    .dataframe tbody tr th:only-of-type {\n",
              "        vertical-align: middle;\n",
              "    }\n",
              "\n",
              "    .dataframe tbody tr th {\n",
              "        vertical-align: top;\n",
              "    }\n",
              "\n",
              "    .dataframe thead th {\n",
              "        text-align: right;\n",
              "    }\n",
              "</style>\n",
              "<table border=\"1\" class=\"dataframe\">\n",
              "  <thead>\n",
              "    <tr style=\"text-align: right;\">\n",
              "      <th></th>\n",
              "      <th>session frequency</th>\n",
              "      <th>Duration</th>\n",
              "      <th>Total Data</th>\n",
              "      <th>Cluster</th>\n",
              "    </tr>\n",
              "  </thead>\n",
              "  <tbody>\n",
              "    <tr>\n",
              "      <th>4</th>\n",
              "      <td>2</td>\n",
              "      <td>37104.0</td>\n",
              "      <td>1.457411e+09</td>\n",
              "      <td>2</td>\n",
              "    </tr>\n",
              "    <tr>\n",
              "      <th>20</th>\n",
              "      <td>2</td>\n",
              "      <td>73674.0</td>\n",
              "      <td>1.632761e+09</td>\n",
              "      <td>2</td>\n",
              "    </tr>\n",
              "    <tr>\n",
              "      <th>29</th>\n",
              "      <td>3</td>\n",
              "      <td>162176.0</td>\n",
              "      <td>1.939527e+09</td>\n",
              "      <td>2</td>\n",
              "    </tr>\n",
              "    <tr>\n",
              "      <th>33</th>\n",
              "      <td>2</td>\n",
              "      <td>329753.0</td>\n",
              "      <td>1.449853e+09</td>\n",
              "      <td>2</td>\n",
              "    </tr>\n",
              "    <tr>\n",
              "      <th>51</th>\n",
              "      <td>2</td>\n",
              "      <td>107959.0</td>\n",
              "      <td>1.511483e+09</td>\n",
              "      <td>2</td>\n",
              "    </tr>\n",
              "    <tr>\n",
              "      <th>...</th>\n",
              "      <td>...</td>\n",
              "      <td>...</td>\n",
              "      <td>...</td>\n",
              "      <td>...</td>\n",
              "    </tr>\n",
              "    <tr>\n",
              "      <th>106808</th>\n",
              "      <td>2</td>\n",
              "      <td>113968.0</td>\n",
              "      <td>1.516157e+09</td>\n",
              "      <td>2</td>\n",
              "    </tr>\n",
              "    <tr>\n",
              "      <th>106812</th>\n",
              "      <td>2</td>\n",
              "      <td>71626.0</td>\n",
              "      <td>1.363064e+09</td>\n",
              "      <td>2</td>\n",
              "    </tr>\n",
              "    <tr>\n",
              "      <th>106823</th>\n",
              "      <td>3</td>\n",
              "      <td>491169.0</td>\n",
              "      <td>2.210363e+09</td>\n",
              "      <td>2</td>\n",
              "    </tr>\n",
              "    <tr>\n",
              "      <th>106838</th>\n",
              "      <td>4</td>\n",
              "      <td>702234.0</td>\n",
              "      <td>1.869162e+09</td>\n",
              "      <td>2</td>\n",
              "    </tr>\n",
              "    <tr>\n",
              "      <th>106846</th>\n",
              "      <td>2</td>\n",
              "      <td>209051.0</td>\n",
              "      <td>1.540055e+09</td>\n",
              "      <td>2</td>\n",
              "    </tr>\n",
              "  </tbody>\n",
              "</table>\n",
              "<p>9656 rows × 4 columns</p>\n",
              "</div>"
            ],
            "text/plain": [
              "        session frequency  Duration    Total Data  Cluster\n",
              "4                       2   37104.0  1.457411e+09        2\n",
              "20                      2   73674.0  1.632761e+09        2\n",
              "29                      3  162176.0  1.939527e+09        2\n",
              "33                      2  329753.0  1.449853e+09        2\n",
              "51                      2  107959.0  1.511483e+09        2\n",
              "...                   ...       ...           ...      ...\n",
              "106808                  2  113968.0  1.516157e+09        2\n",
              "106812                  2   71626.0  1.363064e+09        2\n",
              "106823                  3  491169.0  2.210363e+09        2\n",
              "106838                  4  702234.0  1.869162e+09        2\n",
              "106846                  2  209051.0  1.540055e+09        2\n",
              "\n",
              "[9656 rows x 4 columns]"
            ]
          },
          "metadata": {
            "tags": []
          },
          "execution_count": 33
        }
      ]
    },
    {
      "cell_type": "code",
      "metadata": {
        "id": "9PZ7V8b41ovB",
        "colab_type": "code",
        "colab": {
          "base_uri": "https://localhost:8080/",
          "height": 419
        },
        "outputId": "5e7134cd-fab7-451c-a025-bb6f7f3a3eb9"
      },
      "source": [
        "#normalize\n",
        "norm_metrics=(eng_metrics-eng_metrics.min())/(eng_metrics.max()-eng_metrics.min())\n",
        "\n",
        "kmeans = KMeans(n_clusters=3)\n",
        "\n",
        "y = kmeans.fit_predict(norm_metrics[['session frequency', 'Duration', 'Total Data',]])\n",
        "\n",
        "norm_metrics['Cluster'] = y\n",
        "norm_metrics\n",
        "\n",
        "eng00 = norm_metrics[norm_metrics.Cluster==0]\n",
        "eng00\n",
        "eng11 =  norm_metrics[norm_metrics.Cluster==1]\n",
        "eng11\n",
        "eng22 =  norm_metrics[norm_metrics.Cluster==2]\n",
        "eng22\n"
      ],
      "execution_count": 34,
      "outputs": [
        {
          "output_type": "execute_result",
          "data": {
            "text/html": [
              "<div>\n",
              "<style scoped>\n",
              "    .dataframe tbody tr th:only-of-type {\n",
              "        vertical-align: middle;\n",
              "    }\n",
              "\n",
              "    .dataframe tbody tr th {\n",
              "        vertical-align: top;\n",
              "    }\n",
              "\n",
              "    .dataframe thead th {\n",
              "        text-align: right;\n",
              "    }\n",
              "</style>\n",
              "<table border=\"1\" class=\"dataframe\">\n",
              "  <thead>\n",
              "    <tr style=\"text-align: right;\">\n",
              "      <th></th>\n",
              "      <th>session frequency</th>\n",
              "      <th>Duration</th>\n",
              "      <th>Total Data</th>\n",
              "      <th>Cluster</th>\n",
              "    </tr>\n",
              "  </thead>\n",
              "  <tbody>\n",
              "    <tr>\n",
              "      <th>4</th>\n",
              "      <td>0.058824</td>\n",
              "      <td>0.001615</td>\n",
              "      <td>0.161598</td>\n",
              "      <td>2</td>\n",
              "    </tr>\n",
              "    <tr>\n",
              "      <th>6</th>\n",
              "      <td>0.058824</td>\n",
              "      <td>0.006536</td>\n",
              "      <td>0.070518</td>\n",
              "      <td>2</td>\n",
              "    </tr>\n",
              "    <tr>\n",
              "      <th>8</th>\n",
              "      <td>0.058824</td>\n",
              "      <td>0.026342</td>\n",
              "      <td>0.108577</td>\n",
              "      <td>2</td>\n",
              "    </tr>\n",
              "    <tr>\n",
              "      <th>20</th>\n",
              "      <td>0.058824</td>\n",
              "      <td>0.003587</td>\n",
              "      <td>0.181495</td>\n",
              "      <td>2</td>\n",
              "    </tr>\n",
              "    <tr>\n",
              "      <th>21</th>\n",
              "      <td>0.058824</td>\n",
              "      <td>0.011841</td>\n",
              "      <td>0.123637</td>\n",
              "      <td>2</td>\n",
              "    </tr>\n",
              "    <tr>\n",
              "      <th>...</th>\n",
              "      <td>...</td>\n",
              "      <td>...</td>\n",
              "      <td>...</td>\n",
              "      <td>...</td>\n",
              "    </tr>\n",
              "    <tr>\n",
              "      <th>106826</th>\n",
              "      <td>0.058824</td>\n",
              "      <td>0.030780</td>\n",
              "      <td>0.087849</td>\n",
              "      <td>2</td>\n",
              "    </tr>\n",
              "    <tr>\n",
              "      <th>106830</th>\n",
              "      <td>0.058824</td>\n",
              "      <td>0.009812</td>\n",
              "      <td>0.077284</td>\n",
              "      <td>2</td>\n",
              "    </tr>\n",
              "    <tr>\n",
              "      <th>106831</th>\n",
              "      <td>0.058824</td>\n",
              "      <td>0.002603</td>\n",
              "      <td>0.133886</td>\n",
              "      <td>2</td>\n",
              "    </tr>\n",
              "    <tr>\n",
              "      <th>106846</th>\n",
              "      <td>0.058824</td>\n",
              "      <td>0.010887</td>\n",
              "      <td>0.170976</td>\n",
              "      <td>2</td>\n",
              "    </tr>\n",
              "    <tr>\n",
              "      <th>106850</th>\n",
              "      <td>0.058824</td>\n",
              "      <td>0.010959</td>\n",
              "      <td>0.120441</td>\n",
              "      <td>2</td>\n",
              "    </tr>\n",
              "  </tbody>\n",
              "</table>\n",
              "<p>21621 rows × 4 columns</p>\n",
              "</div>"
            ],
            "text/plain": [
              "        session frequency  Duration  Total Data  Cluster\n",
              "4                0.058824  0.001615    0.161598        2\n",
              "6                0.058824  0.006536    0.070518        2\n",
              "8                0.058824  0.026342    0.108577        2\n",
              "20               0.058824  0.003587    0.181495        2\n",
              "21               0.058824  0.011841    0.123637        2\n",
              "...                   ...       ...         ...      ...\n",
              "106826           0.058824  0.030780    0.087849        2\n",
              "106830           0.058824  0.009812    0.077284        2\n",
              "106831           0.058824  0.002603    0.133886        2\n",
              "106846           0.058824  0.010887    0.170976        2\n",
              "106850           0.058824  0.010959    0.120441        2\n",
              "\n",
              "[21621 rows x 4 columns]"
            ]
          },
          "metadata": {
            "tags": []
          },
          "execution_count": 34
        }
      ]
    },
    {
      "cell_type": "code",
      "metadata": {
        "id": "pRcbkJoMuZte",
        "colab_type": "code",
        "colab": {
          "base_uri": "https://localhost:8080/",
          "height": 297
        },
        "outputId": "407c175d-e43e-4772-bd4e-95facfad091a"
      },
      "source": [
        "e1=eng000.describe()\n",
        "e1.to_csv(\"engoo.csv\")\n",
        "e1\n"
      ],
      "execution_count": 35,
      "outputs": [
        {
          "output_type": "execute_result",
          "data": {
            "text/html": [
              "<div>\n",
              "<style scoped>\n",
              "    .dataframe tbody tr th:only-of-type {\n",
              "        vertical-align: middle;\n",
              "    }\n",
              "\n",
              "    .dataframe tbody tr th {\n",
              "        vertical-align: top;\n",
              "    }\n",
              "\n",
              "    .dataframe thead th {\n",
              "        text-align: right;\n",
              "    }\n",
              "</style>\n",
              "<table border=\"1\" class=\"dataframe\">\n",
              "  <thead>\n",
              "    <tr style=\"text-align: right;\">\n",
              "      <th></th>\n",
              "      <th>session frequency</th>\n",
              "      <th>Duration</th>\n",
              "      <th>Total Data</th>\n",
              "      <th>Cluster</th>\n",
              "    </tr>\n",
              "  </thead>\n",
              "  <tbody>\n",
              "    <tr>\n",
              "      <th>count</th>\n",
              "      <td>49314.000000</td>\n",
              "      <td>4.931400e+04</td>\n",
              "      <td>4.931400e+04</td>\n",
              "      <td>49314.0</td>\n",
              "    </tr>\n",
              "    <tr>\n",
              "      <th>mean</th>\n",
              "      <td>1.060490</td>\n",
              "      <td>1.086224e+05</td>\n",
              "      <td>3.333198e+08</td>\n",
              "      <td>0.0</td>\n",
              "    </tr>\n",
              "    <tr>\n",
              "      <th>std</th>\n",
              "      <td>0.242527</td>\n",
              "      <td>8.060018e+04</td>\n",
              "      <td>1.468398e+08</td>\n",
              "      <td>0.0</td>\n",
              "    </tr>\n",
              "    <tr>\n",
              "      <th>min</th>\n",
              "      <td>1.000000</td>\n",
              "      <td>7.142000e+03</td>\n",
              "      <td>3.324901e+07</td>\n",
              "      <td>0.0</td>\n",
              "    </tr>\n",
              "    <tr>\n",
              "      <th>25%</th>\n",
              "      <td>1.000000</td>\n",
              "      <td>5.654200e+04</td>\n",
              "      <td>2.079928e+08</td>\n",
              "      <td>0.0</td>\n",
              "    </tr>\n",
              "    <tr>\n",
              "      <th>50%</th>\n",
              "      <td>1.000000</td>\n",
              "      <td>8.666050e+04</td>\n",
              "      <td>3.364347e+08</td>\n",
              "      <td>0.0</td>\n",
              "    </tr>\n",
              "    <tr>\n",
              "      <th>75%</th>\n",
              "      <td>1.000000</td>\n",
              "      <td>1.442202e+05</td>\n",
              "      <td>4.615216e+08</td>\n",
              "      <td>0.0</td>\n",
              "    </tr>\n",
              "    <tr>\n",
              "      <th>max</th>\n",
              "      <td>4.000000</td>\n",
              "      <td>1.576929e+06</td>\n",
              "      <td>5.798369e+08</td>\n",
              "      <td>0.0</td>\n",
              "    </tr>\n",
              "  </tbody>\n",
              "</table>\n",
              "</div>"
            ],
            "text/plain": [
              "       session frequency      Duration    Total Data  Cluster\n",
              "count       49314.000000  4.931400e+04  4.931400e+04  49314.0\n",
              "mean            1.060490  1.086224e+05  3.333198e+08      0.0\n",
              "std             0.242527  8.060018e+04  1.468398e+08      0.0\n",
              "min             1.000000  7.142000e+03  3.324901e+07      0.0\n",
              "25%             1.000000  5.654200e+04  2.079928e+08      0.0\n",
              "50%             1.000000  8.666050e+04  3.364347e+08      0.0\n",
              "75%             1.000000  1.442202e+05  4.615216e+08      0.0\n",
              "max             4.000000  1.576929e+06  5.798369e+08      0.0"
            ]
          },
          "metadata": {
            "tags": []
          },
          "execution_count": 35
        }
      ]
    },
    {
      "cell_type": "code",
      "metadata": {
        "id": "u3O1vcyXuch4",
        "colab_type": "code",
        "colab": {}
      },
      "source": [
        "e2=eng111.describe()\n",
        "e2.to_csv(\"eng11.csv\")\n"
      ],
      "execution_count": 36,
      "outputs": []
    },
    {
      "cell_type": "code",
      "metadata": {
        "id": "YFc8rJBzu89m",
        "colab_type": "code",
        "colab": {}
      },
      "source": [
        "e3=eng222.describe()\n",
        "e3.to_csv(\"eng22.csv\")\n"
      ],
      "execution_count": 37,
      "outputs": []
    },
    {
      "cell_type": "code",
      "metadata": {
        "id": "Rq8sYZxplkHu",
        "colab_type": "code",
        "colab": {
          "base_uri": "https://localhost:8080/",
          "height": 419
        },
        "outputId": "f2f02aed-1e77-442a-869b-6dd9896c7f4a"
      },
      "source": [
        "alldistances = kmeans.fit_transform(norm_metrics)\n",
        "# alldistances\n",
        "ddf=pd.DataFrame(alldistances)\n",
        "ddf.columns = ['0','1','2']\n",
        "ddf"
      ],
      "execution_count": 38,
      "outputs": [
        {
          "output_type": "execute_result",
          "data": {
            "text/html": [
              "<div>\n",
              "<style scoped>\n",
              "    .dataframe tbody tr th:only-of-type {\n",
              "        vertical-align: middle;\n",
              "    }\n",
              "\n",
              "    .dataframe tbody tr th {\n",
              "        vertical-align: top;\n",
              "    }\n",
              "\n",
              "    .dataframe thead th {\n",
              "        text-align: right;\n",
              "    }\n",
              "</style>\n",
              "<table border=\"1\" class=\"dataframe\">\n",
              "  <thead>\n",
              "    <tr style=\"text-align: right;\">\n",
              "      <th></th>\n",
              "      <th>0</th>\n",
              "      <th>1</th>\n",
              "      <th>2</th>\n",
              "    </tr>\n",
              "  </thead>\n",
              "  <tbody>\n",
              "    <tr>\n",
              "      <th>0</th>\n",
              "      <td>1.030797</td>\n",
              "      <td>0.043551</td>\n",
              "      <td>2.001402</td>\n",
              "    </tr>\n",
              "    <tr>\n",
              "      <th>1</th>\n",
              "      <td>1.046509</td>\n",
              "      <td>0.038718</td>\n",
              "      <td>2.004219</td>\n",
              "    </tr>\n",
              "    <tr>\n",
              "      <th>2</th>\n",
              "      <td>1.036215</td>\n",
              "      <td>0.011763</td>\n",
              "      <td>2.002107</td>\n",
              "    </tr>\n",
              "    <tr>\n",
              "      <th>3</th>\n",
              "      <td>1.040147</td>\n",
              "      <td>0.009206</td>\n",
              "      <td>2.002811</td>\n",
              "    </tr>\n",
              "    <tr>\n",
              "      <th>4</th>\n",
              "      <td>1.013472</td>\n",
              "      <td>2.003771</td>\n",
              "      <td>0.040133</td>\n",
              "    </tr>\n",
              "    <tr>\n",
              "      <th>...</th>\n",
              "      <td>...</td>\n",
              "      <td>...</td>\n",
              "      <td>...</td>\n",
              "    </tr>\n",
              "    <tr>\n",
              "      <th>106851</th>\n",
              "      <td>1.033990</td>\n",
              "      <td>0.025541</td>\n",
              "      <td>2.001773</td>\n",
              "    </tr>\n",
              "    <tr>\n",
              "      <th>106852</th>\n",
              "      <td>1.038711</td>\n",
              "      <td>0.003548</td>\n",
              "      <td>2.002543</td>\n",
              "    </tr>\n",
              "    <tr>\n",
              "      <th>106853</th>\n",
              "      <td>1.044495</td>\n",
              "      <td>0.051235</td>\n",
              "      <td>2.004088</td>\n",
              "    </tr>\n",
              "    <tr>\n",
              "      <th>106854</th>\n",
              "      <td>1.036084</td>\n",
              "      <td>0.014104</td>\n",
              "      <td>2.002102</td>\n",
              "    </tr>\n",
              "    <tr>\n",
              "      <th>106855</th>\n",
              "      <td>1.046888</td>\n",
              "      <td>0.057735</td>\n",
              "      <td>2.004642</td>\n",
              "    </tr>\n",
              "  </tbody>\n",
              "</table>\n",
              "<p>106856 rows × 3 columns</p>\n",
              "</div>"
            ],
            "text/plain": [
              "               0         1         2\n",
              "0       1.030797  0.043551  2.001402\n",
              "1       1.046509  0.038718  2.004219\n",
              "2       1.036215  0.011763  2.002107\n",
              "3       1.040147  0.009206  2.002811\n",
              "4       1.013472  2.003771  0.040133\n",
              "...          ...       ...       ...\n",
              "106851  1.033990  0.025541  2.001773\n",
              "106852  1.038711  0.003548  2.002543\n",
              "106853  1.044495  0.051235  2.004088\n",
              "106854  1.036084  0.014104  2.002102\n",
              "106855  1.046888  0.057735  2.004642\n",
              "\n",
              "[106856 rows x 3 columns]"
            ]
          },
          "metadata": {
            "tags": []
          },
          "execution_count": 38
        }
      ]
    },
    {
      "cell_type": "code",
      "metadata": {
        "id": "Qly1xEx4koNA",
        "colab_type": "code",
        "colab": {
          "base_uri": "https://localhost:8080/",
          "height": 85
        },
        "outputId": "95e2fc33-c20e-45e1-d638-69d0e3fc942e"
      },
      "source": [
        "norm_metrics['Cluster'].value_counts()"
      ],
      "execution_count": 39,
      "outputs": [
        {
          "output_type": "execute_result",
          "data": {
            "text/plain": [
              "0    81180\n",
              "2    21621\n",
              "1     4055\n",
              "Name: Cluster, dtype: int64"
            ]
          },
          "metadata": {
            "tags": []
          },
          "execution_count": 39
        }
      ]
    },
    {
      "cell_type": "markdown",
      "metadata": {
        "id": "-riVe_dqwzAc",
        "colab_type": "text"
      },
      "source": [
        "##engagement score"
      ]
    },
    {
      "cell_type": "code",
      "metadata": {
        "id": "CFqrMeHcm99a",
        "colab_type": "code",
        "colab": {
          "base_uri": "https://localhost:8080/",
          "height": 408
        },
        "outputId": "d210c2f1-5cde-49d7-b4b2-8869f7ea9c56"
      },
      "source": [
        "#engagemnt score\n",
        "\n",
        "engagement_data= [df_user[\"MSISDN/Number\"],ddf[\"1\"]]\n",
        "engagement_data\n",
        "# headers = [\"MSISDN/Number\",\"engagement_score\"]  \n",
        "# engagement_score=pd.concat(engagement_data,axis=1,keys=headers)\n",
        "# engagement_score\n"
      ],
      "execution_count": 40,
      "outputs": [
        {
          "output_type": "execute_result",
          "data": {
            "text/plain": [
              "[0         3.366496e+10\n",
              " 1         3.368185e+10\n",
              " 2         3.376063e+10\n",
              " 3         3.375034e+10\n",
              " 4         3.369980e+10\n",
              "               ...     \n",
              " 149996    3.365069e+10\n",
              " 149997    3.366345e+10\n",
              " 149998    3.362189e+10\n",
              " 149999    3.361962e+10\n",
              " 150000             NaN\n",
              " Name: MSISDN/Number, Length: 150001, dtype: float64, 0         0.043551\n",
              " 1         0.038718\n",
              " 2         0.011763\n",
              " 3         0.009206\n",
              " 4         2.003771\n",
              "             ...   \n",
              " 106851    0.025541\n",
              " 106852    0.003548\n",
              " 106853    0.051235\n",
              " 106854    0.014104\n",
              " 106855    0.057735\n",
              " Name: 1, Length: 106856, dtype: float64]"
            ]
          },
          "metadata": {
            "tags": []
          },
          "execution_count": 40
        }
      ]
    },
    {
      "cell_type": "code",
      "metadata": {
        "id": "T5c8HS-46-b1",
        "colab_type": "code",
        "colab": {
          "base_uri": "https://localhost:8080/",
          "height": 419
        },
        "outputId": "2f286477-df2f-46c5-d169-c1163925ccbf"
      },
      "source": [
        "data_eng1 = [xdr[\"MSISDN/Number\"],xdr[\"count\"], dur_agg[\"sum\"],agg_ul_dl[\"sum\"],norm_metrics[\"Cluster\"]]\n",
        "headers1 = [\"Customer Number\",\"session frequency\", \"Duration\",\n",
        "          \"Total Data\",\"Cluster\" ] \n",
        "non_norm=pd.concat(data_eng1,axis=1,keys=headers1)\n",
        "non_norm"
      ],
      "execution_count": 41,
      "outputs": [
        {
          "output_type": "execute_result",
          "data": {
            "text/html": [
              "<div>\n",
              "<style scoped>\n",
              "    .dataframe tbody tr th:only-of-type {\n",
              "        vertical-align: middle;\n",
              "    }\n",
              "\n",
              "    .dataframe tbody tr th {\n",
              "        vertical-align: top;\n",
              "    }\n",
              "\n",
              "    .dataframe thead th {\n",
              "        text-align: right;\n",
              "    }\n",
              "</style>\n",
              "<table border=\"1\" class=\"dataframe\">\n",
              "  <thead>\n",
              "    <tr style=\"text-align: right;\">\n",
              "      <th></th>\n",
              "      <th>Customer Number</th>\n",
              "      <th>session frequency</th>\n",
              "      <th>Duration</th>\n",
              "      <th>Total Data</th>\n",
              "      <th>Cluster</th>\n",
              "    </tr>\n",
              "  </thead>\n",
              "  <tbody>\n",
              "    <tr>\n",
              "      <th>0</th>\n",
              "      <td>3.360100e+10</td>\n",
              "      <td>1</td>\n",
              "      <td>116720.0</td>\n",
              "      <td>8.786906e+08</td>\n",
              "      <td>0</td>\n",
              "    </tr>\n",
              "    <tr>\n",
              "      <th>1</th>\n",
              "      <td>3.360100e+10</td>\n",
              "      <td>1</td>\n",
              "      <td>181230.0</td>\n",
              "      <td>1.568596e+08</td>\n",
              "      <td>0</td>\n",
              "    </tr>\n",
              "    <tr>\n",
              "      <th>2</th>\n",
              "      <td>3.360100e+10</td>\n",
              "      <td>1</td>\n",
              "      <td>134969.0</td>\n",
              "      <td>5.959665e+08</td>\n",
              "      <td>0</td>\n",
              "    </tr>\n",
              "    <tr>\n",
              "      <th>3</th>\n",
              "      <td>3.360101e+10</td>\n",
              "      <td>1</td>\n",
              "      <td>49878.0</td>\n",
              "      <td>4.223207e+08</td>\n",
              "      <td>0</td>\n",
              "    </tr>\n",
              "    <tr>\n",
              "      <th>4</th>\n",
              "      <td>3.360101e+10</td>\n",
              "      <td>2</td>\n",
              "      <td>37104.0</td>\n",
              "      <td>1.457411e+09</td>\n",
              "      <td>2</td>\n",
              "    </tr>\n",
              "    <tr>\n",
              "      <th>...</th>\n",
              "      <td>...</td>\n",
              "      <td>...</td>\n",
              "      <td>...</td>\n",
              "      <td>...</td>\n",
              "      <td>...</td>\n",
              "    </tr>\n",
              "    <tr>\n",
              "      <th>106851</th>\n",
              "      <td>3.379000e+10</td>\n",
              "      <td>1</td>\n",
              "      <td>8810.0</td>\n",
              "      <td>7.146416e+08</td>\n",
              "      <td>0</td>\n",
              "    </tr>\n",
              "    <tr>\n",
              "      <th>106852</th>\n",
              "      <td>3.379000e+10</td>\n",
              "      <td>1</td>\n",
              "      <td>140988.0</td>\n",
              "      <td>4.803073e+08</td>\n",
              "      <td>0</td>\n",
              "    </tr>\n",
              "    <tr>\n",
              "      <th>106853</th>\n",
              "      <td>3.197021e+12</td>\n",
              "      <td>1</td>\n",
              "      <td>877385.0</td>\n",
              "      <td>2.321240e+08</td>\n",
              "      <td>0</td>\n",
              "    </tr>\n",
              "    <tr>\n",
              "      <th>106854</th>\n",
              "      <td>3.370000e+14</td>\n",
              "      <td>1</td>\n",
              "      <td>253030.0</td>\n",
              "      <td>5.962878e+08</td>\n",
              "      <td>0</td>\n",
              "    </tr>\n",
              "    <tr>\n",
              "      <th>106855</th>\n",
              "      <td>8.823971e+14</td>\n",
              "      <td>1</td>\n",
              "      <td>869844.0</td>\n",
              "      <td>1.391536e+08</td>\n",
              "      <td>0</td>\n",
              "    </tr>\n",
              "  </tbody>\n",
              "</table>\n",
              "<p>106856 rows × 5 columns</p>\n",
              "</div>"
            ],
            "text/plain": [
              "        Customer Number  session frequency  Duration    Total Data  Cluster\n",
              "0          3.360100e+10                  1  116720.0  8.786906e+08        0\n",
              "1          3.360100e+10                  1  181230.0  1.568596e+08        0\n",
              "2          3.360100e+10                  1  134969.0  5.959665e+08        0\n",
              "3          3.360101e+10                  1   49878.0  4.223207e+08        0\n",
              "4          3.360101e+10                  2   37104.0  1.457411e+09        2\n",
              "...                 ...                ...       ...           ...      ...\n",
              "106851     3.379000e+10                  1    8810.0  7.146416e+08        0\n",
              "106852     3.379000e+10                  1  140988.0  4.803073e+08        0\n",
              "106853     3.197021e+12                  1  877385.0  2.321240e+08        0\n",
              "106854     3.370000e+14                  1  253030.0  5.962878e+08        0\n",
              "106855     8.823971e+14                  1  869844.0  1.391536e+08        0\n",
              "\n",
              "[106856 rows x 5 columns]"
            ]
          },
          "metadata": {
            "tags": []
          },
          "execution_count": 41
        }
      ]
    },
    {
      "cell_type": "code",
      "metadata": {
        "id": "0q2lwOni8sRv",
        "colab_type": "code",
        "colab": {
          "base_uri": "https://localhost:8080/",
          "height": 297
        },
        "outputId": "bc1fb218-54f2-49e6-a83e-4e11970060f9"
      },
      "source": [
        "nn00 = non_norm[non_norm.Cluster==0]\n",
        "nn00.describe()\n"
      ],
      "execution_count": 42,
      "outputs": [
        {
          "output_type": "execute_result",
          "data": {
            "text/html": [
              "<div>\n",
              "<style scoped>\n",
              "    .dataframe tbody tr th:only-of-type {\n",
              "        vertical-align: middle;\n",
              "    }\n",
              "\n",
              "    .dataframe tbody tr th {\n",
              "        vertical-align: top;\n",
              "    }\n",
              "\n",
              "    .dataframe thead th {\n",
              "        text-align: right;\n",
              "    }\n",
              "</style>\n",
              "<table border=\"1\" class=\"dataframe\">\n",
              "  <thead>\n",
              "    <tr style=\"text-align: right;\">\n",
              "      <th></th>\n",
              "      <th>Customer Number</th>\n",
              "      <th>session frequency</th>\n",
              "      <th>Duration</th>\n",
              "      <th>Total Data</th>\n",
              "      <th>Cluster</th>\n",
              "    </tr>\n",
              "  </thead>\n",
              "  <tbody>\n",
              "    <tr>\n",
              "      <th>count</th>\n",
              "      <td>8.118000e+04</td>\n",
              "      <td>81180.000000</td>\n",
              "      <td>8.118000e+04</td>\n",
              "      <td>8.118000e+04</td>\n",
              "      <td>81180.0</td>\n",
              "    </tr>\n",
              "    <tr>\n",
              "      <th>mean</th>\n",
              "      <td>4.873302e+10</td>\n",
              "      <td>1.042486</td>\n",
              "      <td>1.070061e+05</td>\n",
              "      <td>4.955396e+08</td>\n",
              "      <td>0.0</td>\n",
              "    </tr>\n",
              "    <tr>\n",
              "      <th>std</th>\n",
              "      <td>3.315016e+12</td>\n",
              "      <td>0.201696</td>\n",
              "      <td>7.857713e+04</td>\n",
              "      <td>2.401247e+08</td>\n",
              "      <td>0.0</td>\n",
              "    </tr>\n",
              "    <tr>\n",
              "      <th>min</th>\n",
              "      <td>3.360100e+10</td>\n",
              "      <td>1.000000</td>\n",
              "      <td>7.142000e+03</td>\n",
              "      <td>3.324901e+07</td>\n",
              "      <td>0.0</td>\n",
              "    </tr>\n",
              "    <tr>\n",
              "      <th>25%</th>\n",
              "      <td>3.365078e+10</td>\n",
              "      <td>1.000000</td>\n",
              "      <td>5.579325e+04</td>\n",
              "      <td>2.921233e+08</td>\n",
              "      <td>0.0</td>\n",
              "    </tr>\n",
              "    <tr>\n",
              "      <th>50%</th>\n",
              "      <td>3.366365e+10</td>\n",
              "      <td>1.000000</td>\n",
              "      <td>8.640000e+04</td>\n",
              "      <td>4.971658e+08</td>\n",
              "      <td>0.0</td>\n",
              "    </tr>\n",
              "    <tr>\n",
              "      <th>75%</th>\n",
              "      <td>3.368355e+10</td>\n",
              "      <td>1.000000</td>\n",
              "      <td>1.421178e+05</td>\n",
              "      <td>6.984119e+08</td>\n",
              "      <td>0.0</td>\n",
              "    </tr>\n",
              "    <tr>\n",
              "      <th>max</th>\n",
              "      <td>8.823971e+14</td>\n",
              "      <td>2.000000</td>\n",
              "      <td>1.573420e+06</td>\n",
              "      <td>9.507607e+08</td>\n",
              "      <td>0.0</td>\n",
              "    </tr>\n",
              "  </tbody>\n",
              "</table>\n",
              "</div>"
            ],
            "text/plain": [
              "       Customer Number  session frequency      Duration    Total Data  Cluster\n",
              "count     8.118000e+04       81180.000000  8.118000e+04  8.118000e+04  81180.0\n",
              "mean      4.873302e+10           1.042486  1.070061e+05  4.955396e+08      0.0\n",
              "std       3.315016e+12           0.201696  7.857713e+04  2.401247e+08      0.0\n",
              "min       3.360100e+10           1.000000  7.142000e+03  3.324901e+07      0.0\n",
              "25%       3.365078e+10           1.000000  5.579325e+04  2.921233e+08      0.0\n",
              "50%       3.366365e+10           1.000000  8.640000e+04  4.971658e+08      0.0\n",
              "75%       3.368355e+10           1.000000  1.421178e+05  6.984119e+08      0.0\n",
              "max       8.823971e+14           2.000000  1.573420e+06  9.507607e+08      0.0"
            ]
          },
          "metadata": {
            "tags": []
          },
          "execution_count": 42
        }
      ]
    },
    {
      "cell_type": "code",
      "metadata": {
        "id": "OYziAuMI84Uk",
        "colab_type": "code",
        "colab": {
          "base_uri": "https://localhost:8080/",
          "height": 297
        },
        "outputId": "55a53a1e-5a0b-4518-8cec-a5dd23401156"
      },
      "source": [
        "nn11 =  non_norm[non_norm.Cluster==1]\n",
        "nn11.describe()\n"
      ],
      "execution_count": 43,
      "outputs": [
        {
          "output_type": "execute_result",
          "data": {
            "text/html": [
              "<div>\n",
              "<style scoped>\n",
              "    .dataframe tbody tr th:only-of-type {\n",
              "        vertical-align: middle;\n",
              "    }\n",
              "\n",
              "    .dataframe tbody tr th {\n",
              "        vertical-align: top;\n",
              "    }\n",
              "\n",
              "    .dataframe thead th {\n",
              "        text-align: right;\n",
              "    }\n",
              "</style>\n",
              "<table border=\"1\" class=\"dataframe\">\n",
              "  <thead>\n",
              "    <tr style=\"text-align: right;\">\n",
              "      <th></th>\n",
              "      <th>Customer Number</th>\n",
              "      <th>session frequency</th>\n",
              "      <th>Duration</th>\n",
              "      <th>Total Data</th>\n",
              "      <th>Cluster</th>\n",
              "    </tr>\n",
              "  </thead>\n",
              "  <tbody>\n",
              "    <tr>\n",
              "      <th>count</th>\n",
              "      <td>4.055000e+03</td>\n",
              "      <td>4055.000000</td>\n",
              "      <td>4.055000e+03</td>\n",
              "      <td>4.055000e+03</td>\n",
              "      <td>4055.0</td>\n",
              "    </tr>\n",
              "    <tr>\n",
              "      <th>mean</th>\n",
              "      <td>3.367781e+10</td>\n",
              "      <td>4.251541</td>\n",
              "      <td>5.701214e+05</td>\n",
              "      <td>2.282185e+09</td>\n",
              "      <td>1.0</td>\n",
              "    </tr>\n",
              "    <tr>\n",
              "      <th>std</th>\n",
              "      <td>4.337330e+07</td>\n",
              "      <td>1.233218</td>\n",
              "      <td>6.665565e+05</td>\n",
              "      <td>6.529753e+08</td>\n",
              "      <td>0.0</td>\n",
              "    </tr>\n",
              "    <tr>\n",
              "      <th>min</th>\n",
              "      <td>3.360105e+10</td>\n",
              "      <td>3.000000</td>\n",
              "      <td>4.689600e+04</td>\n",
              "      <td>1.085994e+09</td>\n",
              "      <td>1.0</td>\n",
              "    </tr>\n",
              "    <tr>\n",
              "      <th>25%</th>\n",
              "      <td>3.365883e+10</td>\n",
              "      <td>4.000000</td>\n",
              "      <td>3.349950e+05</td>\n",
              "      <td>1.886013e+09</td>\n",
              "      <td>1.0</td>\n",
              "    </tr>\n",
              "    <tr>\n",
              "      <th>50%</th>\n",
              "      <td>3.366418e+10</td>\n",
              "      <td>4.000000</td>\n",
              "      <td>4.229990e+05</td>\n",
              "      <td>2.137531e+09</td>\n",
              "      <td>1.0</td>\n",
              "    </tr>\n",
              "    <tr>\n",
              "      <th>75%</th>\n",
              "      <td>3.368498e+10</td>\n",
              "      <td>5.000000</td>\n",
              "      <td>5.358010e+05</td>\n",
              "      <td>2.540734e+09</td>\n",
              "      <td>1.0</td>\n",
              "    </tr>\n",
              "    <tr>\n",
              "      <th>max</th>\n",
              "      <td>3.378988e+10</td>\n",
              "      <td>18.000000</td>\n",
              "      <td>1.855375e+07</td>\n",
              "      <td>8.846226e+09</td>\n",
              "      <td>1.0</td>\n",
              "    </tr>\n",
              "  </tbody>\n",
              "</table>\n",
              "</div>"
            ],
            "text/plain": [
              "       Customer Number  session frequency      Duration    Total Data  Cluster\n",
              "count     4.055000e+03        4055.000000  4.055000e+03  4.055000e+03   4055.0\n",
              "mean      3.367781e+10           4.251541  5.701214e+05  2.282185e+09      1.0\n",
              "std       4.337330e+07           1.233218  6.665565e+05  6.529753e+08      0.0\n",
              "min       3.360105e+10           3.000000  4.689600e+04  1.085994e+09      1.0\n",
              "25%       3.365883e+10           4.000000  3.349950e+05  1.886013e+09      1.0\n",
              "50%       3.366418e+10           4.000000  4.229990e+05  2.137531e+09      1.0\n",
              "75%       3.368498e+10           5.000000  5.358010e+05  2.540734e+09      1.0\n",
              "max       3.378988e+10          18.000000  1.855375e+07  8.846226e+09      1.0"
            ]
          },
          "metadata": {
            "tags": []
          },
          "execution_count": 43
        }
      ]
    },
    {
      "cell_type": "code",
      "metadata": {
        "id": "0K4UCTQx85sk",
        "colab_type": "code",
        "colab": {
          "base_uri": "https://localhost:8080/",
          "height": 297
        },
        "outputId": "eab85d9d-5528-478d-e95a-e43d7a9f41e1"
      },
      "source": [
        "nn22 =  non_norm[non_norm.Cluster==2]\n",
        "nn22.describe()"
      ],
      "execution_count": 44,
      "outputs": [
        {
          "output_type": "execute_result",
          "data": {
            "text/html": [
              "<div>\n",
              "<style scoped>\n",
              "    .dataframe tbody tr th:only-of-type {\n",
              "        vertical-align: middle;\n",
              "    }\n",
              "\n",
              "    .dataframe tbody tr th {\n",
              "        vertical-align: top;\n",
              "    }\n",
              "\n",
              "    .dataframe thead th {\n",
              "        text-align: right;\n",
              "    }\n",
              "</style>\n",
              "<table border=\"1\" class=\"dataframe\">\n",
              "  <thead>\n",
              "    <tr style=\"text-align: right;\">\n",
              "      <th></th>\n",
              "      <th>Customer Number</th>\n",
              "      <th>session frequency</th>\n",
              "      <th>Duration</th>\n",
              "      <th>Total Data</th>\n",
              "      <th>Cluster</th>\n",
              "    </tr>\n",
              "  </thead>\n",
              "  <tbody>\n",
              "    <tr>\n",
              "      <th>count</th>\n",
              "      <td>2.162100e+04</td>\n",
              "      <td>21621.000000</td>\n",
              "      <td>2.162100e+04</td>\n",
              "      <td>2.162100e+04</td>\n",
              "      <td>21621.0</td>\n",
              "    </tr>\n",
              "    <tr>\n",
              "      <th>mean</th>\n",
              "      <td>3.367423e+10</td>\n",
              "      <td>2.176865</td>\n",
              "      <td>2.136923e+05</td>\n",
              "      <td>1.126279e+09</td>\n",
              "      <td>2.0</td>\n",
              "    </tr>\n",
              "    <tr>\n",
              "      <th>std</th>\n",
              "      <td>4.520227e+07</td>\n",
              "      <td>0.405767</td>\n",
              "      <td>1.453409e+05</td>\n",
              "      <td>2.958691e+08</td>\n",
              "      <td>0.0</td>\n",
              "    </tr>\n",
              "    <tr>\n",
              "      <th>min</th>\n",
              "      <td>3.360101e+10</td>\n",
              "      <td>2.000000</td>\n",
              "      <td>1.823500e+04</td>\n",
              "      <td>2.842182e+08</td>\n",
              "      <td>2.0</td>\n",
              "    </tr>\n",
              "    <tr>\n",
              "      <th>25%</th>\n",
              "      <td>3.365092e+10</td>\n",
              "      <td>2.000000</td>\n",
              "      <td>1.159930e+05</td>\n",
              "      <td>8.934688e+08</td>\n",
              "      <td>2.0</td>\n",
              "    </tr>\n",
              "    <tr>\n",
              "      <th>50%</th>\n",
              "      <td>3.366357e+10</td>\n",
              "      <td>2.000000</td>\n",
              "      <td>1.816320e+05</td>\n",
              "      <td>1.100238e+09</td>\n",
              "      <td>2.0</td>\n",
              "    </tr>\n",
              "    <tr>\n",
              "      <th>75%</th>\n",
              "      <td>3.368291e+10</td>\n",
              "      <td>2.000000</td>\n",
              "      <td>2.680030e+05</td>\n",
              "      <td>1.345911e+09</td>\n",
              "      <td>2.0</td>\n",
              "    </tr>\n",
              "    <tr>\n",
              "      <th>max</th>\n",
              "      <td>3.378998e+10</td>\n",
              "      <td>4.000000</td>\n",
              "      <td>3.174824e+06</td>\n",
              "      <td>1.873330e+09</td>\n",
              "      <td>2.0</td>\n",
              "    </tr>\n",
              "  </tbody>\n",
              "</table>\n",
              "</div>"
            ],
            "text/plain": [
              "       Customer Number  session frequency      Duration    Total Data  Cluster\n",
              "count     2.162100e+04       21621.000000  2.162100e+04  2.162100e+04  21621.0\n",
              "mean      3.367423e+10           2.176865  2.136923e+05  1.126279e+09      2.0\n",
              "std       4.520227e+07           0.405767  1.453409e+05  2.958691e+08      0.0\n",
              "min       3.360101e+10           2.000000  1.823500e+04  2.842182e+08      2.0\n",
              "25%       3.365092e+10           2.000000  1.159930e+05  8.934688e+08      2.0\n",
              "50%       3.366357e+10           2.000000  1.816320e+05  1.100238e+09      2.0\n",
              "75%       3.368291e+10           2.000000  2.680030e+05  1.345911e+09      2.0\n",
              "max       3.378998e+10           4.000000  3.174824e+06  1.873330e+09      2.0"
            ]
          },
          "metadata": {
            "tags": []
          },
          "execution_count": 44
        }
      ]
    },
    {
      "cell_type": "code",
      "metadata": {
        "id": "5QUcyGMx94E-",
        "colab_type": "code",
        "colab": {
          "base_uri": "https://localhost:8080/",
          "height": 386
        },
        "outputId": "1951c97b-9047-41c4-e9d1-c727854728d9"
      },
      "source": [
        "sns.lmplot(x='session frequency',y='Duration',data=norm_metrics,hue='Cluster',fit_reg=False)\n"
      ],
      "execution_count": 45,
      "outputs": [
        {
          "output_type": "execute_result",
          "data": {
            "text/plain": [
              "<seaborn.axisgrid.FacetGrid at 0x7fbcc0952358>"
            ]
          },
          "metadata": {
            "tags": []
          },
          "execution_count": 45
        },
        {
          "output_type": "display_data",
          "data": {
            "image/png": "[encoded data removed]",
            "text/plain": [
              "<Figure size 403.5x360 with 1 Axes>"
            ]
          },
          "metadata": {
            "tags": [],
            "needs_background": "light"
          }
        }
      ]
    },
    {
      "cell_type": "markdown",
      "metadata": {
        "id": "uOM3sfVLvxGz",
        "colab_type": "text"
      },
      "source": [
        "##DECILE"
      ]
    },
    {
      "cell_type": "code",
      "metadata": {
        "id": "c9By9qVpvwW6",
        "colab_type": "code",
        "colab": {
          "base_uri": "https://localhost:8080/",
          "height": 255
        },
        "outputId": "20722e86-9614-4228-9726-32a0d1655b64"
      },
      "source": [
        "#decile\n",
        "dur_agg['Decile_rank']=pd.qcut(dur_agg['sum'],10,labels=False)\n",
        "print(dur_agg)\n"
      ],
      "execution_count": 46,
      "outputs": [
        {
          "output_type": "stream",
          "text": [
            "        MSISDN/Number       sum  Decile_rank\n",
            "0        3.360100e+10  116720.0            5\n",
            "1        3.360100e+10  181230.0            7\n",
            "2        3.360100e+10  134969.0            6\n",
            "3        3.360101e+10   49878.0            1\n",
            "4        3.360101e+10   37104.0            1\n",
            "...               ...       ...          ...\n",
            "106851   3.379000e+10    8810.0            0\n",
            "106852   3.379000e+10  140988.0            6\n",
            "106853   3.197021e+12  877385.0            9\n",
            "106854   3.370000e+14  253030.0            8\n",
            "106855   8.823971e+14  869844.0            9\n",
            "\n",
            "[106856 rows x 3 columns]\n"
          ],
          "name": "stdout"
        }
      ]
    },
    {
      "cell_type": "code",
      "metadata": {
        "id": "2hvKixkc9z-M",
        "colab_type": "code",
        "colab": {
          "base_uri": "https://localhost:8080/",
          "height": 419
        },
        "outputId": "1035b8d1-8b66-448b-9ddc-fb92431d4cd2"
      },
      "source": [
        "decile1 = dur_agg[dur_agg['Decile_rank']==0]\n",
        "sum_data22=df_user['Total DL (Bytes)']+df_user['Total UL (Bytes)']\n",
        "df_user['Total UL+DL']=sum_data22\n",
        "numbers1 = df_user[\"Total UL+DL\"]\n",
        "decile1 = decile1.join(numbers1)\n",
        "decile1.loc['Total'] = pd.Series(decile1['Total UL+DL'].sum(), index = ['Total UL+DL'])\n",
        "decile1\n",
        "\n"
      ],
      "execution_count": 47,
      "outputs": [
        {
          "output_type": "execute_result",
          "data": {
            "text/html": [
              "<div>\n",
              "<style scoped>\n",
              "    .dataframe tbody tr th:only-of-type {\n",
              "        vertical-align: middle;\n",
              "    }\n",
              "\n",
              "    .dataframe tbody tr th {\n",
              "        vertical-align: top;\n",
              "    }\n",
              "\n",
              "    .dataframe thead th {\n",
              "        text-align: right;\n",
              "    }\n",
              "</style>\n",
              "<table border=\"1\" class=\"dataframe\">\n",
              "  <thead>\n",
              "    <tr style=\"text-align: right;\">\n",
              "      <th></th>\n",
              "      <th>MSISDN/Number</th>\n",
              "      <th>sum</th>\n",
              "      <th>Decile_rank</th>\n",
              "      <th>Total UL+DL</th>\n",
              "    </tr>\n",
              "  </thead>\n",
              "  <tbody>\n",
              "    <tr>\n",
              "      <th>18</th>\n",
              "      <td>3.360103e+10</td>\n",
              "      <td>21785.0</td>\n",
              "      <td>0.0</td>\n",
              "      <td>4.105172e+08</td>\n",
              "    </tr>\n",
              "    <tr>\n",
              "      <th>30</th>\n",
              "      <td>3.360105e+10</td>\n",
              "      <td>29046.0</td>\n",
              "      <td>0.0</td>\n",
              "      <td>4.413361e+08</td>\n",
              "    </tr>\n",
              "    <tr>\n",
              "      <th>36</th>\n",
              "      <td>3.360106e+10</td>\n",
              "      <td>10532.0</td>\n",
              "      <td>0.0</td>\n",
              "      <td>8.192371e+08</td>\n",
              "    </tr>\n",
              "    <tr>\n",
              "      <th>39</th>\n",
              "      <td>3.360107e+10</td>\n",
              "      <td>12842.0</td>\n",
              "      <td>0.0</td>\n",
              "      <td>3.213596e+08</td>\n",
              "    </tr>\n",
              "    <tr>\n",
              "      <th>61</th>\n",
              "      <td>3.360112e+10</td>\n",
              "      <td>12921.0</td>\n",
              "      <td>0.0</td>\n",
              "      <td>1.158680e+08</td>\n",
              "    </tr>\n",
              "    <tr>\n",
              "      <th>...</th>\n",
              "      <td>...</td>\n",
              "      <td>...</td>\n",
              "      <td>...</td>\n",
              "      <td>...</td>\n",
              "    </tr>\n",
              "    <tr>\n",
              "      <th>106811</th>\n",
              "      <td>3.378965e+10</td>\n",
              "      <td>25058.0</td>\n",
              "      <td>0.0</td>\n",
              "      <td>1.950602e+08</td>\n",
              "    </tr>\n",
              "    <tr>\n",
              "      <th>106822</th>\n",
              "      <td>3.378973e+10</td>\n",
              "      <td>15675.0</td>\n",
              "      <td>0.0</td>\n",
              "      <td>7.180468e+07</td>\n",
              "    </tr>\n",
              "    <tr>\n",
              "      <th>106824</th>\n",
              "      <td>3.378978e+10</td>\n",
              "      <td>16388.0</td>\n",
              "      <td>0.0</td>\n",
              "      <td>7.577812e+08</td>\n",
              "    </tr>\n",
              "    <tr>\n",
              "      <th>106851</th>\n",
              "      <td>3.379000e+10</td>\n",
              "      <td>8810.0</td>\n",
              "      <td>0.0</td>\n",
              "      <td>3.490572e+08</td>\n",
              "    </tr>\n",
              "    <tr>\n",
              "      <th>Total</th>\n",
              "      <td>NaN</td>\n",
              "      <td>NaN</td>\n",
              "      <td>NaN</td>\n",
              "      <td>5.295316e+12</td>\n",
              "    </tr>\n",
              "  </tbody>\n",
              "</table>\n",
              "<p>10689 rows × 4 columns</p>\n",
              "</div>"
            ],
            "text/plain": [
              "        MSISDN/Number      sum  Decile_rank   Total UL+DL\n",
              "18       3.360103e+10  21785.0          0.0  4.105172e+08\n",
              "30       3.360105e+10  29046.0          0.0  4.413361e+08\n",
              "36       3.360106e+10  10532.0          0.0  8.192371e+08\n",
              "39       3.360107e+10  12842.0          0.0  3.213596e+08\n",
              "61       3.360112e+10  12921.0          0.0  1.158680e+08\n",
              "...               ...      ...          ...           ...\n",
              "106811   3.378965e+10  25058.0          0.0  1.950602e+08\n",
              "106822   3.378973e+10  15675.0          0.0  7.180468e+07\n",
              "106824   3.378978e+10  16388.0          0.0  7.577812e+08\n",
              "106851   3.379000e+10   8810.0          0.0  3.490572e+08\n",
              "Total             NaN      NaN          NaN  5.295316e+12\n",
              "\n",
              "[10689 rows x 4 columns]"
            ]
          },
          "metadata": {
            "tags": []
          },
          "execution_count": 47
        }
      ]
    },
    {
      "cell_type": "code",
      "metadata": {
        "id": "T9_EtVsWALRn",
        "colab_type": "code",
        "colab": {
          "base_uri": "https://localhost:8080/",
          "height": 419
        },
        "outputId": "b45734f3-e0f2-4887-fed2-2f7f3f2ccc65"
      },
      "source": [
        "decile2 = dur_agg[dur_agg['Decile_rank']==1]\n",
        "decile2\n",
        "numbers2 = df_user[\"Total UL+DL\"]\n",
        "decile2 = decile2.join(numbers2)\n",
        "decile2.loc['Total'] = pd.Series(decile2['Total UL+DL'].sum(), index = ['Total UL+DL'])\n",
        "decile2\n"
      ],
      "execution_count": 48,
      "outputs": [
        {
          "output_type": "execute_result",
          "data": {
            "text/html": [
              "<div>\n",
              "<style scoped>\n",
              "    .dataframe tbody tr th:only-of-type {\n",
              "        vertical-align: middle;\n",
              "    }\n",
              "\n",
              "    .dataframe tbody tr th {\n",
              "        vertical-align: top;\n",
              "    }\n",
              "\n",
              "    .dataframe thead th {\n",
              "        text-align: right;\n",
              "    }\n",
              "</style>\n",
              "<table border=\"1\" class=\"dataframe\">\n",
              "  <thead>\n",
              "    <tr style=\"text-align: right;\">\n",
              "      <th></th>\n",
              "      <th>MSISDN/Number</th>\n",
              "      <th>sum</th>\n",
              "      <th>Decile_rank</th>\n",
              "      <th>Total UL+DL</th>\n",
              "    </tr>\n",
              "  </thead>\n",
              "  <tbody>\n",
              "    <tr>\n",
              "      <th>3</th>\n",
              "      <td>3.360101e+10</td>\n",
              "      <td>49878.0</td>\n",
              "      <td>1.0</td>\n",
              "      <td>8.893527e+08</td>\n",
              "    </tr>\n",
              "    <tr>\n",
              "      <th>4</th>\n",
              "      <td>3.360101e+10</td>\n",
              "      <td>37104.0</td>\n",
              "      <td>1.0</td>\n",
              "      <td>6.076814e+08</td>\n",
              "    </tr>\n",
              "    <tr>\n",
              "      <th>11</th>\n",
              "      <td>3.360102e+10</td>\n",
              "      <td>38416.0</td>\n",
              "      <td>1.0</td>\n",
              "      <td>5.688098e+08</td>\n",
              "    </tr>\n",
              "    <tr>\n",
              "      <th>15</th>\n",
              "      <td>3.360103e+10</td>\n",
              "      <td>34544.0</td>\n",
              "      <td>1.0</td>\n",
              "      <td>1.010470e+08</td>\n",
              "    </tr>\n",
              "    <tr>\n",
              "      <th>28</th>\n",
              "      <td>3.360105e+10</td>\n",
              "      <td>31778.0</td>\n",
              "      <td>1.0</td>\n",
              "      <td>1.566568e+08</td>\n",
              "    </tr>\n",
              "    <tr>\n",
              "      <th>...</th>\n",
              "      <td>...</td>\n",
              "      <td>...</td>\n",
              "      <td>...</td>\n",
              "      <td>...</td>\n",
              "    </tr>\n",
              "    <tr>\n",
              "      <th>106833</th>\n",
              "      <td>3.378986e+10</td>\n",
              "      <td>33395.0</td>\n",
              "      <td>1.0</td>\n",
              "      <td>2.772944e+08</td>\n",
              "    </tr>\n",
              "    <tr>\n",
              "      <th>106834</th>\n",
              "      <td>3.378988e+10</td>\n",
              "      <td>47989.0</td>\n",
              "      <td>1.0</td>\n",
              "      <td>4.454315e+08</td>\n",
              "    </tr>\n",
              "    <tr>\n",
              "      <th>106841</th>\n",
              "      <td>3.378991e+10</td>\n",
              "      <td>44199.0</td>\n",
              "      <td>1.0</td>\n",
              "      <td>6.595400e+08</td>\n",
              "    </tr>\n",
              "    <tr>\n",
              "      <th>106845</th>\n",
              "      <td>3.378994e+10</td>\n",
              "      <td>36812.0</td>\n",
              "      <td>1.0</td>\n",
              "      <td>3.558281e+08</td>\n",
              "    </tr>\n",
              "    <tr>\n",
              "      <th>Total</th>\n",
              "      <td>NaN</td>\n",
              "      <td>NaN</td>\n",
              "      <td>NaN</td>\n",
              "      <td>5.347523e+12</td>\n",
              "    </tr>\n",
              "  </tbody>\n",
              "</table>\n",
              "<p>10685 rows × 4 columns</p>\n",
              "</div>"
            ],
            "text/plain": [
              "        MSISDN/Number      sum  Decile_rank   Total UL+DL\n",
              "3        3.360101e+10  49878.0          1.0  8.893527e+08\n",
              "4        3.360101e+10  37104.0          1.0  6.076814e+08\n",
              "11       3.360102e+10  38416.0          1.0  5.688098e+08\n",
              "15       3.360103e+10  34544.0          1.0  1.010470e+08\n",
              "28       3.360105e+10  31778.0          1.0  1.566568e+08\n",
              "...               ...      ...          ...           ...\n",
              "106833   3.378986e+10  33395.0          1.0  2.772944e+08\n",
              "106834   3.378988e+10  47989.0          1.0  4.454315e+08\n",
              "106841   3.378991e+10  44199.0          1.0  6.595400e+08\n",
              "106845   3.378994e+10  36812.0          1.0  3.558281e+08\n",
              "Total             NaN      NaN          NaN  5.347523e+12\n",
              "\n",
              "[10685 rows x 4 columns]"
            ]
          },
          "metadata": {
            "tags": []
          },
          "execution_count": 48
        }
      ]
    },
    {
      "cell_type": "code",
      "metadata": {
        "id": "ki_bLoQ5AOXS",
        "colab_type": "code",
        "colab": {
          "base_uri": "https://localhost:8080/",
          "height": 419
        },
        "outputId": "f1ac9bcb-9452-4ff6-e2db-271504d276c9"
      },
      "source": [
        "decile3 = dur_agg[dur_agg['Decile_rank']==2]\n",
        "numbers3 = df_user[\"Total UL+DL\"]\n",
        "decile3 = decile3.join(numbers3)\n",
        "decile3.loc['Total'] = pd.Series(decile3['Total UL+DL'].sum(), index = ['Total UL+DL'])\n",
        "decile3\n"
      ],
      "execution_count": 49,
      "outputs": [
        {
          "output_type": "execute_result",
          "data": {
            "text/html": [
              "<div>\n",
              "<style scoped>\n",
              "    .dataframe tbody tr th:only-of-type {\n",
              "        vertical-align: middle;\n",
              "    }\n",
              "\n",
              "    .dataframe tbody tr th {\n",
              "        vertical-align: top;\n",
              "    }\n",
              "\n",
              "    .dataframe thead th {\n",
              "        text-align: right;\n",
              "    }\n",
              "</style>\n",
              "<table border=\"1\" class=\"dataframe\">\n",
              "  <thead>\n",
              "    <tr style=\"text-align: right;\">\n",
              "      <th></th>\n",
              "      <th>MSISDN/Number</th>\n",
              "      <th>sum</th>\n",
              "      <th>Decile_rank</th>\n",
              "      <th>Total UL+DL</th>\n",
              "    </tr>\n",
              "  </thead>\n",
              "  <tbody>\n",
              "    <tr>\n",
              "      <th>17</th>\n",
              "      <td>3.360103e+10</td>\n",
              "      <td>55730.0</td>\n",
              "      <td>2.0</td>\n",
              "      <td>2.878509e+08</td>\n",
              "    </tr>\n",
              "    <tr>\n",
              "      <th>19</th>\n",
              "      <td>3.360103e+10</td>\n",
              "      <td>74893.0</td>\n",
              "      <td>2.0</td>\n",
              "      <td>7.640126e+08</td>\n",
              "    </tr>\n",
              "    <tr>\n",
              "      <th>20</th>\n",
              "      <td>3.360103e+10</td>\n",
              "      <td>73674.0</td>\n",
              "      <td>2.0</td>\n",
              "      <td>4.484330e+08</td>\n",
              "    </tr>\n",
              "    <tr>\n",
              "      <th>25</th>\n",
              "      <td>3.360104e+10</td>\n",
              "      <td>79098.0</td>\n",
              "      <td>2.0</td>\n",
              "      <td>5.196047e+08</td>\n",
              "    </tr>\n",
              "    <tr>\n",
              "      <th>26</th>\n",
              "      <td>3.360104e+10</td>\n",
              "      <td>82844.0</td>\n",
              "      <td>2.0</td>\n",
              "      <td>1.739165e+08</td>\n",
              "    </tr>\n",
              "    <tr>\n",
              "      <th>...</th>\n",
              "      <td>...</td>\n",
              "      <td>...</td>\n",
              "      <td>...</td>\n",
              "      <td>...</td>\n",
              "    </tr>\n",
              "    <tr>\n",
              "      <th>106812</th>\n",
              "      <td>3.378965e+10</td>\n",
              "      <td>71626.0</td>\n",
              "      <td>2.0</td>\n",
              "      <td>7.663590e+08</td>\n",
              "    </tr>\n",
              "    <tr>\n",
              "      <th>106825</th>\n",
              "      <td>3.378978e+10</td>\n",
              "      <td>69600.0</td>\n",
              "      <td>2.0</td>\n",
              "      <td>5.170243e+08</td>\n",
              "    </tr>\n",
              "    <tr>\n",
              "      <th>106831</th>\n",
              "      <td>3.378984e+10</td>\n",
              "      <td>55422.0</td>\n",
              "      <td>2.0</td>\n",
              "      <td>5.447301e+08</td>\n",
              "    </tr>\n",
              "    <tr>\n",
              "      <th>106844</th>\n",
              "      <td>3.378992e+10</td>\n",
              "      <td>54339.0</td>\n",
              "      <td>2.0</td>\n",
              "      <td>6.304952e+08</td>\n",
              "    </tr>\n",
              "    <tr>\n",
              "      <th>Total</th>\n",
              "      <td>NaN</td>\n",
              "      <td>NaN</td>\n",
              "      <td>NaN</td>\n",
              "      <td>5.323625e+12</td>\n",
              "    </tr>\n",
              "  </tbody>\n",
              "</table>\n",
              "<p>10745 rows × 4 columns</p>\n",
              "</div>"
            ],
            "text/plain": [
              "        MSISDN/Number      sum  Decile_rank   Total UL+DL\n",
              "17       3.360103e+10  55730.0          2.0  2.878509e+08\n",
              "19       3.360103e+10  74893.0          2.0  7.640126e+08\n",
              "20       3.360103e+10  73674.0          2.0  4.484330e+08\n",
              "25       3.360104e+10  79098.0          2.0  5.196047e+08\n",
              "26       3.360104e+10  82844.0          2.0  1.739165e+08\n",
              "...               ...      ...          ...           ...\n",
              "106812   3.378965e+10  71626.0          2.0  7.663590e+08\n",
              "106825   3.378978e+10  69600.0          2.0  5.170243e+08\n",
              "106831   3.378984e+10  55422.0          2.0  5.447301e+08\n",
              "106844   3.378992e+10  54339.0          2.0  6.304952e+08\n",
              "Total             NaN      NaN          NaN  5.323625e+12\n",
              "\n",
              "[10745 rows x 4 columns]"
            ]
          },
          "metadata": {
            "tags": []
          },
          "execution_count": 49
        }
      ]
    },
    {
      "cell_type": "code",
      "metadata": {
        "id": "ocSugI_3CAEO",
        "colab_type": "code",
        "colab": {
          "base_uri": "https://localhost:8080/",
          "height": 419
        },
        "outputId": "812121ba-fe7d-458f-a930-a2d65786780f"
      },
      "source": [
        "decile4 = dur_agg[dur_agg['Decile_rank']==3]\n",
        "numbers4 = df_user[\"Total UL+DL\"]\n",
        "decile4 = decile4.join(numbers4)\n",
        "decile4.loc['Total'] = pd.Series(decile4['Total UL+DL'].sum(), index = ['Total UL+DL'])\n",
        "decile4"
      ],
      "execution_count": 50,
      "outputs": [
        {
          "output_type": "execute_result",
          "data": {
            "text/html": [
              "<div>\n",
              "<style scoped>\n",
              "    .dataframe tbody tr th:only-of-type {\n",
              "        vertical-align: middle;\n",
              "    }\n",
              "\n",
              "    .dataframe tbody tr th {\n",
              "        vertical-align: top;\n",
              "    }\n",
              "\n",
              "    .dataframe thead th {\n",
              "        text-align: right;\n",
              "    }\n",
              "</style>\n",
              "<table border=\"1\" class=\"dataframe\">\n",
              "  <thead>\n",
              "    <tr style=\"text-align: right;\">\n",
              "      <th></th>\n",
              "      <th>MSISDN/Number</th>\n",
              "      <th>sum</th>\n",
              "      <th>Decile_rank</th>\n",
              "      <th>Total UL+DL</th>\n",
              "    </tr>\n",
              "  </thead>\n",
              "  <tbody>\n",
              "    <tr>\n",
              "      <th>7</th>\n",
              "      <td>3.360101e+10</td>\n",
              "      <td>86399.0</td>\n",
              "      <td>3.0</td>\n",
              "      <td>8.341634e+08</td>\n",
              "    </tr>\n",
              "    <tr>\n",
              "      <th>40</th>\n",
              "      <td>3.360107e+10</td>\n",
              "      <td>86399.0</td>\n",
              "      <td>3.0</td>\n",
              "      <td>4.505742e+08</td>\n",
              "    </tr>\n",
              "    <tr>\n",
              "      <th>47</th>\n",
              "      <td>3.360108e+10</td>\n",
              "      <td>86399.0</td>\n",
              "      <td>3.0</td>\n",
              "      <td>2.342892e+08</td>\n",
              "    </tr>\n",
              "    <tr>\n",
              "      <th>69</th>\n",
              "      <td>3.360115e+10</td>\n",
              "      <td>86399.0</td>\n",
              "      <td>3.0</td>\n",
              "      <td>4.293646e+08</td>\n",
              "    </tr>\n",
              "    <tr>\n",
              "      <th>73</th>\n",
              "      <td>3.360115e+10</td>\n",
              "      <td>86400.0</td>\n",
              "      <td>3.0</td>\n",
              "      <td>3.669177e+08</td>\n",
              "    </tr>\n",
              "    <tr>\n",
              "      <th>...</th>\n",
              "      <td>...</td>\n",
              "      <td>...</td>\n",
              "      <td>...</td>\n",
              "      <td>...</td>\n",
              "    </tr>\n",
              "    <tr>\n",
              "      <th>106813</th>\n",
              "      <td>3.378965e+10</td>\n",
              "      <td>86400.0</td>\n",
              "      <td>3.0</td>\n",
              "      <td>1.901681e+08</td>\n",
              "    </tr>\n",
              "    <tr>\n",
              "      <th>106821</th>\n",
              "      <td>3.378970e+10</td>\n",
              "      <td>85989.0</td>\n",
              "      <td>3.0</td>\n",
              "      <td>4.454088e+08</td>\n",
              "    </tr>\n",
              "    <tr>\n",
              "      <th>106835</th>\n",
              "      <td>3.378988e+10</td>\n",
              "      <td>86400.0</td>\n",
              "      <td>3.0</td>\n",
              "      <td>2.520983e+08</td>\n",
              "    </tr>\n",
              "    <tr>\n",
              "      <th>106842</th>\n",
              "      <td>3.378991e+10</td>\n",
              "      <td>86399.0</td>\n",
              "      <td>3.0</td>\n",
              "      <td>6.706397e+08</td>\n",
              "    </tr>\n",
              "    <tr>\n",
              "      <th>Total</th>\n",
              "      <td>NaN</td>\n",
              "      <td>NaN</td>\n",
              "      <td>NaN</td>\n",
              "      <td>5.997345e+12</td>\n",
              "    </tr>\n",
              "  </tbody>\n",
              "</table>\n",
              "<p>12083 rows × 4 columns</p>\n",
              "</div>"
            ],
            "text/plain": [
              "        MSISDN/Number      sum  Decile_rank   Total UL+DL\n",
              "7        3.360101e+10  86399.0          3.0  8.341634e+08\n",
              "40       3.360107e+10  86399.0          3.0  4.505742e+08\n",
              "47       3.360108e+10  86399.0          3.0  2.342892e+08\n",
              "69       3.360115e+10  86399.0          3.0  4.293646e+08\n",
              "73       3.360115e+10  86400.0          3.0  3.669177e+08\n",
              "...               ...      ...          ...           ...\n",
              "106813   3.378965e+10  86400.0          3.0  1.901681e+08\n",
              "106821   3.378970e+10  85989.0          3.0  4.454088e+08\n",
              "106835   3.378988e+10  86400.0          3.0  2.520983e+08\n",
              "106842   3.378991e+10  86399.0          3.0  6.706397e+08\n",
              "Total             NaN      NaN          NaN  5.997345e+12\n",
              "\n",
              "[12083 rows x 4 columns]"
            ]
          },
          "metadata": {
            "tags": []
          },
          "execution_count": 50
        }
      ]
    },
    {
      "cell_type": "code",
      "metadata": {
        "id": "mW7FbQT-CCa_",
        "colab_type": "code",
        "colab": {
          "base_uri": "https://localhost:8080/",
          "height": 419
        },
        "outputId": "40ded635-88d6-4b0d-98e6-27538ce5b339"
      },
      "source": [
        "decile5 = dur_agg[dur_agg['Decile_rank']==4]\n",
        "numbers5 = df_user[\"Total UL+DL\"]\n",
        "decile5 = decile5.join(numbers5)\n",
        "decile5.loc['Total'] = pd.Series(decile5['Total UL+DL'].sum(), index = ['Total UL+DL'])\n",
        "decile5\n"
      ],
      "execution_count": 51,
      "outputs": [
        {
          "output_type": "execute_result",
          "data": {
            "text/html": [
              "<div>\n",
              "<style scoped>\n",
              "    .dataframe tbody tr th:only-of-type {\n",
              "        vertical-align: middle;\n",
              "    }\n",
              "\n",
              "    .dataframe tbody tr th {\n",
              "        vertical-align: top;\n",
              "    }\n",
              "\n",
              "    .dataframe thead th {\n",
              "        text-align: right;\n",
              "    }\n",
              "</style>\n",
              "<table border=\"1\" class=\"dataframe\">\n",
              "  <thead>\n",
              "    <tr style=\"text-align: right;\">\n",
              "      <th></th>\n",
              "      <th>MSISDN/Number</th>\n",
              "      <th>sum</th>\n",
              "      <th>Decile_rank</th>\n",
              "      <th>Total UL+DL</th>\n",
              "    </tr>\n",
              "  </thead>\n",
              "  <tbody>\n",
              "    <tr>\n",
              "      <th>12</th>\n",
              "      <td>3.360102e+10</td>\n",
              "      <td>97363.0</td>\n",
              "      <td>4.0</td>\n",
              "      <td>8.487990e+08</td>\n",
              "    </tr>\n",
              "    <tr>\n",
              "      <th>16</th>\n",
              "      <td>3.360103e+10</td>\n",
              "      <td>91753.0</td>\n",
              "      <td>4.0</td>\n",
              "      <td>1.995935e+08</td>\n",
              "    </tr>\n",
              "    <tr>\n",
              "      <th>23</th>\n",
              "      <td>3.360104e+10</td>\n",
              "      <td>100371.0</td>\n",
              "      <td>4.0</td>\n",
              "      <td>8.341272e+08</td>\n",
              "    </tr>\n",
              "    <tr>\n",
              "      <th>24</th>\n",
              "      <td>3.360104e+10</td>\n",
              "      <td>98337.0</td>\n",
              "      <td>4.0</td>\n",
              "      <td>9.303346e+08</td>\n",
              "    </tr>\n",
              "    <tr>\n",
              "      <th>32</th>\n",
              "      <td>3.360106e+10</td>\n",
              "      <td>93304.0</td>\n",
              "      <td>4.0</td>\n",
              "      <td>8.985983e+08</td>\n",
              "    </tr>\n",
              "    <tr>\n",
              "      <th>...</th>\n",
              "      <td>...</td>\n",
              "      <td>...</td>\n",
              "      <td>...</td>\n",
              "      <td>...</td>\n",
              "    </tr>\n",
              "    <tr>\n",
              "      <th>106793</th>\n",
              "      <td>3.378957e+10</td>\n",
              "      <td>101111.0</td>\n",
              "      <td>4.0</td>\n",
              "      <td>8.707996e+08</td>\n",
              "    </tr>\n",
              "    <tr>\n",
              "      <th>106798</th>\n",
              "      <td>3.378958e+10</td>\n",
              "      <td>100162.0</td>\n",
              "      <td>4.0</td>\n",
              "      <td>1.469251e+08</td>\n",
              "    </tr>\n",
              "    <tr>\n",
              "      <th>106843</th>\n",
              "      <td>3.378991e+10</td>\n",
              "      <td>98294.0</td>\n",
              "      <td>4.0</td>\n",
              "      <td>7.061109e+08</td>\n",
              "    </tr>\n",
              "    <tr>\n",
              "      <th>106847</th>\n",
              "      <td>3.378996e+10</td>\n",
              "      <td>98826.0</td>\n",
              "      <td>4.0</td>\n",
              "      <td>8.737397e+08</td>\n",
              "    </tr>\n",
              "    <tr>\n",
              "      <th>Total</th>\n",
              "      <td>NaN</td>\n",
              "      <td>NaN</td>\n",
              "      <td>NaN</td>\n",
              "      <td>4.560734e+12</td>\n",
              "    </tr>\n",
              "  </tbody>\n",
              "</table>\n",
              "<p>9231 rows × 4 columns</p>\n",
              "</div>"
            ],
            "text/plain": [
              "        MSISDN/Number       sum  Decile_rank   Total UL+DL\n",
              "12       3.360102e+10   97363.0          4.0  8.487990e+08\n",
              "16       3.360103e+10   91753.0          4.0  1.995935e+08\n",
              "23       3.360104e+10  100371.0          4.0  8.341272e+08\n",
              "24       3.360104e+10   98337.0          4.0  9.303346e+08\n",
              "32       3.360106e+10   93304.0          4.0  8.985983e+08\n",
              "...               ...       ...          ...           ...\n",
              "106793   3.378957e+10  101111.0          4.0  8.707996e+08\n",
              "106798   3.378958e+10  100162.0          4.0  1.469251e+08\n",
              "106843   3.378991e+10   98294.0          4.0  7.061109e+08\n",
              "106847   3.378996e+10   98826.0          4.0  8.737397e+08\n",
              "Total             NaN       NaN          NaN  4.560734e+12\n",
              "\n",
              "[9231 rows x 4 columns]"
            ]
          },
          "metadata": {
            "tags": []
          },
          "execution_count": 51
        }
      ]
    },
    {
      "cell_type": "markdown",
      "metadata": {
        "id": "LxbO57uja9P0",
        "colab_type": "text"
      },
      "source": [
        "##AVG RTT"
      ]
    },
    {
      "cell_type": "code",
      "metadata": {
        "id": "1bivFX0TaZBU",
        "colab_type": "code",
        "colab": {}
      },
      "source": [
        "sum_column_10 = df_user[\"Avg RTT DL (ms)\"] + df_user[\"Avg RTT UL (ms)\"]\n",
        "df_user[\"Total Avg RTT\"] = sum_column_10\n",
        "rtt_df=df_user.groupby('MSISDN/Number')['Total Avg RTT'].sum().reset_index(name='Total_Avg_RTT')\n",
        "rtt_df\n",
        "\n",
        "\n",
        "#top 10\n",
        "r1=rtt_df.nlargest(10,'Total_Avg_RTT')\n",
        "r1.to_csv(\"r10.csv\")\n",
        "\n"
      ],
      "execution_count": 52,
      "outputs": []
    },
    {
      "cell_type": "code",
      "metadata": {
        "id": "ScoK6DebGLZf",
        "colab_type": "code",
        "colab": {}
      },
      "source": [
        "#bottom 10\n",
        "r2=rtt_df.nsmallest(10,'Total_Avg_RTT')\n",
        "r2.to_csv(\"r10small.csv\")"
      ],
      "execution_count": 53,
      "outputs": []
    },
    {
      "cell_type": "code",
      "metadata": {
        "id": "gLjMv_XJEdT6",
        "colab_type": "code",
        "colab": {
          "base_uri": "https://localhost:8080/",
          "height": 356
        },
        "outputId": "c3772ba2-d39c-40e2-bb06-eadc77f14ab1"
      },
      "source": [
        "#PLOT\n",
        "df_user1=df_user.sample(frac =.25)\n",
        "fig_dims = (16, 6)\n",
        "fig, ax = plt.subplots(figsize=fig_dims)\n",
        "sns.barplot(x='Handset Type', y='Total Avg RTT',ax=ax,data=df_user1)\n"
      ],
      "execution_count": 54,
      "outputs": [
        {
          "output_type": "execute_result",
          "data": {
            "text/plain": [
              "<matplotlib.axes._subplots.AxesSubplot at 0x7fbcbcb72320>"
            ]
          },
          "metadata": {
            "tags": []
          },
          "execution_count": 54
        },
        {
          "output_type": "display_data",
          "data": {
            "image/png": "[encoded data removed]",
            "text/plain": [
              "<Figure size 1152x432 with 1 Axes>"
            ]
          },
          "metadata": {
            "tags": [],
            "needs_background": "light"
          }
        }
      ]
    },
    {
      "cell_type": "markdown",
      "metadata": {
        "id": "i92c6Nj4b2qb",
        "colab_type": "text"
      },
      "source": [
        "##TCP"
      ]
    },
    {
      "cell_type": "code",
      "metadata": {
        "id": "nZub9QMeb16S",
        "colab_type": "code",
        "colab": {}
      },
      "source": [
        "sum_column11 = df_user[\"TCP DL Retrans. Vol (Bytes)\"] + df_user[\"TCP UL Retrans. Vol (Bytes)\"]\n",
        "df_user[\"Total TCP Retrans\"] = sum_column11\n",
        "tcp_df=df_user.groupby('MSISDN/Number')['Total TCP Retrans'].sum().reset_index(name='Total_TCP_Retrans')\n",
        "tcp_df\n",
        "\n",
        "\n",
        "#top 10\n",
        "t1=tcp_df.nlargest(10,'Total_TCP_Retrans')\n",
        "t1.to_csv(\"tcp10.csv\")"
      ],
      "execution_count": 55,
      "outputs": []
    },
    {
      "cell_type": "code",
      "metadata": {
        "id": "Iwbw3emgE1Y4",
        "colab_type": "code",
        "colab": {}
      },
      "source": [
        "t2=tcp_df.nsmallest(10,'Total_TCP_Retrans')\n",
        "t2.to_csv(\"tcp10small.csv\")"
      ],
      "execution_count": 56,
      "outputs": []
    },
    {
      "cell_type": "code",
      "metadata": {
        "id": "baOEHyWyFRVO",
        "colab_type": "code",
        "colab": {
          "base_uri": "https://localhost:8080/",
          "height": 34
        },
        "outputId": "904bf1a9-2ec2-41f2-da0d-b68232ae7cc4"
      },
      "source": [
        "tcp_df.mode()['Total_TCP_Retrans'][0]\n"
      ],
      "execution_count": 57,
      "outputs": [
        {
          "output_type": "execute_result",
          "data": {
            "text/plain": [
              "0.0"
            ]
          },
          "metadata": {
            "tags": []
          },
          "execution_count": 57
        }
      ]
    },
    {
      "cell_type": "code",
      "metadata": {
        "id": "RhifLrDBJ4Lg",
        "colab_type": "code",
        "colab": {
          "base_uri": "https://localhost:8080/",
          "height": 342
        },
        "outputId": "2a054aff-90a3-40d6-c5af-29ced098985f"
      },
      "source": [
        "#PLOT\n",
        "fig_dims = (16, 6)\n",
        "fig, ax = plt.subplots(figsize=fig_dims)\n",
        "sns.barplot(x='Handset Type', y='Total TCP Retrans',ax=ax,data=df_user)\n"
      ],
      "execution_count": 58,
      "outputs": [
        {
          "output_type": "execute_result",
          "data": {
            "text/plain": [
              "<matplotlib.axes._subplots.AxesSubplot at 0x7fbcb1f902e8>"
            ]
          },
          "metadata": {
            "tags": []
          },
          "execution_count": 58
        },
        {
          "output_type": "display_data",
          "data": {
            "image/png": "[encoded data removed]",
            "text/plain": [
              "<Figure size 1152x432 with 1 Axes>"
            ]
          },
          "metadata": {
            "tags": [],
            "needs_background": "light"
          }
        }
      ]
    },
    {
      "cell_type": "markdown",
      "metadata": {
        "id": "bhrCvm50edfv",
        "colab_type": "text"
      },
      "source": [
        "##Handset Type"
      ]
    },
    {
      "cell_type": "code",
      "metadata": {
        "id": "6257s45ceklh",
        "colab_type": "code",
        "colab": {
          "base_uri": "https://localhost:8080/",
          "height": 34
        },
        "outputId": "f1de988e-c684-40d6-ac85-cc51852143db"
      },
      "source": [
        "handset_df=df_user.groupby('MSISDN/Number')['Handset Type'].count().reset_index(name='Handset count')\n",
        "handset_df\n",
        "\n",
        "\n",
        "data_h = [df_user[\"Handset Type\"],handset_df[\"Handset count\"]]\n",
        "headers = [\"Handset Type\",\"Handset count\" ]     \n",
        "hdf11 = pd.concat(data_h, axis=1, keys=headers)\n",
        "hdf11\n",
        "hdf11.sort_values(['Handset Type', 'Handset count'], ascending=False).groupby('Handset count')\n"
      ],
      "execution_count": 59,
      "outputs": [
        {
          "output_type": "execute_result",
          "data": {
            "text/plain": [
              "<pandas.core.groupby.generic.DataFrameGroupBy object at 0x7fbcb93c4898>"
            ]
          },
          "metadata": {
            "tags": []
          },
          "execution_count": 59
        }
      ]
    },
    {
      "cell_type": "code",
      "metadata": {
        "id": "33aJv3iBvaEF",
        "colab_type": "code",
        "colab": {
          "base_uri": "https://localhost:8080/",
          "height": 824
        },
        "outputId": "99d8c9ee-34f2-43db-bd5a-658a1d80eb87"
      },
      "source": [
        "hdf11.nlargest(25,'Handset count')\n",
        "\n"
      ],
      "execution_count": 60,
      "outputs": [
        {
          "output_type": "execute_result",
          "data": {
            "text/html": [
              "<div>\n",
              "<style scoped>\n",
              "    .dataframe tbody tr th:only-of-type {\n",
              "        vertical-align: middle;\n",
              "    }\n",
              "\n",
              "    .dataframe tbody tr th {\n",
              "        vertical-align: top;\n",
              "    }\n",
              "\n",
              "    .dataframe thead th {\n",
              "        text-align: right;\n",
              "    }\n",
              "</style>\n",
              "<table border=\"1\" class=\"dataframe\">\n",
              "  <thead>\n",
              "    <tr style=\"text-align: right;\">\n",
              "      <th></th>\n",
              "      <th>Handset Type</th>\n",
              "      <th>Handset count</th>\n",
              "    </tr>\n",
              "  </thead>\n",
              "  <tbody>\n",
              "    <tr>\n",
              "      <th>13526</th>\n",
              "      <td>Lg-H815</td>\n",
              "      <td>18.0</td>\n",
              "    </tr>\n",
              "    <tr>\n",
              "      <th>6437</th>\n",
              "      <td>Apple iPhone Se (A1723)</td>\n",
              "      <td>17.0</td>\n",
              "    </tr>\n",
              "    <tr>\n",
              "      <th>13180</th>\n",
              "      <td>Apple iPhone 6 (A1586)</td>\n",
              "      <td>17.0</td>\n",
              "    </tr>\n",
              "    <tr>\n",
              "      <th>37052</th>\n",
              "      <td>Huawei B528S-23A</td>\n",
              "      <td>16.0</td>\n",
              "    </tr>\n",
              "    <tr>\n",
              "      <th>76363</th>\n",
              "      <td>Huawei Honor 8X</td>\n",
              "      <td>15.0</td>\n",
              "    </tr>\n",
              "    <tr>\n",
              "      <th>92923</th>\n",
              "      <td>Apple iPhone X (A1901)</td>\n",
              "      <td>15.0</td>\n",
              "    </tr>\n",
              "    <tr>\n",
              "      <th>65118</th>\n",
              "      <td>Huawei P9</td>\n",
              "      <td>13.0</td>\n",
              "    </tr>\n",
              "    <tr>\n",
              "      <th>666</th>\n",
              "      <td>Apple iPhone 8 Plus (A1897)</td>\n",
              "      <td>12.0</td>\n",
              "    </tr>\n",
              "    <tr>\n",
              "      <th>1279</th>\n",
              "      <td>Huawei B528S-23A</td>\n",
              "      <td>12.0</td>\n",
              "    </tr>\n",
              "    <tr>\n",
              "      <th>13994</th>\n",
              "      <td>Huawei Cor-L29</td>\n",
              "      <td>12.0</td>\n",
              "    </tr>\n",
              "    <tr>\n",
              "      <th>92577</th>\n",
              "      <td>Samsung Galaxy S7 Edge (Sm-G935X)</td>\n",
              "      <td>12.0</td>\n",
              "    </tr>\n",
              "    <tr>\n",
              "      <th>106137</th>\n",
              "      <td>Apple iPhone Se (A1723)</td>\n",
              "      <td>12.0</td>\n",
              "    </tr>\n",
              "    <tr>\n",
              "      <th>35436</th>\n",
              "      <td>Huawei B528S-23A</td>\n",
              "      <td>11.0</td>\n",
              "    </tr>\n",
              "    <tr>\n",
              "      <th>57241</th>\n",
              "      <td>Apple iPhone 7 (A1778)</td>\n",
              "      <td>11.0</td>\n",
              "    </tr>\n",
              "    <tr>\n",
              "      <th>63028</th>\n",
              "      <td>Samsung Galaxy J6</td>\n",
              "      <td>11.0</td>\n",
              "    </tr>\n",
              "    <tr>\n",
              "      <th>70960</th>\n",
              "      <td>Apple iPhone 6 (A1586)</td>\n",
              "      <td>11.0</td>\n",
              "    </tr>\n",
              "    <tr>\n",
              "      <th>86455</th>\n",
              "      <td>Samsung Galaxy S6 (Sm-G920X)</td>\n",
              "      <td>11.0</td>\n",
              "    </tr>\n",
              "    <tr>\n",
              "      <th>13936</th>\n",
              "      <td>Huawei Y6 2018</td>\n",
              "      <td>10.0</td>\n",
              "    </tr>\n",
              "    <tr>\n",
              "      <th>15664</th>\n",
              "      <td>Apple iPhone 7 (A1660)</td>\n",
              "      <td>10.0</td>\n",
              "    </tr>\n",
              "    <tr>\n",
              "      <th>30225</th>\n",
              "      <td>Samsung Galaxy J5 (Sm-J530)</td>\n",
              "      <td>10.0</td>\n",
              "    </tr>\n",
              "    <tr>\n",
              "      <th>30715</th>\n",
              "      <td>Apple iPhone 7 (A1778)</td>\n",
              "      <td>10.0</td>\n",
              "    </tr>\n",
              "    <tr>\n",
              "      <th>37470</th>\n",
              "      <td>Apple iPhone 7 (A1778)</td>\n",
              "      <td>10.0</td>\n",
              "    </tr>\n",
              "    <tr>\n",
              "      <th>39120</th>\n",
              "      <td>Huawei B528S-23A</td>\n",
              "      <td>10.0</td>\n",
              "    </tr>\n",
              "    <tr>\n",
              "      <th>44834</th>\n",
              "      <td>Microsoft Mobile. Rm-1072 Lumia 640 Lte</td>\n",
              "      <td>10.0</td>\n",
              "    </tr>\n",
              "    <tr>\n",
              "      <th>58641</th>\n",
              "      <td>Huawei B528S-23A</td>\n",
              "      <td>10.0</td>\n",
              "    </tr>\n",
              "  </tbody>\n",
              "</table>\n",
              "</div>"
            ],
            "text/plain": [
              "                                   Handset Type  Handset count\n",
              "13526                                   Lg-H815           18.0\n",
              "6437                    Apple iPhone Se (A1723)           17.0\n",
              "13180                    Apple iPhone 6 (A1586)           17.0\n",
              "37052                          Huawei B528S-23A           16.0\n",
              "76363                           Huawei Honor 8X           15.0\n",
              "92923                    Apple iPhone X (A1901)           15.0\n",
              "65118                                 Huawei P9           13.0\n",
              "666                 Apple iPhone 8 Plus (A1897)           12.0\n",
              "1279                           Huawei B528S-23A           12.0\n",
              "13994                            Huawei Cor-L29           12.0\n",
              "92577         Samsung Galaxy S7 Edge (Sm-G935X)           12.0\n",
              "106137                  Apple iPhone Se (A1723)           12.0\n",
              "35436                          Huawei B528S-23A           11.0\n",
              "57241                    Apple iPhone 7 (A1778)           11.0\n",
              "63028                         Samsung Galaxy J6           11.0\n",
              "70960                    Apple iPhone 6 (A1586)           11.0\n",
              "86455              Samsung Galaxy S6 (Sm-G920X)           11.0\n",
              "13936                            Huawei Y6 2018           10.0\n",
              "15664                    Apple iPhone 7 (A1660)           10.0\n",
              "30225               Samsung Galaxy J5 (Sm-J530)           10.0\n",
              "30715                    Apple iPhone 7 (A1778)           10.0\n",
              "37470                    Apple iPhone 7 (A1778)           10.0\n",
              "39120                          Huawei B528S-23A           10.0\n",
              "44834   Microsoft Mobile. Rm-1072 Lumia 640 Lte           10.0\n",
              "58641                          Huawei B528S-23A           10.0"
            ]
          },
          "metadata": {
            "tags": []
          },
          "execution_count": 60
        }
      ]
    },
    {
      "cell_type": "markdown",
      "metadata": {
        "id": "xUJJEfD3j6K_",
        "colab_type": "text"
      },
      "source": [
        "##Throughput"
      ]
    },
    {
      "cell_type": "code",
      "metadata": {
        "id": "_yFdOzzAj8pO",
        "colab_type": "code",
        "colab": {}
      },
      "source": [
        "sum_column12 = df_user[\"Avg Bearer TP DL (kbps)\"] + df_user[\"Avg Bearer TP UL (kbps)\"]\n",
        "df_user[\"Total Avg TP\"] = sum_column12\n",
        "tp_df=df_user.groupby('MSISDN/Number')['Total Avg TP'].sum().reset_index(name='Total_Avg_TP_(kbps)')\n",
        "tp_df\n",
        "\n",
        "#top 10\n",
        "tp1=tp_df.nlargest(10,'Total_Avg_TP_(kbps)')\n",
        "tp1.to_csv(\"tp10.csv\")\n",
        "tp2=tp_df.nsmallest(10,'Total_Avg_TP_(kbps)')\n",
        "tp2.to_csv(\"tpsmall.csv\")\n"
      ],
      "execution_count": 61,
      "outputs": []
    },
    {
      "cell_type": "code",
      "metadata": {
        "id": "lMcSBqnLhbX8",
        "colab_type": "code",
        "colab": {}
      },
      "source": [
        "tp_data= [tp_df[\"Total_Avg_TP_(kbps)\"],hdf11[\"Handset Type\"]]\n",
        "headers122 = [\"Total Avg Throughput\",\"Handset Type\"]  \n",
        "thr_df=pd.concat(tp_data,axis=1,keys=headers122)\n",
        "thr_df.to_csv(\"thr_h.csv\")\n",
        "# sns.barplot(y=\"Total Avg Throughput\",x=\"Handset Type\",data=thr_df)\n"
      ],
      "execution_count": 62,
      "outputs": []
    },
    {
      "cell_type": "code",
      "metadata": {
        "id": "OL9pg_AA6-Ej",
        "colab_type": "code",
        "colab": {}
      },
      "source": [
        "tp_data= [rtt_df[\"Total_Avg_RTT\"],hdf11[\"Handset Type\"]]\n",
        "headers122 = [\"Total Avg RTT\",\"Handset Type\"]  \n",
        "thr_df1=pd.concat(tp_data,axis=1,keys=headers122)\n",
        "thr_df1.to_csv(\"rttt.csv\")\n"
      ],
      "execution_count": 63,
      "outputs": []
    },
    {
      "cell_type": "code",
      "metadata": {
        "id": "KJ1gTmZr7uGT",
        "colab_type": "code",
        "colab": {}
      },
      "source": [
        "tp_data= [tcp_df[\"Total_TCP_Retrans\"],hdf11[\"Handset Type\"]]\n",
        "headers122 = [\"Total TCP Retrans\",\"Handset Type\"]  \n",
        "thr_df1=pd.concat(tp_data,axis=1,keys=headers122)\n",
        "thr_df1.to_csv(\"tcp.csv\")"
      ],
      "execution_count": 64,
      "outputs": []
    },
    {
      "cell_type": "markdown",
      "metadata": {
        "id": "p6FMstOQaSrn",
        "colab_type": "text"
      },
      "source": [
        "##CORRELATION ANALYSIS"
      ]
    },
    {
      "cell_type": "code",
      "metadata": {
        "id": "-4gVwU1gvc8-",
        "colab_type": "code",
        "colab": {
          "base_uri": "https://localhost:8080/",
          "height": 404
        },
        "outputId": "3cdd0ac7-0fc6-40a2-e812-b876193ca303"
      },
      "source": [
        "#Correlation Analysis\n",
        "data = [sm_df[\"Total_Social_Media_Volume\"], gg_df[\"Total_Google_Volume\"],em_df[\"Total Email volume (Bytes)\"],yt_df[\"Total Youtube Volume (Bytes)\"],nf_df[\"Total Netflix volume (Bytes)\"],\n",
        "        gm_df[\"Total Gaming Volume (Bytes)\"],other_df[\"Total Other Volume(Bytes)\"]]\n",
        "headers = [\"Total_Social_Media_Volume\", \"Total_Google_Volume\",\n",
        "           \"Total Email volume (Bytes)\",\"Total Youtube Volume (Bytes)\",\n",
        "           \"Total Netflix volume (Bytes)\",\"Total Gaming Volume (Bytes)\",\n",
        "          \"Total Other Volume(Bytes)\" ]     \n",
        "matrix_df = pd.concat(data, axis=1, keys=headers)\n",
        "\n",
        "# matrix_df.loc['Total'] = pd.Series(matrix_df['Total Email volume (Bytes)'].sum(), index = ['Total Email volume (Bytes)'])\n",
        "# matrix_df\n",
        "matrix1=matrix_df.sum(axis = 0, skipna = True) \n",
        "matrix1.to_csv(\"mat.csv\",header=['sum'])\n",
        "matrix2=matrix1.to_frame()\n",
        "matrix2\n",
        "\n",
        "\n",
        "type(matrix1)\n",
        "\n",
        "corrMatrix = matrix_df.corr()\n",
        "sns.heatmap(corrMatrix, annot=True)\n",
        "plt.show()"
      ],
      "execution_count": 65,
      "outputs": [
        {
          "output_type": "display_data",
          "data": {
            "image/png": "[encoded data removed]",
            "text/plain": [
              "<Figure size 432x288 with 2 Axes>"
            ]
          },
          "metadata": {
            "tags": [],
            "needs_background": "light"
          }
        }
      ]
    },
    {
      "cell_type": "code",
      "metadata": {
        "id": "d32uYDCilw-l",
        "colab_type": "code",
        "colab": {
          "base_uri": "https://localhost:8080/",
          "height": 142
        },
        "outputId": "a89be266-3af1-4253-ecc8-522c877e3471"
      },
      "source": [
        "matrix1\n",
        "matrix1.sort_values(inplace=True, ascending=False)\n",
        "matrix3=matrix1.to_frame()\n",
        "matrix3.head(3)\n"
      ],
      "execution_count": 66,
      "outputs": [
        {
          "output_type": "execute_result",
          "data": {
            "text/html": [
              "<div>\n",
              "<style scoped>\n",
              "    .dataframe tbody tr th:only-of-type {\n",
              "        vertical-align: middle;\n",
              "    }\n",
              "\n",
              "    .dataframe tbody tr th {\n",
              "        vertical-align: top;\n",
              "    }\n",
              "\n",
              "    .dataframe thead th {\n",
              "        text-align: right;\n",
              "    }\n",
              "</style>\n",
              "<table border=\"1\" class=\"dataframe\">\n",
              "  <thead>\n",
              "    <tr style=\"text-align: right;\">\n",
              "      <th></th>\n",
              "      <th>0</th>\n",
              "    </tr>\n",
              "  </thead>\n",
              "  <tbody>\n",
              "    <tr>\n",
              "      <th>Total Gaming Volume (Bytes)</th>\n",
              "      <td>6.408892e+13</td>\n",
              "    </tr>\n",
              "    <tr>\n",
              "      <th>Total Other Volume(Bytes)</th>\n",
              "      <td>6.395425e+13</td>\n",
              "    </tr>\n",
              "    <tr>\n",
              "      <th>Total Youtube Volume (Bytes)</th>\n",
              "      <td>3.372204e+12</td>\n",
              "    </tr>\n",
              "  </tbody>\n",
              "</table>\n",
              "</div>"
            ],
            "text/plain": [
              "                                         0\n",
              "Total Gaming Volume (Bytes)   6.408892e+13\n",
              "Total Other Volume(Bytes)     6.395425e+13\n",
              "Total Youtube Volume (Bytes)  3.372204e+12"
            ]
          },
          "metadata": {
            "tags": []
          },
          "execution_count": 66
        }
      ]
    },
    {
      "cell_type": "code",
      "metadata": {
        "id": "48N15PShyS11",
        "colab_type": "code",
        "colab": {
          "base_uri": "https://localhost:8080/",
          "height": 294
        },
        "outputId": "92dc3d08-187a-4e1e-fc61-d5e8cb5272c5"
      },
      "source": [
        "\n",
        "matrix2.plot.bar(rot=0)\n"
      ],
      "execution_count": 67,
      "outputs": [
        {
          "output_type": "execute_result",
          "data": {
            "text/plain": [
              "<matplotlib.axes._subplots.AxesSubplot at 0x7fbcb9420780>"
            ]
          },
          "metadata": {
            "tags": []
          },
          "execution_count": 67
        },
        {
          "output_type": "display_data",
          "data": {
            "image/png": "[encoded data removed]",
            "text/plain": [
              "<Figure size 432x288 with 1 Axes>"
            ]
          },
          "metadata": {
            "tags": [],
            "needs_background": "light"
          }
        }
      ]
    },
    {
      "cell_type": "markdown",
      "metadata": {
        "id": "ghIjuNcYI_-k",
        "colab_type": "text"
      },
      "source": [
        "##PCA "
      ]
    },
    {
      "cell_type": "code",
      "metadata": {
        "id": "7mrzSwJqJDaQ",
        "colab_type": "code",
        "colab": {
          "base_uri": "https://localhost:8080/",
          "height": 204
        },
        "outputId": "997f7d65-34a2-4751-8272-5f6d6de93d12"
      },
      "source": [
        "from sklearn import decomposition\n",
        "\n",
        "pca = decomposition.PCA(n_components=2)\n",
        "pc = pca.fit_transform(matrix_df)\n",
        "pc_df = pd.DataFrame(data = pc , \n",
        "        columns = ['PC1', 'PC2'])\n",
        "pc_df.head()\n"
      ],
      "execution_count": 68,
      "outputs": [
        {
          "output_type": "execute_result",
          "data": {
            "text/html": [
              "<div>\n",
              "<style scoped>\n",
              "    .dataframe tbody tr th:only-of-type {\n",
              "        vertical-align: middle;\n",
              "    }\n",
              "\n",
              "    .dataframe tbody tr th {\n",
              "        vertical-align: top;\n",
              "    }\n",
              "\n",
              "    .dataframe thead th {\n",
              "        text-align: right;\n",
              "    }\n",
              "</style>\n",
              "<table border=\"1\" class=\"dataframe\">\n",
              "  <thead>\n",
              "    <tr style=\"text-align: right;\">\n",
              "      <th></th>\n",
              "      <th>PC1</th>\n",
              "      <th>PC2</th>\n",
              "    </tr>\n",
              "  </thead>\n",
              "  <tbody>\n",
              "    <tr>\n",
              "      <th>0</th>\n",
              "      <td>1.948352e+05</td>\n",
              "      <td>3.002591e+08</td>\n",
              "    </tr>\n",
              "    <tr>\n",
              "      <th>1</th>\n",
              "      <td>-5.641688e+08</td>\n",
              "      <td>-1.151704e+08</td>\n",
              "    </tr>\n",
              "    <tr>\n",
              "      <th>2</th>\n",
              "      <td>-1.121405e+08</td>\n",
              "      <td>2.541578e+07</td>\n",
              "    </tr>\n",
              "    <tr>\n",
              "      <th>3</th>\n",
              "      <td>-5.467620e+08</td>\n",
              "      <td>2.509668e+08</td>\n",
              "    </tr>\n",
              "    <tr>\n",
              "      <th>4</th>\n",
              "      <td>6.519344e+08</td>\n",
              "      <td>3.594493e+08</td>\n",
              "    </tr>\n",
              "  </tbody>\n",
              "</table>\n",
              "</div>"
            ],
            "text/plain": [
              "            PC1           PC2\n",
              "0  1.948352e+05  3.002591e+08\n",
              "1 -5.641688e+08 -1.151704e+08\n",
              "2 -1.121405e+08  2.541578e+07\n",
              "3 -5.467620e+08  2.509668e+08\n",
              "4  6.519344e+08  3.594493e+08"
            ]
          },
          "metadata": {
            "tags": []
          },
          "execution_count": 68
        }
      ]
    },
    {
      "cell_type": "code",
      "metadata": {
        "id": "xZByQ2ajKNvS",
        "colab_type": "code",
        "colab": {
          "base_uri": "https://localhost:8080/",
          "height": 279
        },
        "outputId": "6d8361eb-c3c3-48b2-aed8-74c38bcc17ae"
      },
      "source": [
        "dd = pd.DataFrame({'var':pca.explained_variance_ratio_,\n",
        "             'PC':['PC1','PC2']})\n",
        "sns.barplot(x='PC',y=\"var\", \n",
        "           data=dd, color=\"c\");"
      ],
      "execution_count": 69,
      "outputs": [
        {
          "output_type": "display_data",
          "data": {
            "image/png": "[encoded data removed]",
            "text/plain": [
              "<Figure size 432x288 with 1 Axes>"
            ]
          },
          "metadata": {
            "tags": [],
            "needs_background": "light"
          }
        }
      ]
    },
    {
      "cell_type": "code",
      "metadata": {
        "id": "LfMiiPZ3Mf29",
        "colab_type": "code",
        "colab": {
          "base_uri": "https://localhost:8080/",
          "height": 386
        },
        "outputId": "8be070be-fde3-4f12-ae9b-84dd8c975f8d"
      },
      "source": [
        "sns.lmplot( x=\"PC1\", y=\"PC2\",\n",
        "  data=pc_df, \n",
        "  fit_reg=False, \n",
        "  legend=True,\n",
        "  scatter_kws={\"s\": 80})\n"
      ],
      "execution_count": 70,
      "outputs": [
        {
          "output_type": "execute_result",
          "data": {
            "text/plain": [
              "<seaborn.axisgrid.FacetGrid at 0x7fbcb651fe10>"
            ]
          },
          "metadata": {
            "tags": []
          },
          "execution_count": 70
        },
        {
          "output_type": "display_data",
          "data": {
            "image/png": "[encoded data removed]",
            "text/plain": [
              "<Figure size 360x360 with 1 Axes>"
            ]
          },
          "metadata": {
            "tags": [],
            "needs_background": "light"
          }
        }
      ]
    },
    {
      "cell_type": "markdown",
      "metadata": {
        "id": "VJkxPpsbfP7i",
        "colab_type": "text"
      },
      "source": [
        "##K-means engagement(Experience Analytics)\n"
      ]
    },
    {
      "cell_type": "code",
      "metadata": {
        "id": "2PkhcEyLfPN6",
        "colab_type": "code",
        "colab": {
          "base_uri": "https://localhost:8080/",
          "height": 419
        },
        "outputId": "b457929a-ac03-42d8-d6e1-5106ea98d48f"
      },
      "source": [
        "data1 = [rtt_df[\"MSISDN/Number\"],tp_df[\"Total_Avg_TP_(kbps)\"],tcp_df[\"Total_TCP_Retrans\"],rtt_df[\"Total_Avg_RTT\"]]\n",
        "headers = [ \"MSISDN/Number\",\"Total_Avg_TP_(kbps)\", \"Total_TCP_Retrans\",\n",
        "           \"Total_Avg_RTT\",\n",
        "           ]     \n",
        "experience_df = pd.concat(data1, axis=1, keys=headers)\n",
        "experience_df.fillna(experience_df.mean(), inplace=True)\n",
        "experience_df\n",
        "\n",
        "norm_experience=(experience_df-experience_df.min())/(experience_df.max()-experience_df.min())\n",
        "\n",
        "\n",
        "kmeans1 = KMeans(n_clusters=3)\n",
        "\n",
        "y = kmeans1.fit_predict(norm_experience[['Total_Avg_TP_(kbps)', 'Total_TCP_Retrans', 'Total_Avg_RTT',]])\n",
        "\n",
        "norm_experience['Cluster'] = y\n",
        "\n",
        "\n",
        "# print(experience_df)\n",
        "\n",
        "df00 = norm_experience[norm_experience.Cluster==0]\n",
        "df00\n",
        "df11 =  norm_experience[norm_experience.Cluster==1]\n",
        "df11\n",
        "df22 =  norm_experience[norm_experience.Cluster==2]\n",
        "df22\n",
        "\n"
      ],
      "execution_count": 71,
      "outputs": [
        {
          "output_type": "execute_result",
          "data": {
            "text/html": [
              "<div>\n",
              "<style scoped>\n",
              "    .dataframe tbody tr th:only-of-type {\n",
              "        vertical-align: middle;\n",
              "    }\n",
              "\n",
              "    .dataframe tbody tr th {\n",
              "        vertical-align: top;\n",
              "    }\n",
              "\n",
              "    .dataframe thead th {\n",
              "        text-align: right;\n",
              "    }\n",
              "</style>\n",
              "<table border=\"1\" class=\"dataframe\">\n",
              "  <thead>\n",
              "    <tr style=\"text-align: right;\">\n",
              "      <th></th>\n",
              "      <th>MSISDN/Number</th>\n",
              "      <th>Total_Avg_TP_(kbps)</th>\n",
              "      <th>Total_TCP_Retrans</th>\n",
              "      <th>Total_Avg_RTT</th>\n",
              "      <th>Cluster</th>\n",
              "    </tr>\n",
              "  </thead>\n",
              "  <tbody>\n",
              "    <tr>\n",
              "      <th>147</th>\n",
              "      <td>3.154664e-10</td>\n",
              "      <td>0.326117</td>\n",
              "      <td>0.000172</td>\n",
              "      <td>0.002951</td>\n",
              "      <td>2</td>\n",
              "    </tr>\n",
              "    <tr>\n",
              "      <th>166</th>\n",
              "      <td>3.526540e-10</td>\n",
              "      <td>0.189102</td>\n",
              "      <td>0.001245</td>\n",
              "      <td>0.000506</td>\n",
              "      <td>2</td>\n",
              "    </tr>\n",
              "    <tr>\n",
              "      <th>433</th>\n",
              "      <td>1.327992e-09</td>\n",
              "      <td>0.171350</td>\n",
              "      <td>0.000088</td>\n",
              "      <td>0.000898</td>\n",
              "      <td>2</td>\n",
              "    </tr>\n",
              "    <tr>\n",
              "      <th>557</th>\n",
              "      <td>1.891666e-09</td>\n",
              "      <td>0.166886</td>\n",
              "      <td>0.000000</td>\n",
              "      <td>0.001114</td>\n",
              "      <td>2</td>\n",
              "    </tr>\n",
              "    <tr>\n",
              "      <th>636</th>\n",
              "      <td>2.345082e-09</td>\n",
              "      <td>0.177195</td>\n",
              "      <td>0.000168</td>\n",
              "      <td>0.001094</td>\n",
              "      <td>2</td>\n",
              "    </tr>\n",
              "    <tr>\n",
              "      <th>...</th>\n",
              "      <td>...</td>\n",
              "      <td>...</td>\n",
              "      <td>...</td>\n",
              "      <td>...</td>\n",
              "      <td>...</td>\n",
              "    </tr>\n",
              "    <tr>\n",
              "      <th>106272</th>\n",
              "      <td>2.105683e-07</td>\n",
              "      <td>0.164175</td>\n",
              "      <td>0.013550</td>\n",
              "      <td>0.000805</td>\n",
              "      <td>2</td>\n",
              "    </tr>\n",
              "    <tr>\n",
              "      <th>106295</th>\n",
              "      <td>2.106411e-07</td>\n",
              "      <td>0.285686</td>\n",
              "      <td>0.000072</td>\n",
              "      <td>0.000444</td>\n",
              "      <td>2</td>\n",
              "    </tr>\n",
              "    <tr>\n",
              "      <th>106497</th>\n",
              "      <td>2.116965e-07</td>\n",
              "      <td>0.162174</td>\n",
              "      <td>0.001221</td>\n",
              "      <td>0.000887</td>\n",
              "      <td>2</td>\n",
              "    </tr>\n",
              "    <tr>\n",
              "      <th>106845</th>\n",
              "      <td>2.141302e-07</td>\n",
              "      <td>0.156627</td>\n",
              "      <td>0.000336</td>\n",
              "      <td>0.000537</td>\n",
              "      <td>2</td>\n",
              "    </tr>\n",
              "    <tr>\n",
              "      <th>106850</th>\n",
              "      <td>2.141732e-07</td>\n",
              "      <td>0.180753</td>\n",
              "      <td>0.000001</td>\n",
              "      <td>0.000712</td>\n",
              "      <td>2</td>\n",
              "    </tr>\n",
              "  </tbody>\n",
              "</table>\n",
              "<p>2671 rows × 5 columns</p>\n",
              "</div>"
            ],
            "text/plain": [
              "        MSISDN/Number  Total_Avg_TP_(kbps)  ...  Total_Avg_RTT  Cluster\n",
              "147      3.154664e-10             0.326117  ...       0.002951        2\n",
              "166      3.526540e-10             0.189102  ...       0.000506        2\n",
              "433      1.327992e-09             0.171350  ...       0.000898        2\n",
              "557      1.891666e-09             0.166886  ...       0.001114        2\n",
              "636      2.345082e-09             0.177195  ...       0.001094        2\n",
              "...               ...                  ...  ...            ...      ...\n",
              "106272   2.105683e-07             0.164175  ...       0.000805        2\n",
              "106295   2.106411e-07             0.285686  ...       0.000444        2\n",
              "106497   2.116965e-07             0.162174  ...       0.000887        2\n",
              "106845   2.141302e-07             0.156627  ...       0.000537        2\n",
              "106850   2.141732e-07             0.180753  ...       0.000712        2\n",
              "\n",
              "[2671 rows x 5 columns]"
            ]
          },
          "metadata": {
            "tags": []
          },
          "execution_count": 71
        }
      ]
    },
    {
      "cell_type": "code",
      "metadata": {
        "id": "lQWkcWdc6Rkm",
        "colab_type": "code",
        "colab": {
          "base_uri": "https://localhost:8080/",
          "height": 313
        },
        "outputId": "6fc2e430-bf39-4840-ae38-4009cb8db52d"
      },
      "source": [
        "fig = plt.figure()\n",
        "ax = fig.add_subplot(111)\n",
        "scatter = ax.scatter(norm_experience['Total_Avg_TP_(kbps)'],norm_experience['Total_TCP_Retrans'],\n",
        "                     c=kmeans.labels_,s=50)\n",
        "ax.set_title('K-Means Clustering experience clusters')\n",
        "ax.set_xlabel('Total_TCP_Retrans')\n",
        "ax.set_ylabel('Total_Avg_TP_(kbps)')\n",
        "plt.colorbar(scatter)"
      ],
      "execution_count": 72,
      "outputs": [
        {
          "output_type": "execute_result",
          "data": {
            "text/plain": [
              "<matplotlib.colorbar.Colorbar at 0x7fbcb683deb8>"
            ]
          },
          "metadata": {
            "tags": []
          },
          "execution_count": 72
        },
        {
          "output_type": "display_data",
          "data": {
            "image/png": "[encoded data removed]",
            "text/plain": [
              "<Figure size 432x288 with 2 Axes>"
            ]
          },
          "metadata": {
            "tags": [],
            "needs_background": "light"
          }
        }
      ]
    },
    {
      "cell_type": "code",
      "metadata": {
        "id": "7KIqywQpqphJ",
        "colab_type": "code",
        "colab": {
          "base_uri": "https://localhost:8080/",
          "height": 85
        },
        "outputId": "2cebc424-d826-4bfc-e766-c29966bf24eb"
      },
      "source": [
        "norm_experience['Cluster'].value_counts()"
      ],
      "execution_count": 73,
      "outputs": [
        {
          "output_type": "execute_result",
          "data": {
            "text/plain": [
              "0    85244\n",
              "1    18941\n",
              "2     2671\n",
              "Name: Cluster, dtype: int64"
            ]
          },
          "metadata": {
            "tags": []
          },
          "execution_count": 73
        }
      ]
    },
    {
      "cell_type": "code",
      "metadata": {
        "id": "L65NumsVpUEc",
        "colab_type": "code",
        "colab": {
          "base_uri": "https://localhost:8080/",
          "height": 419
        },
        "outputId": "9c19e9cf-e71e-49fb-8991-6a05b1e5a3ba"
      },
      "source": [
        "alldistances1 = kmeans1.fit_transform(norm_experience)\n",
        "# alldistances\n",
        "ddf2=pd.DataFrame(alldistances1)\n",
        "ddf2.columns = ['0','1','2']\n",
        "ddf2"
      ],
      "execution_count": 74,
      "outputs": [
        {
          "output_type": "execute_result",
          "data": {
            "text/html": [
              "<div>\n",
              "<style scoped>\n",
              "    .dataframe tbody tr th:only-of-type {\n",
              "        vertical-align: middle;\n",
              "    }\n",
              "\n",
              "    .dataframe tbody tr th {\n",
              "        vertical-align: top;\n",
              "    }\n",
              "\n",
              "    .dataframe thead th {\n",
              "        text-align: right;\n",
              "    }\n",
              "</style>\n",
              "<table border=\"1\" class=\"dataframe\">\n",
              "  <thead>\n",
              "    <tr style=\"text-align: right;\">\n",
              "      <th></th>\n",
              "      <th>0</th>\n",
              "      <th>1</th>\n",
              "      <th>2</th>\n",
              "    </tr>\n",
              "  </thead>\n",
              "  <tbody>\n",
              "    <tr>\n",
              "      <th>0</th>\n",
              "      <td>1.002775</td>\n",
              "      <td>0.005309</td>\n",
              "      <td>2.013610</td>\n",
              "    </tr>\n",
              "    <tr>\n",
              "      <th>1</th>\n",
              "      <td>1.002773</td>\n",
              "      <td>0.005311</td>\n",
              "      <td>2.013607</td>\n",
              "    </tr>\n",
              "    <tr>\n",
              "      <th>2</th>\n",
              "      <td>1.002774</td>\n",
              "      <td>0.005384</td>\n",
              "      <td>2.013608</td>\n",
              "    </tr>\n",
              "    <tr>\n",
              "      <th>3</th>\n",
              "      <td>1.002760</td>\n",
              "      <td>0.005070</td>\n",
              "      <td>2.013587</td>\n",
              "    </tr>\n",
              "    <tr>\n",
              "      <th>4</th>\n",
              "      <td>0.011797</td>\n",
              "      <td>1.001663</td>\n",
              "      <td>1.014548</td>\n",
              "    </tr>\n",
              "    <tr>\n",
              "      <th>...</th>\n",
              "      <td>...</td>\n",
              "      <td>...</td>\n",
              "      <td>...</td>\n",
              "    </tr>\n",
              "    <tr>\n",
              "      <th>106851</th>\n",
              "      <td>1.001992</td>\n",
              "      <td>0.006221</td>\n",
              "      <td>2.012327</td>\n",
              "    </tr>\n",
              "    <tr>\n",
              "      <th>106852</th>\n",
              "      <td>1.002772</td>\n",
              "      <td>0.005276</td>\n",
              "      <td>2.013605</td>\n",
              "    </tr>\n",
              "    <tr>\n",
              "      <th>106853</th>\n",
              "      <td>1.002788</td>\n",
              "      <td>0.006545</td>\n",
              "      <td>2.013624</td>\n",
              "    </tr>\n",
              "    <tr>\n",
              "      <th>106854</th>\n",
              "      <td>1.073036</td>\n",
              "      <td>0.381913</td>\n",
              "      <td>2.049510</td>\n",
              "    </tr>\n",
              "    <tr>\n",
              "      <th>106855</th>\n",
              "      <td>1.416182</td>\n",
              "      <td>0.999999</td>\n",
              "      <td>2.248259</td>\n",
              "    </tr>\n",
              "  </tbody>\n",
              "</table>\n",
              "<p>106856 rows × 3 columns</p>\n",
              "</div>"
            ],
            "text/plain": [
              "               0         1         2\n",
              "0       1.002775  0.005309  2.013610\n",
              "1       1.002773  0.005311  2.013607\n",
              "2       1.002774  0.005384  2.013608\n",
              "3       1.002760  0.005070  2.013587\n",
              "4       0.011797  1.001663  1.014548\n",
              "...          ...       ...       ...\n",
              "106851  1.001992  0.006221  2.012327\n",
              "106852  1.002772  0.005276  2.013605\n",
              "106853  1.002788  0.006545  2.013624\n",
              "106854  1.073036  0.381913  2.049510\n",
              "106855  1.416182  0.999999  2.248259\n",
              "\n",
              "[106856 rows x 3 columns]"
            ]
          },
          "metadata": {
            "tags": []
          },
          "execution_count": 74
        }
      ]
    },
    {
      "cell_type": "markdown",
      "metadata": {
        "id": "1rsidF0UwqdY",
        "colab_type": "text"
      },
      "source": [
        "##experience score"
      ]
    },
    {
      "cell_type": "code",
      "metadata": {
        "id": "Lzc2HW1NrTwo",
        "colab_type": "code",
        "colab": {
          "base_uri": "https://localhost:8080/",
          "height": 419
        },
        "outputId": "dd3eaab6-d441-49d2-ca00-795e859a1157"
      },
      "source": [
        "#experience scores\n",
        "\n",
        "experience_data= [norm_experience[\"MSISDN/Number\"],ddf2[\"1\"]]\n",
        "headers11 = [\"MSISDN/Number\",\"experience_score\"]  \n",
        "experience_score=pd.concat(experience_data,axis=1,keys=headers11)\n",
        "experience_score\n"
      ],
      "execution_count": 75,
      "outputs": [
        {
          "output_type": "execute_result",
          "data": {
            "text/html": [
              "<div>\n",
              "<style scoped>\n",
              "    .dataframe tbody tr th:only-of-type {\n",
              "        vertical-align: middle;\n",
              "    }\n",
              "\n",
              "    .dataframe tbody tr th {\n",
              "        vertical-align: top;\n",
              "    }\n",
              "\n",
              "    .dataframe thead th {\n",
              "        text-align: right;\n",
              "    }\n",
              "</style>\n",
              "<table border=\"1\" class=\"dataframe\">\n",
              "  <thead>\n",
              "    <tr style=\"text-align: right;\">\n",
              "      <th></th>\n",
              "      <th>MSISDN/Number</th>\n",
              "      <th>experience_score</th>\n",
              "    </tr>\n",
              "  </thead>\n",
              "  <tbody>\n",
              "    <tr>\n",
              "      <th>0</th>\n",
              "      <td>0.000000e+00</td>\n",
              "      <td>0.005309</td>\n",
              "    </tr>\n",
              "    <tr>\n",
              "      <th>1</th>\n",
              "      <td>3.626623e-14</td>\n",
              "      <td>0.005311</td>\n",
              "    </tr>\n",
              "    <tr>\n",
              "      <th>2</th>\n",
              "      <td>8.941893e-13</td>\n",
              "      <td>0.005384</td>\n",
              "    </tr>\n",
              "    <tr>\n",
              "      <th>3</th>\n",
              "      <td>6.924584e-12</td>\n",
              "      <td>0.005070</td>\n",
              "    </tr>\n",
              "    <tr>\n",
              "      <th>4</th>\n",
              "      <td>7.814240e-12</td>\n",
              "      <td>1.001663</td>\n",
              "    </tr>\n",
              "    <tr>\n",
              "      <th>...</th>\n",
              "      <td>...</td>\n",
              "      <td>...</td>\n",
              "    </tr>\n",
              "    <tr>\n",
              "      <th>106851</th>\n",
              "      <td>2.141911e-07</td>\n",
              "      <td>0.006221</td>\n",
              "    </tr>\n",
              "    <tr>\n",
              "      <th>106852</th>\n",
              "      <td>2.141924e-07</td>\n",
              "      <td>0.005276</td>\n",
              "    </tr>\n",
              "    <tr>\n",
              "      <th>106853</th>\n",
              "      <td>3.585166e-03</td>\n",
              "      <td>0.006545</td>\n",
              "    </tr>\n",
              "    <tr>\n",
              "      <th>106854</th>\n",
              "      <td>3.818907e-01</td>\n",
              "      <td>0.381913</td>\n",
              "    </tr>\n",
              "    <tr>\n",
              "      <th>106855</th>\n",
              "      <td>1.000000e+00</td>\n",
              "      <td>0.999999</td>\n",
              "    </tr>\n",
              "  </tbody>\n",
              "</table>\n",
              "<p>106856 rows × 2 columns</p>\n",
              "</div>"
            ],
            "text/plain": [
              "        MSISDN/Number  experience_score\n",
              "0        0.000000e+00          0.005309\n",
              "1        3.626623e-14          0.005311\n",
              "2        8.941893e-13          0.005384\n",
              "3        6.924584e-12          0.005070\n",
              "4        7.814240e-12          1.001663\n",
              "...               ...               ...\n",
              "106851   2.141911e-07          0.006221\n",
              "106852   2.141924e-07          0.005276\n",
              "106853   3.585166e-03          0.006545\n",
              "106854   3.818907e-01          0.381913\n",
              "106855   1.000000e+00          0.999999\n",
              "\n",
              "[106856 rows x 2 columns]"
            ]
          },
          "metadata": {
            "tags": []
          },
          "execution_count": 75
        }
      ]
    },
    {
      "cell_type": "markdown",
      "metadata": {
        "id": "AqirURZns7Yx",
        "colab_type": "text"
      },
      "source": [
        "##satisfaction score"
      ]
    },
    {
      "cell_type": "code",
      "metadata": {
        "id": "Nx7FgiDOs63d",
        "colab_type": "code",
        "colab": {}
      },
      "source": [
        "satisfaction_data= [xdr[\"MSISDN/Number\"],experience_score[\"experience_score\"],ddf[\"1\"]]\n",
        "satisfaction_data\n",
        "headers22=['MSISDN/Number',\"experience_score\",\"engagement_score\"]\n",
        "satisfaction_score=pd.concat(satisfaction_data,axis=1,keys=headers22)\n",
        "satisfaction_score\n",
        "\n",
        "satisfaction_score['satisfaction_score'] = satisfaction_score[['experience_score', 'engagement_score']].mean(axis=1)\n",
        "satisfaction_score.to_csv(\"satis.csv\")"
      ],
      "execution_count": 76,
      "outputs": []
    },
    {
      "cell_type": "code",
      "metadata": {
        "id": "XEahp_SazSTH",
        "colab_type": "code",
        "colab": {}
      },
      "source": [
        "s1=satisfaction_score.nlargest(10,'satisfaction_score')\n",
        "s1.to_csv(\"s.csv\")"
      ],
      "execution_count": 77,
      "outputs": []
    },
    {
      "cell_type": "markdown",
      "metadata": {
        "id": "BAcuOv6QalY2",
        "colab_type": "text"
      },
      "source": [
        "## Regression \n",
        "\n"
      ]
    },
    {
      "cell_type": "code",
      "metadata": {
        "id": "-MJ1CENCavtg",
        "colab_type": "code",
        "colab": {
          "base_uri": "https://localhost:8080/",
          "height": 510
        },
        "outputId": "1baac070-d78a-4844-c05d-9f044a1e13d7"
      },
      "source": [
        "X = satisfaction_score['experience_score']  \n",
        "Y = satisfaction_score['engagement_score']\n",
        "\n",
        "X = X.values.reshape(-1, 1)\n",
        "Y = Y.values.reshape(-1, 1)\n",
        " # with sklearn\n",
        "regr = linear_model.LinearRegression()\n",
        "regr.fit(X, Y)\n",
        "\n",
        "print('Intercept: \\n', regr.intercept_)\n",
        "print('Coefficients: \\n', regr.coef_)\n",
        "\n",
        "\n",
        "\n",
        "# New_experience_score = 2.004168\n",
        "# New_engagement_score = 1.638166\t\n",
        "# print ('Predicted Stock Index Price: \\n', regr.predict([[New_experience_score ,New_engagement_score]]))\n",
        "\n",
        "\n",
        "\n",
        "\n",
        "X = sm.add_constant(X)\n",
        "model = sm.OLS(Y, X).fit()\n",
        "predictions = model.predict(X) \n",
        " \n",
        "print_model = model.summary()\n",
        "print(print_model)"
      ],
      "execution_count": 78,
      "outputs": [
        {
          "output_type": "stream",
          "text": [
            "Intercept: \n",
            " [0.35252202]\n",
            "Coefficients: \n",
            " [[0.47778455]]\n",
            "                            OLS Regression Results                            \n",
            "==============================================================================\n",
            "Dep. Variable:                      y   R-squared:                       0.081\n",
            "Model:                            OLS   Adj. R-squared:                  0.081\n",
            "Method:                 Least Squares   F-statistic:                     9363.\n",
            "Date:                Fri, 28 Aug 2020   Prob (F-statistic):               0.00\n",
            "Time:                        18:31:08   Log-Likelihood:            -1.2310e+05\n",
            "No. Observations:              106856   AIC:                         2.462e+05\n",
            "Df Residuals:                  106854   BIC:                         2.462e+05\n",
            "Df Model:                           1                                         \n",
            "Covariance Type:            nonrobust                                         \n",
            "==============================================================================\n",
            "                 coef    std err          t      P>|t|      [0.025      0.975]\n",
            "------------------------------------------------------------------------------\n",
            "const          0.3525      0.003    134.879      0.000       0.347       0.358\n",
            "x1             0.4778      0.005     96.760      0.000       0.468       0.487\n",
            "==============================================================================\n",
            "Omnibus:                    19238.017   Durbin-Watson:                   2.009\n",
            "Prob(Omnibus):                  0.000   Jarque-Bera (JB):            31865.914\n",
            "Skew:                           1.332   Prob(JB):                         0.00\n",
            "Kurtosis:                       3.254   Cond. No.                         2.25\n",
            "==============================================================================\n",
            "\n",
            "Warnings:\n",
            "[1] Standard Errors assume that the covariance matrix of the errors is correctly specified.\n"
          ],
          "name": "stdout"
        }
      ]
    },
    {
      "cell_type": "markdown",
      "metadata": {
        "id": "dc8SjHt6k5EC",
        "colab_type": "text"
      },
      "source": [
        "##k=means satisfactory analysis\n"
      ]
    },
    {
      "cell_type": "code",
      "metadata": {
        "id": "6b7sur-Qk_FC",
        "colab_type": "code",
        "colab": {
          "base_uri": "https://localhost:8080/",
          "height": 419
        },
        "outputId": "97b8820b-706a-4585-ed6c-dc554c800754"
      },
      "source": [
        "\n",
        "kmeans1 = KMeans(n_clusters=2)\n",
        "\n",
        "y = kmeans1.fit_predict(satisfaction_score[['experience_score', 'engagement_score']])\n",
        "\n",
        "satisfaction_score['Cluster'] = y\n",
        "satisfaction_score"
      ],
      "execution_count": 79,
      "outputs": [
        {
          "output_type": "execute_result",
          "data": {
            "text/html": [
              "<div>\n",
              "<style scoped>\n",
              "    .dataframe tbody tr th:only-of-type {\n",
              "        vertical-align: middle;\n",
              "    }\n",
              "\n",
              "    .dataframe tbody tr th {\n",
              "        vertical-align: top;\n",
              "    }\n",
              "\n",
              "    .dataframe thead th {\n",
              "        text-align: right;\n",
              "    }\n",
              "</style>\n",
              "<table border=\"1\" class=\"dataframe\">\n",
              "  <thead>\n",
              "    <tr style=\"text-align: right;\">\n",
              "      <th></th>\n",
              "      <th>MSISDN/Number</th>\n",
              "      <th>experience_score</th>\n",
              "      <th>engagement_score</th>\n",
              "      <th>satisfaction_score</th>\n",
              "      <th>Cluster</th>\n",
              "    </tr>\n",
              "  </thead>\n",
              "  <tbody>\n",
              "    <tr>\n",
              "      <th>0</th>\n",
              "      <td>3.360100e+10</td>\n",
              "      <td>0.005309</td>\n",
              "      <td>0.043551</td>\n",
              "      <td>0.024430</td>\n",
              "      <td>0</td>\n",
              "    </tr>\n",
              "    <tr>\n",
              "      <th>1</th>\n",
              "      <td>3.360100e+10</td>\n",
              "      <td>0.005311</td>\n",
              "      <td>0.038718</td>\n",
              "      <td>0.022015</td>\n",
              "      <td>0</td>\n",
              "    </tr>\n",
              "    <tr>\n",
              "      <th>2</th>\n",
              "      <td>3.360100e+10</td>\n",
              "      <td>0.005384</td>\n",
              "      <td>0.011763</td>\n",
              "      <td>0.008573</td>\n",
              "      <td>0</td>\n",
              "    </tr>\n",
              "    <tr>\n",
              "      <th>3</th>\n",
              "      <td>3.360101e+10</td>\n",
              "      <td>0.005070</td>\n",
              "      <td>0.009206</td>\n",
              "      <td>0.007138</td>\n",
              "      <td>0</td>\n",
              "    </tr>\n",
              "    <tr>\n",
              "      <th>4</th>\n",
              "      <td>3.360101e+10</td>\n",
              "      <td>1.001663</td>\n",
              "      <td>2.003771</td>\n",
              "      <td>1.502717</td>\n",
              "      <td>1</td>\n",
              "    </tr>\n",
              "    <tr>\n",
              "      <th>...</th>\n",
              "      <td>...</td>\n",
              "      <td>...</td>\n",
              "      <td>...</td>\n",
              "      <td>...</td>\n",
              "      <td>...</td>\n",
              "    </tr>\n",
              "    <tr>\n",
              "      <th>106851</th>\n",
              "      <td>3.379000e+10</td>\n",
              "      <td>0.006221</td>\n",
              "      <td>0.025541</td>\n",
              "      <td>0.015881</td>\n",
              "      <td>0</td>\n",
              "    </tr>\n",
              "    <tr>\n",
              "      <th>106852</th>\n",
              "      <td>3.379000e+10</td>\n",
              "      <td>0.005276</td>\n",
              "      <td>0.003548</td>\n",
              "      <td>0.004412</td>\n",
              "      <td>0</td>\n",
              "    </tr>\n",
              "    <tr>\n",
              "      <th>106853</th>\n",
              "      <td>3.197021e+12</td>\n",
              "      <td>0.006545</td>\n",
              "      <td>0.051235</td>\n",
              "      <td>0.028890</td>\n",
              "      <td>0</td>\n",
              "    </tr>\n",
              "    <tr>\n",
              "      <th>106854</th>\n",
              "      <td>3.370000e+14</td>\n",
              "      <td>0.381913</td>\n",
              "      <td>0.014104</td>\n",
              "      <td>0.198009</td>\n",
              "      <td>0</td>\n",
              "    </tr>\n",
              "    <tr>\n",
              "      <th>106855</th>\n",
              "      <td>8.823971e+14</td>\n",
              "      <td>0.999999</td>\n",
              "      <td>0.057735</td>\n",
              "      <td>0.528867</td>\n",
              "      <td>0</td>\n",
              "    </tr>\n",
              "  </tbody>\n",
              "</table>\n",
              "<p>106856 rows × 5 columns</p>\n",
              "</div>"
            ],
            "text/plain": [
              "        MSISDN/Number  experience_score  ...  satisfaction_score  Cluster\n",
              "0        3.360100e+10          0.005309  ...            0.024430        0\n",
              "1        3.360100e+10          0.005311  ...            0.022015        0\n",
              "2        3.360100e+10          0.005384  ...            0.008573        0\n",
              "3        3.360101e+10          0.005070  ...            0.007138        0\n",
              "4        3.360101e+10          1.001663  ...            1.502717        1\n",
              "...               ...               ...  ...                 ...      ...\n",
              "106851   3.379000e+10          0.006221  ...            0.015881        0\n",
              "106852   3.379000e+10          0.005276  ...            0.004412        0\n",
              "106853   3.197021e+12          0.006545  ...            0.028890        0\n",
              "106854   3.370000e+14          0.381913  ...            0.198009        0\n",
              "106855   8.823971e+14          0.999999  ...            0.528867        0\n",
              "\n",
              "[106856 rows x 5 columns]"
            ]
          },
          "metadata": {
            "tags": []
          },
          "execution_count": 79
        }
      ]
    },
    {
      "cell_type": "code",
      "metadata": {
        "id": "wN9b5xbYlneL",
        "colab_type": "code",
        "colab": {
          "base_uri": "https://localhost:8080/",
          "height": 51
        },
        "outputId": "dbde6899-aa11-4632-f31c-6ebe6cdd52c1"
      },
      "source": [
        "##average per cluster\n",
        "df001 = satisfaction_score[satisfaction_score.Cluster==0]\n",
        "df001\n",
        "\n",
        "print(\"average experience score\",df001[\"experience_score\"].mean())\n",
        "print(\"average satisfaction score\",df001[\"satisfaction_score\"].mean())\n"
      ],
      "execution_count": 80,
      "outputs": [
        {
          "output_type": "stream",
          "text": [
            "average experience score 0.14402651449074313\n",
            "average satisfaction score 0.08507177728187494\n"
          ],
          "name": "stdout"
        }
      ]
    },
    {
      "cell_type": "markdown",
      "metadata": {
        "id": "h9FO0L_cr3kR",
        "colab_type": "text"
      },
      "source": [
        ""
      ]
    },
    {
      "cell_type": "code",
      "metadata": {
        "id": "ByyFdQKbl4Vx",
        "colab_type": "code",
        "colab": {
          "base_uri": "https://localhost:8080/",
          "height": 34
        },
        "outputId": "c25d1477-2fbc-42a0-d15f-474e6d181571"
      },
      "source": [
        "df111 = satisfaction_score[satisfaction_score.Cluster==0]\n",
        "df111[\"satisfaction_score\"].mean() \n"
      ],
      "execution_count": 81,
      "outputs": [
        {
          "output_type": "execute_result",
          "data": {
            "text/plain": [
              "0.08507177728187494"
            ]
          },
          "metadata": {
            "tags": []
          },
          "execution_count": 81
        }
      ]
    },
    {
      "cell_type": "code",
      "metadata": {
        "id": "NPxg6c3D3p_8",
        "colab_type": "code",
        "colab": {
          "base_uri": "https://localhost:8080/",
          "height": 34
        },
        "outputId": "e3421e56-7a94-4b7a-eb8d-f2ece5c83e87"
      },
      "source": [
        "df111 = satisfaction_score[satisfaction_score.Cluster==0]\n",
        "df111[\"experience_score\"].mean() \n"
      ],
      "execution_count": 82,
      "outputs": [
        {
          "output_type": "execute_result",
          "data": {
            "text/plain": [
              "0.14402651449074313"
            ]
          },
          "metadata": {
            "tags": []
          },
          "execution_count": 82
        }
      ]
    },
    {
      "cell_type": "code",
      "metadata": {
        "id": "CQRKG4uj1rxP",
        "colab_type": "code",
        "colab": {
          "base_uri": "https://localhost:8080/",
          "height": 34
        },
        "outputId": "71f113fe-1fa1-4855-da12-f50638f48bdd"
      },
      "source": [
        "df112 = satisfaction_score[satisfaction_score.Cluster==1]\n",
        "df112[\"satisfaction_score\"].mean()"
      ],
      "execution_count": 83,
      "outputs": [
        {
          "output_type": "execute_result",
          "data": {
            "text/plain": [
              "1.1863502692521954"
            ]
          },
          "metadata": {
            "tags": []
          },
          "execution_count": 83
        }
      ]
    },
    {
      "cell_type": "code",
      "metadata": {
        "id": "a7E1FtNu3xdb",
        "colab_type": "code",
        "colab": {
          "base_uri": "https://localhost:8080/",
          "height": 34
        },
        "outputId": "c0063f68-b35e-4b2d-89a4-5cc34d43d1a9"
      },
      "source": [
        "df112 = satisfaction_score[satisfaction_score.Cluster==1]\n",
        "df112[\"experience_score\"].mean()"
      ],
      "execution_count": 84,
      "outputs": [
        {
          "output_type": "execute_result",
          "data": {
            "text/plain": [
              "0.5214649575111897"
            ]
          },
          "metadata": {
            "tags": []
          },
          "execution_count": 84
        }
      ]
    }
  ]
}